{
 "cells": [
  {
   "cell_type": "code",
   "execution_count": 1,
   "id": "78ccb411",
   "metadata": {},
   "outputs": [
    {
     "name": "stderr",
     "output_type": "stream",
     "text": [
      "[nltk_data] Downloading package averaged_perceptron_tagger to\n",
      "[nltk_data]     /home/danielap/nltk_data...\n",
      "[nltk_data]   Package averaged_perceptron_tagger is already up-to-\n",
      "[nltk_data]       date!\n",
      "[nltk_data] Downloading package vader_lexicon to\n",
      "[nltk_data]     /home/danielap/nltk_data...\n",
      "[nltk_data]   Package vader_lexicon is already up-to-date!\n",
      "[nltk_data] Downloading package punkt to /home/danielap/nltk_data...\n",
      "[nltk_data]   Package punkt is already up-to-date!\n",
      "[nltk_data] Downloading package stopwords to\n",
      "[nltk_data]     /home/danielap/nltk_data...\n",
      "[nltk_data]   Package stopwords is already up-to-date!\n",
      "[nltk_data] Downloading package wordnet to /home/danielap/nltk_data...\n",
      "[nltk_data]   Package wordnet is already up-to-date!\n",
      "[nltk_data] Downloading package omw-1.4 to /home/danielap/nltk_data...\n",
      "[nltk_data]   Package omw-1.4 is already up-to-date!\n"
     ]
    }
   ],
   "source": [
    "#importovanie kniznic\n",
    "import pandas as pd\n",
    "import numpy as np\n",
    "import matplotlib.pyplot as plt\n",
    "import seaborn as sns\n",
    "import scipy.stats as stats\n",
    "import jsonlines\n",
    "import json\n",
    "from bs4 import BeautifulSoup\n",
    "import re \n",
    "import nltk\n",
    "from nltk.corpus import stopwords\n",
    "from nltk.stem import PorterStemmer\n",
    "from datetime import datetime\n",
    "import matplotlib.pyplot as plt\n",
    "from nltk.tokenize import word_tokenize\n",
    "from nltk.stem import WordNetLemmatizer\n",
    "from nltk.corpus import wordnet\n",
    "from scipy.stats import shapiro\n",
    "from scipy.stats import kruskal\n",
    "from scipy.stats import ttest_ind, f_oneway\n",
    "from scipy.stats import pearsonr, spearmanr\n",
    "from nltk.tokenize import sent_tokenize, word_tokenize\n",
    "import emoji\n",
    "from nltk.sentiment.vader import SentimentIntensityAnalyzer\n",
    "import nltk\n",
    "from collections import Counter #\n",
    "from sklearn.feature_extraction.text import CountVectorizer\n",
    "from sklearn.preprocessing import MinMaxScaler\n",
    "from sklearn.preprocessing import StandardScaler\n",
    "from sklearn.preprocessing import LabelEncoder\n",
    "import spacy\n",
    "nltk.download('averaged_perceptron_tagger')\n",
    "nltk.download('vader_lexicon')\n",
    "nltk.download('punkt')\n",
    "nltk.download('stopwords')\n",
    "nltk.download('wordnet')\n",
    "nltk.download('omw-1.4')\n",
    "nlp = spacy.load('en_core_web_sm')\n",
    "from sklearn.model_selection import train_test_split\n",
    "from sklearn.ensemble import RandomForestClassifier\n",
    "from sklearn.metrics import accuracy_score, recall_score, precision_score, f1_score, classification_report\n",
    "from scipy.sparse import hstack\n",
    "from scipy.sparse import csr_matrix, hstack\n",
    "from sklearn.metrics import classification_report, confusion_matrix\n",
    "from sklearn import metrics \n",
    "from sklearn.metrics import ConfusionMatrixDisplay\n",
    "from sklearn import svm\n",
    "from sklearn.svm import SVC\n",
    "from sklearn.feature_extraction.text import TfidfVectorizer\n",
    "from langdetect import detect\n",
    "from langdetect import LangDetectException\n",
    "from sklearn.preprocessing import FunctionTransformer, StandardScaler, MinMaxScaler\n",
    "from sklearn.pipeline import Pipeline\n",
    "from sklearn.feature_selection import SelectKBest\n",
    "from sklearn.feature_selection import mutual_info_regression\n",
    "from sklearn.feature_selection import chi2\n",
    "from sklearn.feature_selection import f_regression\n",
    "from sklearn.svm import LinearSVC\n",
    "from sklearn.feature_selection import RFE\n",
    "from sklearn.ensemble import RandomForestClassifier\n",
    "from sklearn.datasets import make_classification\n",
    "from sklearn.feature_selection import SelectFromModel\n",
    "from sklearn.svm import SVC\n",
    "from sklearn.linear_model import LogisticRegression\n",
    "from sklearn.pipeline import make_pipeline\n",
    "from sklearn.model_selection import train_test_split, cross_val_score\n",
    "from sklearn.model_selection import GridSearchCV\n",
    "from nltk import pos_tag\n",
    "from sklearn.tree import DecisionTreeClassifier"
   ]
  },
  {
   "cell_type": "markdown",
   "id": "391431b4",
   "metadata": {},
   "source": [
    "Načítanie datasetu"
   ]
  },
  {
   "cell_type": "code",
   "execution_count": 2,
   "id": "48149ee9",
   "metadata": {},
   "outputs": [],
   "source": [
    "data = []\n",
    "\n",
    "# Otvorte súbor a načítajte každý riadok ako JSON objekt.\n",
    "with open('../datasety/ocisteny_dataset.json', 'r') as file:\n",
    "    for line in file:\n",
    "        try:\n",
    "            json_obj = json.loads(line)\n",
    "            data.append(json_obj)\n",
    "        except json.JSONDecodeError as e:\n",
    "            print(f\"Chyba pri dekódovaní JSON na riadku: {e}\")"
   ]
  },
  {
   "cell_type": "code",
   "execution_count": 3,
   "id": "9fe0d101",
   "metadata": {},
   "outputs": [
    {
     "data": {
      "text/html": [
       "<div>\n",
       "<style scoped>\n",
       "    .dataframe tbody tr th:only-of-type {\n",
       "        vertical-align: middle;\n",
       "    }\n",
       "\n",
       "    .dataframe tbody tr th {\n",
       "        vertical-align: top;\n",
       "    }\n",
       "\n",
       "    .dataframe thead th {\n",
       "        text-align: right;\n",
       "    }\n",
       "</style>\n",
       "<table border=\"1\" class=\"dataframe\">\n",
       "  <thead>\n",
       "    <tr style=\"text-align: right;\">\n",
       "      <th></th>\n",
       "      <th>text</th>\n",
       "      <th>id</th>\n",
       "      <th>occupation</th>\n",
       "      <th>gender</th>\n",
       "      <th>fame</th>\n",
       "      <th>birthyear</th>\n",
       "    </tr>\n",
       "  </thead>\n",
       "  <tbody>\n",
       "    <tr>\n",
       "      <th>0</th>\n",
       "      <td>[People don't know the definition, and use phr...</td>\n",
       "      <td>11683</td>\n",
       "      <td>sports</td>\n",
       "      <td>male</td>\n",
       "      <td>star</td>\n",
       "      <td>1987</td>\n",
       "    </tr>\n",
       "    <tr>\n",
       "      <th>1</th>\n",
       "      <td>[Wrong place to play that game. @CuomoPrimeTim...</td>\n",
       "      <td>42738</td>\n",
       "      <td>creator</td>\n",
       "      <td>male</td>\n",
       "      <td>superstar</td>\n",
       "      <td>1970</td>\n",
       "    </tr>\n",
       "    <tr>\n",
       "      <th>2</th>\n",
       "      <td>[Happy Hump Day! (📸: @dolephoto ) https://t.co...</td>\n",
       "      <td>11006</td>\n",
       "      <td>sports</td>\n",
       "      <td>male</td>\n",
       "      <td>star</td>\n",
       "      <td>1988</td>\n",
       "    </tr>\n",
       "    <tr>\n",
       "      <th>3</th>\n",
       "      <td>[There are actors,there are stars &amp; then there...</td>\n",
       "      <td>28582</td>\n",
       "      <td>performer</td>\n",
       "      <td>male</td>\n",
       "      <td>rising</td>\n",
       "      <td>1990</td>\n",
       "    </tr>\n",
       "    <tr>\n",
       "      <th>4</th>\n",
       "      <td>[https://t.co/Xy7QVbaTlE on Sept 24 I wrote ab...</td>\n",
       "      <td>16463</td>\n",
       "      <td>sports</td>\n",
       "      <td>male</td>\n",
       "      <td>superstar</td>\n",
       "      <td>1962</td>\n",
       "    </tr>\n",
       "  </tbody>\n",
       "</table>\n",
       "</div>"
      ],
      "text/plain": [
       "                                                text     id occupation gender  \\\n",
       "0  [People don't know the definition, and use phr...  11683     sports   male   \n",
       "1  [Wrong place to play that game. @CuomoPrimeTim...  42738    creator   male   \n",
       "2  [Happy Hump Day! (📸: @dolephoto ) https://t.co...  11006     sports   male   \n",
       "3  [There are actors,there are stars & then there...  28582  performer   male   \n",
       "4  [https://t.co/Xy7QVbaTlE on Sept 24 I wrote ab...  16463     sports   male   \n",
       "\n",
       "        fame  birthyear  \n",
       "0       star       1987  \n",
       "1  superstar       1970  \n",
       "2       star       1988  \n",
       "3     rising       1990  \n",
       "4  superstar       1962  "
      ]
     },
     "execution_count": 3,
     "metadata": {},
     "output_type": "execute_result"
    }
   ],
   "source": [
    "combined_data = pd.DataFrame(data)\n",
    "combined_data.head()"
   ]
  },
  {
   "cell_type": "code",
   "execution_count": 4,
   "id": "bfc400d2",
   "metadata": {},
   "outputs": [
    {
     "name": "stdout",
     "output_type": "stream",
     "text": [
      "<class 'pandas.core.frame.DataFrame'>\n",
      "RangeIndex: 4532 entries, 0 to 4531\n",
      "Data columns (total 6 columns):\n",
      " #   Column      Non-Null Count  Dtype \n",
      "---  ------      --------------  ----- \n",
      " 0   text        4532 non-null   object\n",
      " 1   id          4532 non-null   int64 \n",
      " 2   occupation  4532 non-null   object\n",
      " 3   gender      4532 non-null   object\n",
      " 4   fame        4532 non-null   object\n",
      " 5   birthyear   4532 non-null   int64 \n",
      "dtypes: int64(2), object(4)\n",
      "memory usage: 212.6+ KB\n"
     ]
    }
   ],
   "source": [
    "combined_data.info()"
   ]
  },
  {
   "cell_type": "markdown",
   "id": "5a5c39c9",
   "metadata": {},
   "source": [
    "Zistenie veku a zaradenie do vekovej skupiny"
   ]
  },
  {
   "cell_type": "code",
   "execution_count": 5,
   "id": "8dc8215a",
   "metadata": {},
   "outputs": [],
   "source": [
    "current_year = datetime.now().year\n",
    "combined_data['age'] = current_year - combined_data['birthyear']\n",
    "\n",
    "bins = [0, 30, 40, 50, 60, 70, 80, 100]\n",
    "labels = ['0-29', '30-39', '40-49', '50-59', '60-69', '70-79', '80+']\n",
    "combined_data['age_group'] = pd.cut(combined_data['age'], bins=bins, labels=labels, right=False)"
   ]
  },
  {
   "cell_type": "markdown",
   "id": "6088963f",
   "metadata": {},
   "source": [
    "Počet záznamov v jednotlivých vekových kategoriach"
   ]
  },
  {
   "cell_type": "code",
   "execution_count": 6,
   "id": "fdcda38a",
   "metadata": {},
   "outputs": [
    {
     "data": {
      "text/plain": [
       "age_group\n",
       "0-29      192\n",
       "30-39    1309\n",
       "40-49    1225\n",
       "50-59     870\n",
       "60-69     562\n",
       "70-79     303\n",
       "80+        71\n",
       "dtype: int64"
      ]
     },
     "execution_count": 6,
     "metadata": {},
     "output_type": "execute_result"
    }
   ],
   "source": [
    "combined_data.groupby(['age_group']).size()"
   ]
  },
  {
   "cell_type": "code",
   "execution_count": 7,
   "id": "e6c92149",
   "metadata": {},
   "outputs": [],
   "source": [
    "dataset=combined_data.copy()"
   ]
  },
  {
   "cell_type": "markdown",
   "id": "40b3e3b9",
   "metadata": {},
   "source": [
    "## EXTRAKCIA SYNTAKTICKYCH CRT"
   ]
  },
  {
   "cell_type": "markdown",
   "id": "11a3866a",
   "metadata": {},
   "source": [
    "Ako prvé si urobím určité predspracovanie textu"
   ]
  },
  {
   "cell_type": "code",
   "execution_count": 8,
   "id": "279a9528",
   "metadata": {},
   "outputs": [],
   "source": [
    "def preprocess_text_first(text):\n",
    "    if isinstance(text, list):\n",
    "        text = ' '.join(text)\n",
    "    # Odstránenie URL\n",
    "    text = re.sub(r'http\\S+|www\\S+|https\\S+', '', text, flags=re.MULTILINE)\n",
    "    # Odstránenie užívateľských označení (@) a hashtagov (#)\n",
    "    text = re.sub(r'@\\w+|#\\w+', '', text)\n",
    "    # Odstránenie emoji\n",
    "    text = emoji.replace_emoji(text, replace='')\n",
    "     # Odstránenie Unicode kontrolných znakov\n",
    "    text = re.sub(r'[\\u0000-\\u001F\\u0080-\\u009F]', '', text)\n",
    "    # Odstránenie nových riadkov a tabulátorov\n",
    "    text = text.replace('\\n', ' ').replace('\\r', ' ').replace('\\t', ' ')\n",
    "    # Konverzia na malé písmená\n",
    "    text = text.lower()\n",
    "    # Tokenizácia na vety\n",
    "    return text"
   ]
  },
  {
   "cell_type": "markdown",
   "id": "3651957d",
   "metadata": {},
   "source": [
    "Funkcia na rozdelenie textu na vety"
   ]
  },
  {
   "cell_type": "code",
   "execution_count": 9,
   "id": "759a627f",
   "metadata": {},
   "outputs": [],
   "source": [
    "def sentenses_tokenize(text):\n",
    "    if isinstance(text, list):\n",
    "        text = ' '.join(text)\n",
    "    sentences = sent_tokenize(text)#tokenizacia na vety\n",
    "    return sentences"
   ]
  },
  {
   "cell_type": "code",
   "execution_count": 10,
   "id": "c0acb1c1",
   "metadata": {},
   "outputs": [],
   "source": [
    "dataset['processed_text_first'] = dataset['text'].apply(preprocess_text_first)"
   ]
  },
  {
   "cell_type": "code",
   "execution_count": 11,
   "id": "bada29b3",
   "metadata": {},
   "outputs": [],
   "source": [
    "dataset['processed_text_sentences'] = dataset['processed_text_first'].apply(sentenses_tokenize)"
   ]
  },
  {
   "cell_type": "code",
   "execution_count": 12,
   "id": "3cdcf990",
   "metadata": {},
   "outputs": [],
   "source": [
    "dataset['count_sentenses'] = dataset['processed_text_sentences'].apply(len)"
   ]
  },
  {
   "cell_type": "code",
   "execution_count": 13,
   "id": "5556de5a",
   "metadata": {},
   "outputs": [
    {
     "data": {
      "text/plain": [
       "0       329\n",
       "1       663\n",
       "2       770\n",
       "3       155\n",
       "4       710\n",
       "       ... \n",
       "4527    351\n",
       "4528    137\n",
       "4529     30\n",
       "4530    171\n",
       "4531    662\n",
       "Name: count_sentenses, Length: 4532, dtype: int64"
      ]
     },
     "execution_count": 13,
     "metadata": {},
     "output_type": "execute_result"
    }
   ],
   "source": [
    "dataset['count_sentenses']"
   ]
  },
  {
   "cell_type": "markdown",
   "id": "ae4f8f29",
   "metadata": {},
   "source": [
    "PERCENTUALNY POCET OZNAMOVACICH, OPYTOVACICH, ROZKAZOVACICH VIET a INEHO UKONCENIA VETY"
   ]
  },
  {
   "cell_type": "code",
   "execution_count": 14,
   "id": "d43d76c4",
   "metadata": {},
   "outputs": [],
   "source": [
    "def count_sentence_types(sentences):\n",
    "    declarative = sum(1 for s in sentences if s.endswith('.'))#prechadzanie viet a spocitanie tych, ktore maju na konci .\n",
    "    interrogative = sum(1 for s in sentences if s.endswith('?'))#prechadzanie viet a spocitanie tych, ktore maju na konci ?\n",
    "    imperative = sum(1 for s in sentences if s.endswith('!'))#prechadzanie viet a spocitanie tych, ktore maju na konci !\n",
    "    other_ending = sum(1 for s in sentences if not (s.endswith('.') or s.endswith('?') or s.endswith('!'))) #prechadzanie viet a spocitanie tych, ktore maju nieco ine na konci ako ?.!\n",
    "    total = len(sentences)\n",
    "    \n",
    "    # Prevedieme počty na percentuálne podiely zo všetkých viet\n",
    "    declarative_percent = (declarative / total) * 100 if total > 0 else 0\n",
    "    interrogative_percent = (interrogative / total) * 100 if total > 0 else 0\n",
    "    imperative_percent = (imperative / total) * 100 if total > 0 else 0\n",
    "    other_ending_percent = (other_ending / total) * 100 if total > 0 else 0\n",
    "    \n",
    "    return declarative_percent, interrogative_percent, imperative_percent, other_ending_percent"
   ]
  },
  {
   "cell_type": "code",
   "execution_count": 15,
   "id": "0f83c469",
   "metadata": {},
   "outputs": [],
   "source": [
    "sentence_type_counts = dataset['processed_text_sentences'].apply(count_sentence_types)\n",
    "\n",
    "dataset['declarative_percent'] = sentence_type_counts.apply(lambda x: x[0])\n",
    "dataset['interrogative_percent'] = sentence_type_counts.apply(lambda x: x[1])\n",
    "dataset['imperative_percent'] = sentence_type_counts.apply(lambda x: x[2])\n",
    "dataset['other_ending_percent'] = sentence_type_counts.apply(lambda x: x[3])"
   ]
  },
  {
   "cell_type": "code",
   "execution_count": 16,
   "id": "ff9f7303",
   "metadata": {},
   "outputs": [
    {
     "data": {
      "text/plain": [
       "0       90.577508\n",
       "1       76.319759\n",
       "2        8.831169\n",
       "3       41.290323\n",
       "4       91.971831\n",
       "          ...    \n",
       "4527    59.544160\n",
       "4528    40.875912\n",
       "4529    66.666667\n",
       "4530    29.824561\n",
       "4531    80.664653\n",
       "Name: declarative_percent, Length: 4532, dtype: float64"
      ]
     },
     "execution_count": 16,
     "metadata": {},
     "output_type": "execute_result"
    }
   ],
   "source": [
    "dataset['declarative_percent']"
   ]
  },
  {
   "cell_type": "code",
   "execution_count": 17,
   "id": "eda5e05d",
   "metadata": {},
   "outputs": [],
   "source": [
    "min_value = dataset['declarative_percent'].min()\n",
    "max_value = dataset['declarative_percent'].max()\n",
    "average_value = dataset['declarative_percent'].mean()"
   ]
  },
  {
   "cell_type": "code",
   "execution_count": 18,
   "id": "09dd2fa5",
   "metadata": {},
   "outputs": [
    {
     "name": "stdout",
     "output_type": "stream",
     "text": [
      "Najmenší prvok: 0.0\n",
      "Najväčší prvok: 99.5\n",
      "Priemerná hodnota: 53.99594204276129\n"
     ]
    }
   ],
   "source": [
    "print(\"Najmenší prvok:\", min_value)\n",
    "print(\"Najväčší prvok:\", max_value)\n",
    "print(\"Priemerná hodnota:\", average_value)"
   ]
  },
  {
   "cell_type": "code",
   "execution_count": 19,
   "id": "0447acde",
   "metadata": {},
   "outputs": [
    {
     "data": {
      "text/plain": [
       "0        2.431611\n",
       "1       20.211161\n",
       "2        1.168831\n",
       "3        0.645161\n",
       "4        6.478873\n",
       "          ...    \n",
       "4527     7.692308\n",
       "4528     2.189781\n",
       "4529    16.666667\n",
       "4530    56.725146\n",
       "4531     6.797583\n",
       "Name: interrogative_percent, Length: 4532, dtype: float64"
      ]
     },
     "execution_count": 19,
     "metadata": {},
     "output_type": "execute_result"
    }
   ],
   "source": [
    "dataset['interrogative_percent']"
   ]
  },
  {
   "cell_type": "code",
   "execution_count": 20,
   "id": "f55ddc4e",
   "metadata": {},
   "outputs": [],
   "source": [
    "min_value = dataset['interrogative_percent'].min()\n",
    "max_value = dataset['interrogative_percent'].max()\n",
    "average_value = dataset['interrogative_percent'].mean()"
   ]
  },
  {
   "cell_type": "code",
   "execution_count": 21,
   "id": "ca19f5c3",
   "metadata": {},
   "outputs": [
    {
     "name": "stdout",
     "output_type": "stream",
     "text": [
      "Najmenší prvok: 0.0\n",
      "Najväčší prvok: 90.9090909090909\n",
      "Priemerná hodnota: 8.972454973505133\n"
     ]
    }
   ],
   "source": [
    "print(\"Najmenší prvok:\", min_value)\n",
    "print(\"Najväčší prvok:\", max_value)\n",
    "print(\"Priemerná hodnota:\", average_value)"
   ]
  },
  {
   "cell_type": "code",
   "execution_count": 22,
   "id": "fc54c5ff",
   "metadata": {},
   "outputs": [
    {
     "data": {
      "text/plain": [
       "0        6.686930\n",
       "1        2.714932\n",
       "2       89.870130\n",
       "3       57.419355\n",
       "4        0.000000\n",
       "          ...    \n",
       "4527    31.623932\n",
       "4528    56.204380\n",
       "4529    13.333333\n",
       "4530    12.865497\n",
       "4531     6.344411\n",
       "Name: imperative_percent, Length: 4532, dtype: float64"
      ]
     },
     "execution_count": 22,
     "metadata": {},
     "output_type": "execute_result"
    }
   ],
   "source": [
    "dataset['imperative_percent']"
   ]
  },
  {
   "cell_type": "code",
   "execution_count": 23,
   "id": "cffea889",
   "metadata": {},
   "outputs": [],
   "source": [
    "min_value = dataset['imperative_percent'].min()\n",
    "max_value = dataset['imperative_percent'].max()\n",
    "average_value = dataset['imperative_percent'].mean()"
   ]
  },
  {
   "cell_type": "code",
   "execution_count": 24,
   "id": "a7faa403",
   "metadata": {},
   "outputs": [
    {
     "name": "stdout",
     "output_type": "stream",
     "text": [
      "Najmenší prvok: 0.0\n",
      "Najväčší prvok: 99.74424552429667\n",
      "Priemerná hodnota: 35.661241944967664\n"
     ]
    }
   ],
   "source": [
    "print(\"Najmenší prvok:\", min_value)\n",
    "print(\"Najväčší prvok:\", max_value)\n",
    "print(\"Priemerná hodnota:\", average_value)"
   ]
  },
  {
   "cell_type": "code",
   "execution_count": 25,
   "id": "021ff4a8",
   "metadata": {},
   "outputs": [
    {
     "data": {
      "text/plain": [
       "0       0.303951\n",
       "1       0.754148\n",
       "2       0.129870\n",
       "3       0.645161\n",
       "4       1.549296\n",
       "          ...   \n",
       "4527    1.139601\n",
       "4528    0.729927\n",
       "4529    3.333333\n",
       "4530    0.584795\n",
       "4531    6.193353\n",
       "Name: other_ending_percent, Length: 4532, dtype: float64"
      ]
     },
     "execution_count": 25,
     "metadata": {},
     "output_type": "execute_result"
    }
   ],
   "source": [
    "dataset['other_ending_percent']"
   ]
  },
  {
   "cell_type": "code",
   "execution_count": 26,
   "id": "8a380d45",
   "metadata": {},
   "outputs": [],
   "source": [
    "min_value = dataset['other_ending_percent'].min()\n",
    "max_value = dataset['other_ending_percent'].max()\n",
    "average_value = dataset['other_ending_percent'].mean()"
   ]
  },
  {
   "cell_type": "code",
   "execution_count": 27,
   "id": "13c3b1ec",
   "metadata": {},
   "outputs": [
    {
     "name": "stdout",
     "output_type": "stream",
     "text": [
      "Najmenší prvok: 0.0\n",
      "Najväčší prvok: 44.44444444444444\n",
      "Priemerná hodnota: 1.3703610387659064\n"
     ]
    }
   ],
   "source": [
    "print(\"Najmenší prvok:\", min_value)\n",
    "print(\"Najväčší prvok:\", max_value)\n",
    "print(\"Priemerná hodnota:\", average_value)"
   ]
  },
  {
   "cell_type": "markdown",
   "id": "b3b3380c",
   "metadata": {},
   "source": [
    "PRIEMERNY POCET CIAROK NA VETU"
   ]
  },
  {
   "cell_type": "code",
   "execution_count": 28,
   "id": "d7554d1a",
   "metadata": {},
   "outputs": [],
   "source": [
    "def average_commas_per_sentence(sentences):\n",
    "    comma_count = sum(s.count(',') for s in sentences)#prechadzanie viet a pocitanie ciarok\n",
    "    if len(sentences)>0:#osetrenie proti deleniu 0\n",
    "        avg_commas = comma_count / len(sentences)\n",
    "        return avg_commas\n",
    "    return 0"
   ]
  },
  {
   "cell_type": "code",
   "execution_count": 29,
   "id": "2502ddfc",
   "metadata": {},
   "outputs": [],
   "source": [
    "dataset['avg_commas'] = dataset['processed_text_sentences'].apply(average_commas_per_sentence)"
   ]
  },
  {
   "cell_type": "code",
   "execution_count": 30,
   "id": "1b798df6",
   "metadata": {},
   "outputs": [
    {
     "data": {
      "text/plain": [
       "0       0.234043\n",
       "1       0.155354\n",
       "2       0.114286\n",
       "3       0.793548\n",
       "4       0.745070\n",
       "          ...   \n",
       "4527    0.515670\n",
       "4528    0.080292\n",
       "4529    3.400000\n",
       "4530    1.953216\n",
       "4531    0.478852\n",
       "Name: avg_commas, Length: 4532, dtype: float64"
      ]
     },
     "execution_count": 30,
     "metadata": {},
     "output_type": "execute_result"
    }
   ],
   "source": [
    "dataset['avg_commas']"
   ]
  },
  {
   "cell_type": "code",
   "execution_count": 31,
   "id": "b3c84227",
   "metadata": {},
   "outputs": [],
   "source": [
    "min_value = dataset['avg_commas'].min()\n",
    "max_value = dataset['avg_commas'].max()\n",
    "average_value = dataset['avg_commas'].mean()"
   ]
  },
  {
   "cell_type": "code",
   "execution_count": 32,
   "id": "ea627ddf",
   "metadata": {},
   "outputs": [
    {
     "name": "stdout",
     "output_type": "stream",
     "text": [
      "Najmenší prvok: 0.0\n",
      "Najväčší prvok: 28.666666666666668\n",
      "Priemerná hodnota: 0.3892038003746414\n"
     ]
    }
   ],
   "source": [
    "print(\"Najmenší prvok:\", min_value)\n",
    "print(\"Najväčší prvok:\", max_value)\n",
    "print(\"Priemerná hodnota:\", average_value)"
   ]
  },
  {
   "cell_type": "markdown",
   "id": "68d7fef0",
   "metadata": {},
   "source": [
    "Dalšie predspracovanie textu - tokenizacia na slova, pridanie tagov a odstranenie nealfabetickych a nenumerickych slov"
   ]
  },
  {
   "cell_type": "code",
   "execution_count": 33,
   "id": "bbd903b4",
   "metadata": {},
   "outputs": [],
   "source": [
    "def process_text2(text):\n",
    "    # Odstránenie nealfabetických znakov okrem medzier a apostrofov (pre zachovanie skratiek)\n",
    "    text = re.sub(r\"[^a-zA-Z0-9 ']\", '', text)\n",
    "    return text"
   ]
  },
  {
   "cell_type": "code",
   "execution_count": 34,
   "id": "6e5d54b2",
   "metadata": {},
   "outputs": [],
   "source": [
    "def words_and_tokens(text):\n",
    "    words = word_tokenize(text)#rozdelenie na slova\n",
    "    tagged_words = pos_tag(words)#ziskanie tagov pre slova\n",
    "    return words, tagged_words   "
   ]
  },
  {
   "cell_type": "code",
   "execution_count": 35,
   "id": "919c0d1b",
   "metadata": {},
   "outputs": [],
   "source": [
    "dataset['clean_text'] = dataset['processed_text_first'].apply(process_text2)"
   ]
  },
  {
   "cell_type": "code",
   "execution_count": 36,
   "id": "ab4e4be1",
   "metadata": {},
   "outputs": [],
   "source": [
    "words_tags = dataset['clean_text'].apply(words_and_tokens)\n",
    "\n",
    "dataset['words'] = words_tags.apply(lambda x: x[0])#rozdelenie tagov a slov do samostnych stlcov\n",
    "dataset['tagged_words'] = words_tags.apply(lambda x: x[1])"
   ]
  },
  {
   "cell_type": "code",
   "execution_count": 37,
   "id": "68c34bed",
   "metadata": {},
   "outputs": [
    {
     "data": {
      "text/plain": [
       "0       [people, do, n't, know, the, definition, and, ...\n",
       "1       [wrong, place, to, play, that, game, no, reaso...\n",
       "2       [happy, hump, day, a, little, sunday, drive, f...\n",
       "3       [there, are, actorsthere, are, stars, then, th...\n",
       "4       [on, sept, 24, i, wrote, about, offbeatenpath,...\n",
       "                              ...                        \n",
       "4527    [simply, a, stunning, read, and, as, i, 'm, on...\n",
       "4528    [so, sad, we, loved, you, paul, allen, first, ...\n",
       "4529    [vets, undeterred, by, todays, rain, and, wind...\n",
       "4530    [when, will, wee, ka, siong, redeem, mcas, hon...\n",
       "4531    [that, statement, is, many, things, normal, is...\n",
       "Name: words, Length: 4532, dtype: object"
      ]
     },
     "execution_count": 37,
     "metadata": {},
     "output_type": "execute_result"
    }
   ],
   "source": [
    "dataset['words']"
   ]
  },
  {
   "cell_type": "code",
   "execution_count": 38,
   "id": "50a2c4a5",
   "metadata": {},
   "outputs": [
    {
     "data": {
      "text/plain": [
       "0       [(people, NNS), (do, VBP), (n't, RB), (know, V...\n",
       "1       [(wrong, JJ), (place, NN), (to, TO), (play, VB...\n",
       "2       [(happy, JJ), (hump, NN), (day, NN), (a, DT), ...\n",
       "3       [(there, EX), (are, VBP), (actorsthere, RB), (...\n",
       "4       [(on, IN), (sept, JJ), (24, CD), (i, JJ), (wro...\n",
       "                              ...                        \n",
       "4527    [(simply, RB), (a, DT), (stunning, JJ), (read,...\n",
       "4528    [(so, RB), (sad, JJ), (we, PRP), (loved, VBD),...\n",
       "4529    [(vets, NNS), (undeterred, VBN), (by, IN), (to...\n",
       "4530    [(when, WRB), (will, MD), (wee, VB), (ka, VB),...\n",
       "4531    [(that, DT), (statement, NN), (is, VBZ), (many...\n",
       "Name: tagged_words, Length: 4532, dtype: object"
      ]
     },
     "execution_count": 38,
     "metadata": {},
     "output_type": "execute_result"
    }
   ],
   "source": [
    "dataset['tagged_words']"
   ]
  },
  {
   "cell_type": "markdown",
   "id": "8571ff2c",
   "metadata": {},
   "source": [
    "PRIEMERNY POCET PODSTATNYCH MIEN NA VETU"
   ]
  },
  {
   "cell_type": "code",
   "execution_count": 39,
   "id": "34914138",
   "metadata": {},
   "outputs": [],
   "source": [
    "def count_nouns(tagged_words):\n",
    "    noun_tags = {'NN', 'NNS', 'NNP', 'NNPS'}#tagy pre podstatne mena\n",
    "    nouns = [word for word, tag in tagged_words if tag in noun_tags]#prechadzanie tagov a hladanie tagov pre podstatne mena\n",
    "    return len(nouns)"
   ]
  },
  {
   "cell_type": "code",
   "execution_count": 40,
   "id": "c9fe3cc3",
   "metadata": {},
   "outputs": [],
   "source": [
    "# Aplikovanie funkcie count_nouns na každý tweet a výpočet priemeru\n",
    "dataset['noun_count'] = dataset['tagged_words'].apply(count_nouns)\n",
    "dataset['average_nouns_per_tweet'] = dataset.apply(lambda row: row['noun_count'] / len(row['processed_text_sentences']) if len(row['processed_text_sentences']) > 0 else 0, axis=1)#vydelenie pocet pod. mien počtom viet, ošetrenie proti deleniu 0"
   ]
  },
  {
   "cell_type": "code",
   "execution_count": 41,
   "id": "1fb3b9e7",
   "metadata": {},
   "outputs": [],
   "source": [
    "min_value = dataset['average_nouns_per_tweet'].min()\n",
    "max_value = dataset['average_nouns_per_tweet'].max()\n",
    "average_value = dataset['average_nouns_per_tweet'].mean()"
   ]
  },
  {
   "cell_type": "code",
   "execution_count": 42,
   "id": "f23d463b",
   "metadata": {},
   "outputs": [
    {
     "name": "stdout",
     "output_type": "stream",
     "text": [
      "Najmenší prvok: 1.0910138248847927\n",
      "Najväčší prvok: 281.0\n",
      "Priemerná hodnota: 4.700568530911812\n"
     ]
    }
   ],
   "source": [
    "print(\"Najmenší prvok:\", min_value)\n",
    "print(\"Najväčší prvok:\", max_value)\n",
    "print(\"Priemerná hodnota:\", average_value)"
   ]
  },
  {
   "cell_type": "markdown",
   "id": "f78bcac4",
   "metadata": {},
   "source": [
    "PRIEMERNY POCET PRIDAVNYCH MIEN NA VETU"
   ]
  },
  {
   "cell_type": "code",
   "execution_count": 43,
   "id": "8978a272",
   "metadata": {},
   "outputs": [],
   "source": [
    "def count_adjectives(tagged_words):\n",
    "    adjective_tags = {'JJ', 'JJR', 'JJS'}#tagy pre pridavne mena\n",
    "    adjective = [word for word, tag in tagged_words if tag in adjective_tags]#prechadzanie tagov a hladanie tagov pre pridavne mena\n",
    "    return len(adjective)"
   ]
  },
  {
   "cell_type": "code",
   "execution_count": 44,
   "id": "9fea7c4c",
   "metadata": {},
   "outputs": [],
   "source": [
    "dataset['adjective_count'] = dataset['tagged_words'].apply(count_adjectives)\n",
    "dataset['average_adjective_per_tweet'] = dataset.apply(\n",
    "    lambda row: row['adjective_count'] / len(row['processed_text_sentences']) if len(row['processed_text_sentences']) > 0 else 0, axis=1)#vydelenie pocet prid. mien počtom viet, ošetrenie proti deleniu 0"
   ]
  },
  {
   "cell_type": "code",
   "execution_count": 45,
   "id": "bd8e9254",
   "metadata": {},
   "outputs": [],
   "source": [
    "min_value = dataset['average_adjective_per_tweet'].min()\n",
    "max_value = dataset['average_adjective_per_tweet'].max()\n",
    "average_value = dataset['average_adjective_per_tweet'].mean()"
   ]
  },
  {
   "cell_type": "code",
   "execution_count": 46,
   "id": "38711316",
   "metadata": {},
   "outputs": [
    {
     "name": "stdout",
     "output_type": "stream",
     "text": [
      "Najmenší prvok: 0.03324808184143223\n",
      "Najväčší prvok: 111.25\n",
      "Priemerná hodnota: 1.8072572212679316\n"
     ]
    }
   ],
   "source": [
    "print(\"Najmenší prvok:\", min_value)\n",
    "print(\"Najväčší prvok:\", max_value)\n",
    "print(\"Priemerná hodnota:\", average_value)"
   ]
  },
  {
   "cell_type": "markdown",
   "id": "a750c375",
   "metadata": {},
   "source": [
    "PRIEMERNY POCET SLOVIES NA VETU"
   ]
  },
  {
   "cell_type": "code",
   "execution_count": 48,
   "id": "d682ae04",
   "metadata": {},
   "outputs": [],
   "source": [
    "def count_verbs(tagged_words):\n",
    "    verb_tags = {'VB', 'VBD', 'VBG', 'VBN', 'VBP', 'VBZ'}#tagy pre slovesa\n",
    "    verb = [word for word, tag in tagged_words if tag in verb_tags]#PRIEMERNY POCET PODSTATNYCH MIEN NA VETU\n",
    "    return len(verb)"
   ]
  },
  {
   "cell_type": "code",
   "execution_count": 49,
   "id": "a1b5a2f9",
   "metadata": {},
   "outputs": [],
   "source": [
    "dataset['verb_count'] = dataset['tagged_words'].apply(count_verbs)\n",
    "dataset['average_verb_per_tweet'] = dataset.apply(\n",
    "    lambda row: row['verb_count'] / len(row['processed_text_sentences']) if len(row['processed_text_sentences']) > 0 else 0, axis=1) #vydelenie pocet slovies počtom viet, ošetrenie proti deleniu 0"
   ]
  },
  {
   "cell_type": "code",
   "execution_count": 50,
   "id": "a257992e",
   "metadata": {},
   "outputs": [],
   "source": [
    "min_value = dataset['average_verb_per_tweet'].min()\n",
    "max_value = dataset['average_verb_per_tweet'].max()\n",
    "average_value = dataset['average_verb_per_tweet'].mean()"
   ]
  },
  {
   "cell_type": "code",
   "execution_count": 51,
   "id": "3eceb816",
   "metadata": {},
   "outputs": [
    {
     "name": "stdout",
     "output_type": "stream",
     "text": [
      "Najmenší prvok: 0.5626598465473146\n",
      "Najväčší prvok: 210.88888888888889\n",
      "Priemerná hodnota: 3.263608978318603\n"
     ]
    }
   ],
   "source": [
    "print(\"Najmenší prvok:\", min_value)\n",
    "print(\"Najväčší prvok:\", max_value)\n",
    "print(\"Priemerná hodnota:\", average_value)"
   ]
  },
  {
   "cell_type": "markdown",
   "id": "fa017c0c",
   "metadata": {},
   "source": [
    "PRIEMERNY POCET ZAMIEN NA VETU"
   ]
  },
  {
   "cell_type": "code",
   "execution_count": 52,
   "id": "2e9213e4",
   "metadata": {},
   "outputs": [],
   "source": [
    "def count_pronouns(tagged_words):\n",
    "    pronoun_tags = {'PRP', 'PRP$'} #tagy pre zamena\n",
    "    pronouns = [word for word, tag in tagged_words if tag in pronoun_tags]#prechadzanie tagov a hladanie tagov pre zamena\n",
    "    return len(pronouns)"
   ]
  },
  {
   "cell_type": "code",
   "execution_count": 53,
   "id": "c99de98a",
   "metadata": {},
   "outputs": [],
   "source": [
    "dataset['pronoun_count'] = dataset['tagged_words'].apply(count_pronouns)\n",
    "dataset['average_pronoun_per_tweet'] = dataset.apply(\n",
    "    lambda row: row['pronoun_count'] / len(row['processed_text_sentences']) if len(row['processed_text_sentences']) > 0 else 0, axis=1) #vydelenie pocet zamien počtom viet, ošetrenie proti deleniu 0"
   ]
  },
  {
   "cell_type": "code",
   "execution_count": 54,
   "id": "c3ef7149",
   "metadata": {},
   "outputs": [],
   "source": [
    "min_value = dataset['average_pronoun_per_tweet'].min()\n",
    "max_value = dataset['average_pronoun_per_tweet'].max()\n",
    "average_value = dataset['average_pronoun_per_tweet'].mean()"
   ]
  },
  {
   "cell_type": "code",
   "execution_count": 55,
   "id": "f200b627",
   "metadata": {},
   "outputs": [
    {
     "name": "stdout",
     "output_type": "stream",
     "text": [
      "Najmenší prvok: 0.015345268542199489\n",
      "Najväčší prvok: 73.1\n",
      "Priemerná hodnota: 1.1744200217769165\n"
     ]
    }
   ],
   "source": [
    "print(\"Najmenší prvok:\", min_value)\n",
    "print(\"Najväčší prvok:\", max_value)\n",
    "print(\"Priemerná hodnota:\", average_value)"
   ]
  },
  {
   "cell_type": "markdown",
   "id": "98d7031a",
   "metadata": {},
   "source": [
    "PRIEMERNY POCET CISLOVIEK NA VETU"
   ]
  },
  {
   "cell_type": "code",
   "execution_count": 56,
   "id": "60ad0179",
   "metadata": {},
   "outputs": [],
   "source": [
    "def count_numerals(tagged_words):\n",
    "    numeral_tag = {'CD'}  # tagy pre cislovky\n",
    "    numerals = [word for word, tag in tagged_words if tag in numeral_tag]#prechadzanie tagov a hladanie tagov pre cislovky\n",
    "    return len(numerals)"
   ]
  },
  {
   "cell_type": "code",
   "execution_count": 57,
   "id": "a1592e33",
   "metadata": {},
   "outputs": [],
   "source": [
    "dataset['numeral_count'] = dataset['tagged_words'].apply(count_numerals)\n",
    "dataset['average_numeral_per_tweet'] = dataset.apply(\n",
    "    lambda row: row['numeral_count'] / len(row['processed_text_sentences']) if len(row['processed_text_sentences']) > 0 else 0, axis=1)#vydelenie pocet cisloviek počtom viet, ošetrenie proti deleniu 0"
   ]
  },
  {
   "cell_type": "code",
   "execution_count": 58,
   "id": "3e77efb4",
   "metadata": {},
   "outputs": [],
   "source": [
    "min_value = dataset['average_numeral_per_tweet'].min()\n",
    "max_value = dataset['average_numeral_per_tweet'].max()\n",
    "average_value = dataset['average_numeral_per_tweet'].mean()"
   ]
  },
  {
   "cell_type": "code",
   "execution_count": 59,
   "id": "d0eb3e89",
   "metadata": {},
   "outputs": [
    {
     "name": "stdout",
     "output_type": "stream",
     "text": [
      "Najmenší prvok: 0.02750809061488673\n",
      "Najväčší prvok: 33.0\n",
      "Priemerná hodnota: 0.32475402565226624\n"
     ]
    }
   ],
   "source": [
    "print(\"Najmenší prvok:\", min_value)\n",
    "print(\"Najväčší prvok:\", max_value)\n",
    "print(\"Priemerná hodnota:\", average_value)"
   ]
  },
  {
   "cell_type": "markdown",
   "id": "2fce480b",
   "metadata": {},
   "source": [
    "PRIEMERNY POCET PRISLOVIEK NA VETU"
   ]
  },
  {
   "cell_type": "code",
   "execution_count": 60,
   "id": "11b64468",
   "metadata": {},
   "outputs": [],
   "source": [
    "def count_adverbs(tagged_words):\n",
    "    adverb_tags = {'RB', 'RBR', 'RBS'}  # tagy pre príslovky\n",
    "    adverbs = [word for word, tag in tagged_words if tag in adverb_tags]#prechadzanie tagov a hladanie tagov pre prislovky\n",
    "    return len(adverbs)"
   ]
  },
  {
   "cell_type": "code",
   "execution_count": 61,
   "id": "9fe8fd88",
   "metadata": {},
   "outputs": [],
   "source": [
    "dataset['adverb_count'] = dataset['tagged_words'].apply(count_adverbs)\n",
    "dataset['average_adverb_per_tweet'] = dataset.apply(\n",
    "    lambda row: row['adverb_count'] / len(row['processed_text_sentences']) if len(row['processed_text_sentences']) > 0 else 0, axis=1)#vydelenie pocet prisloviek počtom viet, ošetrenie proti deleniu 0"
   ]
  },
  {
   "cell_type": "code",
   "execution_count": 62,
   "id": "605d92ad",
   "metadata": {},
   "outputs": [],
   "source": [
    "min_value = dataset['average_adverb_per_tweet'].min()\n",
    "max_value = dataset['average_adverb_per_tweet'].max()\n",
    "average_value = dataset['average_adverb_per_tweet'].mean()"
   ]
  },
  {
   "cell_type": "code",
   "execution_count": 63,
   "id": "82388953",
   "metadata": {},
   "outputs": [
    {
     "name": "stdout",
     "output_type": "stream",
     "text": [
      "Najmenší prvok: 0.001176470588235294\n",
      "Najväčší prvok: 77.22222222222223\n",
      "Priemerná hodnota: 1.0028289149132286\n"
     ]
    }
   ],
   "source": [
    "print(\"Najmenší prvok:\", min_value)\n",
    "print(\"Najväčší prvok:\", max_value)\n",
    "print(\"Priemerná hodnota:\", average_value)"
   ]
  },
  {
   "cell_type": "markdown",
   "id": "95bf8d53",
   "metadata": {},
   "source": [
    "PRIEMERNY POCET PREDLOZIEK NA VETU"
   ]
  },
  {
   "cell_type": "code",
   "execution_count": 64,
   "id": "aef9ff3e",
   "metadata": {},
   "outputs": [],
   "source": [
    "def count_prepositions(tagged_words):\n",
    "    preposition_tag = {'IN'}  # tagy pre predložky\n",
    "    prepositions = [word for word, tag in tagged_words if tag in preposition_tag]#prechadzanie tagov a hladanie tagov pre predlozky\n",
    "    return len(prepositions)"
   ]
  },
  {
   "cell_type": "code",
   "execution_count": 65,
   "id": "0927cace",
   "metadata": {},
   "outputs": [],
   "source": [
    "dataset['preposition_count'] = dataset['tagged_words'].apply(count_prepositions)\n",
    "dataset['average_preposition_per_tweet'] = dataset.apply(\n",
    "    lambda row: row['preposition_count'] / len(row['processed_text_sentences']) if len(row['processed_text_sentences']) > 0 else 0, axis=1)#vydelenie pocet predloziek počtom viet, ošetrenie proti deleniu 0"
   ]
  },
  {
   "cell_type": "code",
   "execution_count": 66,
   "id": "7098dd56",
   "metadata": {},
   "outputs": [],
   "source": [
    "min_value = dataset['average_preposition_per_tweet'].min()\n",
    "max_value = dataset['average_preposition_per_tweet'].max()\n",
    "average_value = dataset['average_preposition_per_tweet'].mean()"
   ]
  },
  {
   "cell_type": "code",
   "execution_count": 67,
   "id": "7c9a6da3",
   "metadata": {},
   "outputs": [
    {
     "name": "stdout",
     "output_type": "stream",
     "text": [
      "Najmenší prvok: 0.010230179028132993\n",
      "Najväčší prvok: 132.0\n",
      "Priemerná hodnota: 1.8444579336518627\n"
     ]
    }
   ],
   "source": [
    "print(\"Najmenší prvok:\", min_value)\n",
    "print(\"Najväčší prvok:\", max_value)\n",
    "print(\"Priemerná hodnota:\", average_value)"
   ]
  },
  {
   "cell_type": "markdown",
   "id": "265510a0",
   "metadata": {},
   "source": [
    "PRIEMERNY POCET SPOJEK NA VETU"
   ]
  },
  {
   "cell_type": "code",
   "execution_count": 68,
   "id": "35657c3e",
   "metadata": {},
   "outputs": [],
   "source": [
    "def count_conjunctions(tagged_words):\n",
    "    conjunction_tag = {'CC'}  # tagy pre koordinačné spojky\n",
    "    conjunctions = [word for word, tag in tagged_words if tag in conjunction_tag]#prechadzanie tagov a hladanie tagov pre spojky\n",
    "    return len(conjunctions)"
   ]
  },
  {
   "cell_type": "code",
   "execution_count": 69,
   "id": "107ca7c8",
   "metadata": {},
   "outputs": [],
   "source": [
    "dataset['conjunction_count'] = dataset['tagged_words'].apply(count_conjunctions)\n",
    "dataset['average_conjunction_per_tweet'] = dataset.apply(\n",
    "    lambda row: row['conjunction_count'] / len(row['processed_text_sentences']) if len(row['processed_text_sentences']) > 0 else 0, axis=1) #vydelenie pocet spojok počtom viet, ošetrenie proti deleniu 0"
   ]
  },
  {
   "cell_type": "code",
   "execution_count": 70,
   "id": "9b00dc25",
   "metadata": {},
   "outputs": [],
   "source": [
    "min_value = dataset['average_conjunction_per_tweet'].min()\n",
    "max_value = dataset['average_conjunction_per_tweet'].max()\n",
    "average_value = dataset['average_conjunction_per_tweet'].mean()"
   ]
  },
  {
   "cell_type": "code",
   "execution_count": 71,
   "id": "d180eb8c",
   "metadata": {},
   "outputs": [
    {
     "name": "stdout",
     "output_type": "stream",
     "text": [
      "Najmenší prvok: 0.0025575447570332483\n",
      "Najväčší prvok: 32.0\n",
      "Priemerná hodnota: 0.39661365974827373\n"
     ]
    }
   ],
   "source": [
    "print(\"Najmenší prvok:\", min_value)\n",
    "print(\"Najväčší prvok:\", max_value)\n",
    "print(\"Priemerná hodnota:\", average_value)"
   ]
  },
  {
   "cell_type": "markdown",
   "id": "8922180d",
   "metadata": {},
   "source": [
    "PRIEMERNY POCET CASTIC NA VETU"
   ]
  },
  {
   "cell_type": "code",
   "execution_count": 74,
   "id": "9ae7e6a2",
   "metadata": {},
   "outputs": [],
   "source": [
    "def count_particles(tagged_words):\n",
    "    particle_tag = {'RP'}  # tagy pre častice\n",
    "    particles = [word for word, tag in tagged_words if tag in particle_tag]#prechadzanie tagov a hladanie tagov pre castice\n",
    "    return len(particles)"
   ]
  },
  {
   "cell_type": "code",
   "execution_count": 75,
   "id": "96afad00",
   "metadata": {},
   "outputs": [],
   "source": [
    "dataset['particle_count'] = dataset['tagged_words'].apply(count_particles)\n",
    "dataset['average_particle_per_tweet'] = dataset.apply(lambda row: row['particle_count'] / len(row['processed_text_sentences']) if len(row['processed_text_sentences']) > 0 else 0, axis=1) #vydelenie pocet castic počtom viet, ošetrenie proti deleniu 0"
   ]
  },
  {
   "cell_type": "code",
   "execution_count": 76,
   "id": "b6cbdb89",
   "metadata": {},
   "outputs": [],
   "source": [
    "min_value = dataset['average_particle_per_tweet'].min()\n",
    "max_value = dataset['average_particle_per_tweet'].max()\n",
    "average_value = dataset['average_particle_per_tweet'].mean()"
   ]
  },
  {
   "cell_type": "code",
   "execution_count": 77,
   "id": "84b5ac13",
   "metadata": {},
   "outputs": [
    {
     "name": "stdout",
     "output_type": "stream",
     "text": [
      "Najmenší prvok: 0.0\n",
      "Najväčší prvok: 8.25\n",
      "Priemerná hodnota: 0.11618598574546854\n"
     ]
    }
   ],
   "source": [
    "print(\"Najmenší prvok:\", min_value)\n",
    "print(\"Najväčší prvok:\", max_value)\n",
    "print(\"Priemerná hodnota:\", average_value)"
   ]
  },
  {
   "cell_type": "markdown",
   "id": "fdda8dba",
   "metadata": {},
   "source": [
    "PRIEMERNY POCET CITOSLOVIEC NA VETU"
   ]
  },
  {
   "cell_type": "code",
   "execution_count": 78,
   "id": "2849dd8d",
   "metadata": {},
   "outputs": [],
   "source": [
    "def count_interjections(tagged_words):\n",
    "    interjection_tag = {'UH'}  # tagy pre citoslovce\n",
    "    interjections = [word for word, tag in tagged_words if tag in interjection_tag]#prechadzanie tagov a hladanie tagov pre citoslovcia\n",
    "    return len(interjections)"
   ]
  },
  {
   "cell_type": "code",
   "execution_count": 79,
   "id": "e7c65021",
   "metadata": {},
   "outputs": [],
   "source": [
    "dataset['interjection_count'] = dataset['tagged_words'].apply(count_interjections)\n",
    "dataset['average_interjection_per_tweet'] = dataset.apply(\n",
    "    lambda row: row['interjection_count'] / len(row['processed_text_sentences']) if len(row['processed_text_sentences']) > 0 else 0, axis=1) #vydelenie pocet citosloviec počtom viet, ošetrenie proti deleniu 0"
   ]
  },
  {
   "cell_type": "code",
   "execution_count": 80,
   "id": "5113eee0",
   "metadata": {},
   "outputs": [],
   "source": [
    "min_value = dataset['average_interjection_per_tweet'].min()\n",
    "max_value = dataset['average_interjection_per_tweet'].max()\n",
    "average_value = dataset['average_interjection_per_tweet'].mean()"
   ]
  },
  {
   "cell_type": "code",
   "execution_count": 81,
   "id": "9f5a869b",
   "metadata": {},
   "outputs": [
    {
     "name": "stdout",
     "output_type": "stream",
     "text": [
      "Najmenší prvok: 0.0\n",
      "Najväčší prvok: 0.25\n",
      "Priemerná hodnota: 0.003211766655955052\n"
     ]
    }
   ],
   "source": [
    "print(\"Najmenší prvok:\", min_value)\n",
    "print(\"Najväčší prvok:\", max_value)\n",
    "print(\"Priemerná hodnota:\", average_value)"
   ]
  },
  {
   "cell_type": "markdown",
   "id": "3f183ed7",
   "metadata": {},
   "source": [
    "POCET POUZITI MINULEHO CASU NA TWEET"
   ]
  },
  {
   "cell_type": "code",
   "execution_count": 82,
   "id": "b386c24a",
   "metadata": {},
   "outputs": [],
   "source": [
    "def count_past_tense(tagged_words):\n",
    "    past_tense_tags = {'VBD', 'VBN'}#tagy pre slovesa s minulym casom\n",
    "    count = len([word for word, tag in tagged_words if tag in past_tense_tags])#prechadzanie tagov a hladanie tagov pre slovesa s minulym casom\n",
    "    return count\n"
   ]
  },
  {
   "cell_type": "code",
   "execution_count": 83,
   "id": "7fea6596",
   "metadata": {},
   "outputs": [],
   "source": [
    "dataset['past_tense_count'] = dataset['tagged_words'].apply(count_past_tense)"
   ]
  },
  {
   "cell_type": "code",
   "execution_count": 84,
   "id": "ea508cbf",
   "metadata": {},
   "outputs": [],
   "source": [
    "dataset['average_past_tense_per_tweet'] = dataset.apply(lambda row: row['past_tense_count'] / len(row['text']) if len(row['text']) > 0 else 0, axis=1)#vydelenie pocet slovies s minulym casom počtom viet, ošetrenie proti deleniu 0"
   ]
  },
  {
   "cell_type": "code",
   "execution_count": 85,
   "id": "457025f5",
   "metadata": {},
   "outputs": [
    {
     "data": {
      "text/plain": [
       "0       196\n",
       "1       354\n",
       "2       234\n",
       "3       123\n",
       "4       674\n",
       "       ... \n",
       "4527    235\n",
       "4528     66\n",
       "4529    142\n",
       "4530    418\n",
       "4531    475\n",
       "Name: past_tense_count, Length: 4532, dtype: int64"
      ]
     },
     "execution_count": 85,
     "metadata": {},
     "output_type": "execute_result"
    }
   ],
   "source": [
    "dataset['past_tense_count']"
   ]
  },
  {
   "cell_type": "code",
   "execution_count": 86,
   "id": "4ac96db8",
   "metadata": {},
   "outputs": [
    {
     "data": {
      "text/plain": [
       "0       0.509091\n",
       "1       1.095975\n",
       "2       0.569343\n",
       "3       0.333333\n",
       "4       1.418947\n",
       "          ...   \n",
       "4527    0.729814\n",
       "4528    0.212219\n",
       "4529    0.334118\n",
       "4530    0.865424\n",
       "4531    1.338028\n",
       "Name: average_past_tense_per_tweet, Length: 4532, dtype: float64"
      ]
     },
     "execution_count": 86,
     "metadata": {},
     "output_type": "execute_result"
    }
   ],
   "source": [
    "dataset['average_past_tense_per_tweet']"
   ]
  },
  {
   "cell_type": "code",
   "execution_count": 87,
   "id": "62ca9d69",
   "metadata": {},
   "outputs": [],
   "source": [
    "min_value = dataset['average_past_tense_per_tweet'].min()\n",
    "max_value = dataset['average_past_tense_per_tweet'].max()\n",
    "average_value = dataset['average_past_tense_per_tweet'].mean()"
   ]
  },
  {
   "cell_type": "code",
   "execution_count": 88,
   "id": "7ecd9aa7",
   "metadata": {},
   "outputs": [
    {
     "name": "stdout",
     "output_type": "stream",
     "text": [
      "Najmenší prvok: 0.002070393374741201\n",
      "Najväčší prvok: 2.199453551912568\n",
      "Priemerná hodnota: 0.5956320766391666\n"
     ]
    }
   ],
   "source": [
    "print(\"Najmenší prvok:\", min_value)\n",
    "print(\"Najväčší prvok:\", max_value)\n",
    "print(\"Priemerná hodnota:\", average_value)"
   ]
  },
  {
   "cell_type": "markdown",
   "id": "01175e30",
   "metadata": {},
   "source": [
    "POCET POUZITI PRITOMNEHO CASU NA TWEET"
   ]
  },
  {
   "cell_type": "code",
   "execution_count": 89,
   "id": "63371ce1",
   "metadata": {},
   "outputs": [],
   "source": [
    "def count_present_tense(tagged_words):\n",
    "    present_tense_tags = {'VBP', 'VBZ', 'VBG'}  # #tagy pre slovesa s pritomnym casom\n",
    "    count = len([word for word, tag in tagged_words if tag in present_tense_tags])#prechadzanie tagov a hladanie tagov pre slovesa s pritomnym casom\n",
    "    return count"
   ]
  },
  {
   "cell_type": "code",
   "execution_count": 90,
   "id": "89e8ef6d",
   "metadata": {},
   "outputs": [],
   "source": [
    "dataset['present_tense_count'] = dataset['tagged_words'].apply(count_present_tense)"
   ]
  },
  {
   "cell_type": "code",
   "execution_count": 91,
   "id": "8b6fc7cc",
   "metadata": {},
   "outputs": [],
   "source": [
    "dataset['average_present_tense_per_tweet'] = dataset.apply(lambda row: row['present_tense_count'] / len(row['text']) if len(row['text']) > 0 else 0, axis=1)#vydelenie pocet slovies s pritomnym casom počtom viet, ošetrenie proti deleniu 0"
   ]
  },
  {
   "cell_type": "code",
   "execution_count": 92,
   "id": "e5297119",
   "metadata": {},
   "outputs": [
    {
     "name": "stdout",
     "output_type": "stream",
     "text": [
      "0        693\n",
      "1       1043\n",
      "2        411\n",
      "3        383\n",
      "4       1092\n",
      "        ... \n",
      "4527     597\n",
      "4528     220\n",
      "4529     327\n",
      "4530     755\n",
      "4531     749\n",
      "Name: present_tense_count, Length: 4532, dtype: int64\n"
     ]
    }
   ],
   "source": [
    "print(dataset['present_tense_count'])"
   ]
  },
  {
   "cell_type": "code",
   "execution_count": 93,
   "id": "f54305e1",
   "metadata": {},
   "outputs": [
    {
     "data": {
      "text/plain": [
       "0       1.800000\n",
       "1       3.229102\n",
       "2       1.000000\n",
       "3       1.037940\n",
       "4       2.298947\n",
       "          ...   \n",
       "4527    1.854037\n",
       "4528    0.707395\n",
       "4529    0.769412\n",
       "4530    1.563147\n",
       "4531    2.109859\n",
       "Name: average_present_tense_per_tweet, Length: 4532, dtype: float64"
      ]
     },
     "execution_count": 93,
     "metadata": {},
     "output_type": "execute_result"
    }
   ],
   "source": [
    "dataset['average_present_tense_per_tweet']"
   ]
  },
  {
   "cell_type": "code",
   "execution_count": 94,
   "id": "f84ca041",
   "metadata": {},
   "outputs": [],
   "source": [
    "min_value = dataset['average_present_tense_per_tweet'].min()\n",
    "max_value = dataset['average_present_tense_per_tweet'].max()\n",
    "average_value = dataset['average_present_tense_per_tweet'].mean()"
   ]
  },
  {
   "cell_type": "code",
   "execution_count": 95,
   "id": "1e043993",
   "metadata": {},
   "outputs": [
    {
     "name": "stdout",
     "output_type": "stream",
     "text": [
      "Najmenší prvok: 0.15330188679245282\n",
      "Najväčší prvok: 4.521459227467811\n",
      "Priemerná hodnota: 1.4349418371440268\n"
     ]
    }
   ],
   "source": [
    "print(\"Najmenší prvok:\", min_value)\n",
    "print(\"Najväčší prvok:\", max_value)\n",
    "print(\"Priemerná hodnota:\", average_value)"
   ]
  },
  {
   "cell_type": "markdown",
   "id": "02769430",
   "metadata": {},
   "source": [
    "SYNTAKTICKE ZAVISLOSTI - VYJADRENY POCET PODMETOV, PRIAMY OBJEKTOV ,PRISLOVKOVYCH URCENI, PRIVLASTKOV A POMOCNYCH SLOVIES NA TWEET"
   ]
  },
  {
   "cell_type": "code",
   "execution_count": 96,
   "id": "8aec8294",
   "metadata": {},
   "outputs": [],
   "source": [
    "def count_dependencies(text, nlp):\n",
    "    # Spracovanie textu pomocou spaCy\n",
    "    doc = nlp(text)\n",
    "    # Počítanie závislostí\n",
    "    dep_counts = Counter(token.dep_ for token in doc)\n",
    "    return dep_counts"
   ]
  },
  {
   "cell_type": "code",
   "execution_count": 97,
   "id": "dee004d5",
   "metadata": {},
   "outputs": [],
   "source": [
    "dataset['dependency_counts'] = dataset['clean_text'].apply(lambda text: count_dependencies(text, nlp))"
   ]
  },
  {
   "cell_type": "code",
   "execution_count": 98,
   "id": "d44f6a2b",
   "metadata": {},
   "outputs": [],
   "source": [
    "# Prechádza zoznam syntaktických závislostí a pre každú z nich počíta počet a priemer na tweet\n",
    "for dep_type in ['nsubj', 'dobj', 'advmod', 'amod', 'aux']:\n",
    "    # Vytvorí nový stĺpec v DataFrame pre každý typ závislosti s počtom výskytov v tweetoch\n",
    "    dataset[f'{dep_type}_count'] = dataset['dependency_counts'].apply(lambda x: x.get(dep_type, 0))\n",
    "    \n",
    "    # Vytvorí nový stĺpec v DataFrame pre každý typ závislosti s priemerným počtom výskytov na tweet\n",
    "    # Výpočet sa vykoná len ak je dĺžka textu tweetu väčšia ako 0, aby sa predišlo deleniu nulou\n",
    "    dataset[f'avg_{dep_type}_per_tweet'] = dataset.apply(lambda row: row[f'{dep_type}_count'] / len(row['text']) if len(row['text']) > 0 else 0, axis=1)"
   ]
  },
  {
   "cell_type": "code",
   "execution_count": 99,
   "id": "b3e2fe8e",
   "metadata": {},
   "outputs": [
    {
     "data": {
      "text/html": [
       "<div>\n",
       "<style scoped>\n",
       "    .dataframe tbody tr th:only-of-type {\n",
       "        vertical-align: middle;\n",
       "    }\n",
       "\n",
       "    .dataframe tbody tr th {\n",
       "        vertical-align: top;\n",
       "    }\n",
       "\n",
       "    .dataframe thead th {\n",
       "        text-align: right;\n",
       "    }\n",
       "</style>\n",
       "<table border=\"1\" class=\"dataframe\">\n",
       "  <thead>\n",
       "    <tr style=\"text-align: right;\">\n",
       "      <th></th>\n",
       "      <th>avg_nsubj_per_tweet</th>\n",
       "      <th>avg_dobj_per_tweet</th>\n",
       "      <th>avg_advmod_per_tweet</th>\n",
       "      <th>avg_amod_per_tweet</th>\n",
       "      <th>avg_aux_per_tweet</th>\n",
       "    </tr>\n",
       "  </thead>\n",
       "  <tbody>\n",
       "    <tr>\n",
       "      <th>0</th>\n",
       "      <td>1.987013</td>\n",
       "      <td>1.072727</td>\n",
       "      <td>0.825974</td>\n",
       "      <td>0.524675</td>\n",
       "      <td>0.989610</td>\n",
       "    </tr>\n",
       "    <tr>\n",
       "      <th>1</th>\n",
       "      <td>2.965944</td>\n",
       "      <td>1.535604</td>\n",
       "      <td>1.560372</td>\n",
       "      <td>1.018576</td>\n",
       "      <td>1.541796</td>\n",
       "    </tr>\n",
       "    <tr>\n",
       "      <th>2</th>\n",
       "      <td>1.021898</td>\n",
       "      <td>0.880779</td>\n",
       "      <td>0.705596</td>\n",
       "      <td>0.980535</td>\n",
       "      <td>0.525547</td>\n",
       "    </tr>\n",
       "    <tr>\n",
       "      <th>3</th>\n",
       "      <td>0.769648</td>\n",
       "      <td>0.663957</td>\n",
       "      <td>0.566396</td>\n",
       "      <td>0.918699</td>\n",
       "      <td>0.349593</td>\n",
       "    </tr>\n",
       "    <tr>\n",
       "      <th>4</th>\n",
       "      <td>2.166316</td>\n",
       "      <td>1.595789</td>\n",
       "      <td>1.307368</td>\n",
       "      <td>1.467368</td>\n",
       "      <td>1.343158</td>\n",
       "    </tr>\n",
       "  </tbody>\n",
       "</table>\n",
       "</div>"
      ],
      "text/plain": [
       "   avg_nsubj_per_tweet  avg_dobj_per_tweet  avg_advmod_per_tweet  \\\n",
       "0             1.987013            1.072727              0.825974   \n",
       "1             2.965944            1.535604              1.560372   \n",
       "2             1.021898            0.880779              0.705596   \n",
       "3             0.769648            0.663957              0.566396   \n",
       "4             2.166316            1.595789              1.307368   \n",
       "\n",
       "   avg_amod_per_tweet  avg_aux_per_tweet  \n",
       "0            0.524675           0.989610  \n",
       "1            1.018576           1.541796  \n",
       "2            0.980535           0.525547  \n",
       "3            0.918699           0.349593  \n",
       "4            1.467368           1.343158  "
      ]
     },
     "execution_count": 99,
     "metadata": {},
     "output_type": "execute_result"
    }
   ],
   "source": [
    "dataset[['avg_nsubj_per_tweet', 'avg_dobj_per_tweet', 'avg_advmod_per_tweet', 'avg_amod_per_tweet', 'avg_aux_per_tweet']].head()"
   ]
  },
  {
   "cell_type": "code",
   "execution_count": 100,
   "id": "7e3e721b",
   "metadata": {},
   "outputs": [],
   "source": [
    "# Vytvára slovník s priemernými, minimálnymi a maximálnymi hodnotami každého typu syntaktickej závislosti na tweet\n",
    "dependency_averages = {\n",
    "    dep_type: {\n",
    "        'mean': dataset[f'avg_{dep_type}_per_tweet'].mean(),  # Vypočíta priemer pre daný typ závislosti\n",
    "        'min': dataset[f'avg_{dep_type}_per_tweet'].min(),    # Vypočíta minimálnu hodnotu pre daný typ závislosti\n",
    "        'max': dataset[f'avg_{dep_type}_per_tweet'].max()     # Vypočíta maximálnu hodnotu pre daný typ závislosti\n",
    "    }\n",
    "    for dep_type in ['nsubj', 'dobj', 'advmod', 'amod', 'aux']  # Pre každý typ závislosti v zozname\n",
    "}"
   ]
  },
  {
   "cell_type": "code",
   "execution_count": 101,
   "id": "7c5d343d",
   "metadata": {},
   "outputs": [
    {
     "name": "stdout",
     "output_type": "stream",
     "text": [
      "Typ závislosti nsubj: Priemer: 1.345580933489145, Min: 0.09762532981530343, Max: 4.3031578947368425\n",
      "Typ závislosti dobj: Priemer: 0.9653559144009889, Min: 0.09905660377358491, Max: 3.774736842105263\n",
      "Typ závislosti advmod: Priemer: 0.8448950439946028, Min: 0.002070393374741201, Max: 3.002439024390244\n",
      "Typ závislosti amod: Priemer: 0.9360460933560846, Min: 0.0175, Max: 3.536656891495601\n",
      "Typ závislosti aux: Priemer: 0.725899968808449, Min: 0.005, Max: 2.608988764044944\n"
     ]
    }
   ],
   "source": [
    "# Vypíše priemernú, minimálnu a maximálnu početnosť každého typu závislosti na tweet\n",
    "for dep_type, metrics in dependency_averages.items():\n",
    "    print(f\"Typ závislosti {dep_type}: Priemer: {metrics['mean']}, Min: {metrics['min']}, Max: {metrics['max']}\")"
   ]
  },
  {
   "cell_type": "code",
   "execution_count": 102,
   "id": "2ca5a007",
   "metadata": {},
   "outputs": [
    {
     "name": "stdout",
     "output_type": "stream",
     "text": [
      "<class 'pandas.core.frame.DataFrame'>\n",
      "RangeIndex: 4532 entries, 0 to 4531\n",
      "Data columns (total 54 columns):\n",
      " #   Column                           Non-Null Count  Dtype   \n",
      "---  ------                           --------------  -----   \n",
      " 0   text                             4532 non-null   object  \n",
      " 1   id                               4532 non-null   int64   \n",
      " 2   occupation                       4532 non-null   object  \n",
      " 3   gender                           4532 non-null   object  \n",
      " 4   fame                             4532 non-null   object  \n",
      " 5   birthyear                        4532 non-null   int64   \n",
      " 6   age                              4532 non-null   int64   \n",
      " 7   age_group                        4532 non-null   category\n",
      " 8   processed_text_first             4532 non-null   object  \n",
      " 9   processed_text_sentences         4532 non-null   object  \n",
      " 10  count_sentenses                  4532 non-null   int64   \n",
      " 11  declarative_percent              4532 non-null   float64 \n",
      " 12  interrogative_percent            4532 non-null   float64 \n",
      " 13  imperative_percent               4532 non-null   float64 \n",
      " 14  other_ending_percent             4532 non-null   float64 \n",
      " 15  avg_commas                       4532 non-null   float64 \n",
      " 16  clean_text                       4532 non-null   object  \n",
      " 17  words                            4532 non-null   object  \n",
      " 18  tagged_words                     4532 non-null   object  \n",
      " 19  noun_count                       4532 non-null   int64   \n",
      " 20  average_nouns_per_tweet          4532 non-null   float64 \n",
      " 21  adjective_count                  4532 non-null   int64   \n",
      " 22  average_adjective_per_tweet      4532 non-null   float64 \n",
      " 23  verb_count                       4532 non-null   int64   \n",
      " 24  average_verb_per_tweet           4532 non-null   float64 \n",
      " 25  pronoun_count                    4532 non-null   int64   \n",
      " 26  average_pronoun_per_tweet        4532 non-null   float64 \n",
      " 27  numeral_count                    4532 non-null   int64   \n",
      " 28  average_numeral_per_tweet        4532 non-null   float64 \n",
      " 29  adverb_count                     4532 non-null   int64   \n",
      " 30  average_adverb_per_tweet         4532 non-null   float64 \n",
      " 31  preposition_count                4532 non-null   int64   \n",
      " 32  average_preposition_per_tweet    4532 non-null   float64 \n",
      " 33  conjunction_count                4532 non-null   int64   \n",
      " 34  average_conjunction_per_tweet    4532 non-null   float64 \n",
      " 35  particle_count                   4532 non-null   int64   \n",
      " 36  average_particle_per_tweet       4532 non-null   float64 \n",
      " 37  interjection_count               4532 non-null   int64   \n",
      " 38  average_interjection_per_tweet   4532 non-null   float64 \n",
      " 39  past_tense_count                 4532 non-null   int64   \n",
      " 40  average_past_tense_per_tweet     4532 non-null   float64 \n",
      " 41  present_tense_count              4532 non-null   int64   \n",
      " 42  average_present_tense_per_tweet  4532 non-null   float64 \n",
      " 43  dependency_counts                4532 non-null   object  \n",
      " 44  nsubj_count                      4532 non-null   int64   \n",
      " 45  avg_nsubj_per_tweet              4532 non-null   float64 \n",
      " 46  dobj_count                       4532 non-null   int64   \n",
      " 47  avg_dobj_per_tweet               4532 non-null   float64 \n",
      " 48  advmod_count                     4532 non-null   int64   \n",
      " 49  avg_advmod_per_tweet             4532 non-null   float64 \n",
      " 50  amod_count                       4532 non-null   int64   \n",
      " 51  avg_amod_per_tweet               4532 non-null   float64 \n",
      " 52  aux_count                        4532 non-null   int64   \n",
      " 53  avg_aux_per_tweet                4532 non-null   float64 \n",
      "dtypes: category(1), float64(22), int64(21), object(10)\n",
      "memory usage: 1.8+ MB\n"
     ]
    }
   ],
   "source": [
    "dataset.info()"
   ]
  },
  {
   "cell_type": "markdown",
   "id": "7ad966d8",
   "metadata": {},
   "source": [
    "DALSIA UPRAVA - KVOLY N-GRAM"
   ]
  },
  {
   "cell_type": "code",
   "execution_count": 103,
   "id": "ad5a5e39",
   "metadata": {},
   "outputs": [],
   "source": [
    "def lemmatize_text(text):\n",
    "    # Spracovanie textu pomocou modelu spaCy\n",
    "    doc = nlp(text)\n",
    "    # Extrahovanie lemmatizovaných tokenov a odstránenie interpunkcie a medzier\n",
    "    lemmatized = [token.lemma_ for token in doc if not token.is_punct | token.is_space]\n",
    "    # Spojenie lemmatizovaných tokenov späť do reťazca\n",
    "    return ' '.join(lemmatized)"
   ]
  },
  {
   "cell_type": "code",
   "execution_count": 104,
   "id": "a7a12cf6",
   "metadata": {},
   "outputs": [],
   "source": [
    "dataset['lemmatized_text'] = dataset['clean_text'].apply(lemmatize_text)"
   ]
  },
  {
   "cell_type": "code",
   "execution_count": 105,
   "id": "c0fe3a64",
   "metadata": {},
   "outputs": [
    {
     "data": {
      "text/plain": [
       "0       people do not know the definition and use phra...\n",
       "1       wrong place to play that game no reason for ra...\n",
       "2       happy hump day a little sunday drive for and I...\n",
       "3       there be actorsthere be star then there be peo...\n",
       "4       on sept 24 I write about offbeatenpath gm cand...\n",
       "                              ...                        \n",
       "4527    simply a stunning read and as I be on parental...\n",
       "4528    so sad we love you paul allen first hellboy fo...\n",
       "4529    vet undeterre by today rain and wind the show ...\n",
       "4530    when will wee ka siong redeem mcas honour dign...\n",
       "4531    that statement be many thing normal be not one...\n",
       "Name: lemmatized_text, Length: 4532, dtype: object"
      ]
     },
     "execution_count": 105,
     "metadata": {},
     "output_type": "execute_result"
    }
   ],
   "source": [
    "dataset['lemmatized_text']"
   ]
  },
  {
   "cell_type": "markdown",
   "id": "5684ac86",
   "metadata": {},
   "source": [
    "VYMAZANIE NEPOTREBNYCH STLPCOV"
   ]
  },
  {
   "cell_type": "code",
   "execution_count": 106,
   "id": "593e39f7",
   "metadata": {},
   "outputs": [
    {
     "name": "stdout",
     "output_type": "stream",
     "text": [
      "<class 'pandas.core.frame.DataFrame'>\n",
      "RangeIndex: 4532 entries, 0 to 4531\n",
      "Data columns (total 55 columns):\n",
      " #   Column                           Non-Null Count  Dtype   \n",
      "---  ------                           --------------  -----   \n",
      " 0   text                             4532 non-null   object  \n",
      " 1   id                               4532 non-null   int64   \n",
      " 2   occupation                       4532 non-null   object  \n",
      " 3   gender                           4532 non-null   object  \n",
      " 4   fame                             4532 non-null   object  \n",
      " 5   birthyear                        4532 non-null   int64   \n",
      " 6   age                              4532 non-null   int64   \n",
      " 7   age_group                        4532 non-null   category\n",
      " 8   processed_text_first             4532 non-null   object  \n",
      " 9   processed_text_sentences         4532 non-null   object  \n",
      " 10  count_sentenses                  4532 non-null   int64   \n",
      " 11  declarative_percent              4532 non-null   float64 \n",
      " 12  interrogative_percent            4532 non-null   float64 \n",
      " 13  imperative_percent               4532 non-null   float64 \n",
      " 14  other_ending_percent             4532 non-null   float64 \n",
      " 15  avg_commas                       4532 non-null   float64 \n",
      " 16  clean_text                       4532 non-null   object  \n",
      " 17  words                            4532 non-null   object  \n",
      " 18  tagged_words                     4532 non-null   object  \n",
      " 19  noun_count                       4532 non-null   int64   \n",
      " 20  average_nouns_per_tweet          4532 non-null   float64 \n",
      " 21  adjective_count                  4532 non-null   int64   \n",
      " 22  average_adjective_per_tweet      4532 non-null   float64 \n",
      " 23  verb_count                       4532 non-null   int64   \n",
      " 24  average_verb_per_tweet           4532 non-null   float64 \n",
      " 25  pronoun_count                    4532 non-null   int64   \n",
      " 26  average_pronoun_per_tweet        4532 non-null   float64 \n",
      " 27  numeral_count                    4532 non-null   int64   \n",
      " 28  average_numeral_per_tweet        4532 non-null   float64 \n",
      " 29  adverb_count                     4532 non-null   int64   \n",
      " 30  average_adverb_per_tweet         4532 non-null   float64 \n",
      " 31  preposition_count                4532 non-null   int64   \n",
      " 32  average_preposition_per_tweet    4532 non-null   float64 \n",
      " 33  conjunction_count                4532 non-null   int64   \n",
      " 34  average_conjunction_per_tweet    4532 non-null   float64 \n",
      " 35  particle_count                   4532 non-null   int64   \n",
      " 36  average_particle_per_tweet       4532 non-null   float64 \n",
      " 37  interjection_count               4532 non-null   int64   \n",
      " 38  average_interjection_per_tweet   4532 non-null   float64 \n",
      " 39  past_tense_count                 4532 non-null   int64   \n",
      " 40  average_past_tense_per_tweet     4532 non-null   float64 \n",
      " 41  present_tense_count              4532 non-null   int64   \n",
      " 42  average_present_tense_per_tweet  4532 non-null   float64 \n",
      " 43  dependency_counts                4532 non-null   object  \n",
      " 44  nsubj_count                      4532 non-null   int64   \n",
      " 45  avg_nsubj_per_tweet              4532 non-null   float64 \n",
      " 46  dobj_count                       4532 non-null   int64   \n",
      " 47  avg_dobj_per_tweet               4532 non-null   float64 \n",
      " 48  advmod_count                     4532 non-null   int64   \n",
      " 49  avg_advmod_per_tweet             4532 non-null   float64 \n",
      " 50  amod_count                       4532 non-null   int64   \n",
      " 51  avg_amod_per_tweet               4532 non-null   float64 \n",
      " 52  aux_count                        4532 non-null   int64   \n",
      " 53  avg_aux_per_tweet                4532 non-null   float64 \n",
      " 54  lemmatized_text                  4532 non-null   object  \n",
      "dtypes: category(1), float64(22), int64(21), object(11)\n",
      "memory usage: 1.9+ MB\n"
     ]
    }
   ],
   "source": [
    "dataset.info()"
   ]
  },
  {
   "cell_type": "code",
   "execution_count": 107,
   "id": "33a08456",
   "metadata": {},
   "outputs": [],
   "source": [
    "dataset=dataset.drop([ 'occupation',  'fame','birthyear', 'age', 'processed_text_first', 'text', 'processed_text_sentences','count_sentenses', 'clean_text', 'words', 'tagged_words', 'noun_count', 'adjective_count', 'verb_count', 'past_tense_count', 'present_tense_count', 'pronoun_count', 'numeral_count', 'adverb_count', 'preposition_count', 'conjunction_count', 'particle_count', 'interjection_count', 'dependency_counts', 'nsubj_count', 'dobj_count', 'advmod_count', 'amod_count', 'aux_count' ], axis=1)"
   ]
  },
  {
   "cell_type": "code",
   "execution_count": 108,
   "id": "b69b5a1e",
   "metadata": {},
   "outputs": [
    {
     "name": "stdout",
     "output_type": "stream",
     "text": [
      "<class 'pandas.core.frame.DataFrame'>\n",
      "RangeIndex: 4532 entries, 0 to 4531\n",
      "Data columns (total 26 columns):\n",
      " #   Column                           Non-Null Count  Dtype   \n",
      "---  ------                           --------------  -----   \n",
      " 0   id                               4532 non-null   int64   \n",
      " 1   gender                           4532 non-null   object  \n",
      " 2   age_group                        4532 non-null   category\n",
      " 3   declarative_percent              4532 non-null   float64 \n",
      " 4   interrogative_percent            4532 non-null   float64 \n",
      " 5   imperative_percent               4532 non-null   float64 \n",
      " 6   other_ending_percent             4532 non-null   float64 \n",
      " 7   avg_commas                       4532 non-null   float64 \n",
      " 8   average_nouns_per_tweet          4532 non-null   float64 \n",
      " 9   average_adjective_per_tweet      4532 non-null   float64 \n",
      " 10  average_verb_per_tweet           4532 non-null   float64 \n",
      " 11  average_pronoun_per_tweet        4532 non-null   float64 \n",
      " 12  average_numeral_per_tweet        4532 non-null   float64 \n",
      " 13  average_adverb_per_tweet         4532 non-null   float64 \n",
      " 14  average_preposition_per_tweet    4532 non-null   float64 \n",
      " 15  average_conjunction_per_tweet    4532 non-null   float64 \n",
      " 16  average_particle_per_tweet       4532 non-null   float64 \n",
      " 17  average_interjection_per_tweet   4532 non-null   float64 \n",
      " 18  average_past_tense_per_tweet     4532 non-null   float64 \n",
      " 19  average_present_tense_per_tweet  4532 non-null   float64 \n",
      " 20  avg_nsubj_per_tweet              4532 non-null   float64 \n",
      " 21  avg_dobj_per_tweet               4532 non-null   float64 \n",
      " 22  avg_advmod_per_tweet             4532 non-null   float64 \n",
      " 23  avg_amod_per_tweet               4532 non-null   float64 \n",
      " 24  avg_aux_per_tweet                4532 non-null   float64 \n",
      " 25  lemmatized_text                  4532 non-null   object  \n",
      "dtypes: category(1), float64(22), int64(1), object(2)\n",
      "memory usage: 890.1+ KB\n"
     ]
    }
   ],
   "source": [
    "dataset.info()"
   ]
  },
  {
   "cell_type": "markdown",
   "id": "87a7873b",
   "metadata": {},
   "source": [
    "KATEGORICKE STLPCE"
   ]
  },
  {
   "cell_type": "markdown",
   "id": "475f0c0c",
   "metadata": {},
   "source": [
    "Ideme zmeniť nenumerické stlpce na numerické aby som ich vedela použiť v strojovom učení (age_group). Text a Processed_text nemeníme, kedže ich neskôr vymažeme, ked už nebudú potrebné"
   ]
  },
  {
   "cell_type": "code",
   "execution_count": 109,
   "id": "846449f6",
   "metadata": {},
   "outputs": [],
   "source": [
    "le = LabelEncoder()\n",
    "dataset['age_group'] = le.fit_transform(dataset['age_group'])\n",
    "dataset['gender'] = le.fit_transform(dataset['gender'])"
   ]
  },
  {
   "cell_type": "code",
   "execution_count": 110,
   "id": "06adcb00",
   "metadata": {},
   "outputs": [
    {
     "data": {
      "text/html": [
       "<div>\n",
       "<style scoped>\n",
       "    .dataframe tbody tr th:only-of-type {\n",
       "        vertical-align: middle;\n",
       "    }\n",
       "\n",
       "    .dataframe tbody tr th {\n",
       "        vertical-align: top;\n",
       "    }\n",
       "\n",
       "    .dataframe thead th {\n",
       "        text-align: right;\n",
       "    }\n",
       "</style>\n",
       "<table border=\"1\" class=\"dataframe\">\n",
       "  <thead>\n",
       "    <tr style=\"text-align: right;\">\n",
       "      <th></th>\n",
       "      <th>id</th>\n",
       "      <th>gender</th>\n",
       "      <th>age_group</th>\n",
       "      <th>declarative_percent</th>\n",
       "      <th>interrogative_percent</th>\n",
       "      <th>imperative_percent</th>\n",
       "      <th>other_ending_percent</th>\n",
       "      <th>avg_commas</th>\n",
       "      <th>average_nouns_per_tweet</th>\n",
       "      <th>average_adjective_per_tweet</th>\n",
       "      <th>...</th>\n",
       "      <th>average_particle_per_tweet</th>\n",
       "      <th>average_interjection_per_tweet</th>\n",
       "      <th>average_past_tense_per_tweet</th>\n",
       "      <th>average_present_tense_per_tweet</th>\n",
       "      <th>avg_nsubj_per_tweet</th>\n",
       "      <th>avg_dobj_per_tweet</th>\n",
       "      <th>avg_advmod_per_tweet</th>\n",
       "      <th>avg_amod_per_tweet</th>\n",
       "      <th>avg_aux_per_tweet</th>\n",
       "      <th>lemmatized_text</th>\n",
       "    </tr>\n",
       "  </thead>\n",
       "  <tbody>\n",
       "    <tr>\n",
       "      <th>0</th>\n",
       "      <td>11683</td>\n",
       "      <td>1</td>\n",
       "      <td>1</td>\n",
       "      <td>90.577508</td>\n",
       "      <td>2.431611</td>\n",
       "      <td>6.686930</td>\n",
       "      <td>0.303951</td>\n",
       "      <td>0.234043</td>\n",
       "      <td>3.306991</td>\n",
       "      <td>1.395137</td>\n",
       "      <td>...</td>\n",
       "      <td>0.179331</td>\n",
       "      <td>0.000000</td>\n",
       "      <td>0.509091</td>\n",
       "      <td>1.800000</td>\n",
       "      <td>1.987013</td>\n",
       "      <td>1.072727</td>\n",
       "      <td>0.825974</td>\n",
       "      <td>0.524675</td>\n",
       "      <td>0.989610</td>\n",
       "      <td>people do not know the definition and use phra...</td>\n",
       "    </tr>\n",
       "    <tr>\n",
       "      <th>1</th>\n",
       "      <td>42738</td>\n",
       "      <td>1</td>\n",
       "      <td>3</td>\n",
       "      <td>76.319759</td>\n",
       "      <td>20.211161</td>\n",
       "      <td>2.714932</td>\n",
       "      <td>0.754148</td>\n",
       "      <td>0.155354</td>\n",
       "      <td>2.595777</td>\n",
       "      <td>1.007541</td>\n",
       "      <td>...</td>\n",
       "      <td>0.046757</td>\n",
       "      <td>0.000000</td>\n",
       "      <td>1.095975</td>\n",
       "      <td>3.229102</td>\n",
       "      <td>2.965944</td>\n",
       "      <td>1.535604</td>\n",
       "      <td>1.560372</td>\n",
       "      <td>1.018576</td>\n",
       "      <td>1.541796</td>\n",
       "      <td>wrong place to play that game no reason for ra...</td>\n",
       "    </tr>\n",
       "    <tr>\n",
       "      <th>2</th>\n",
       "      <td>11006</td>\n",
       "      <td>1</td>\n",
       "      <td>1</td>\n",
       "      <td>8.831169</td>\n",
       "      <td>1.168831</td>\n",
       "      <td>89.870130</td>\n",
       "      <td>0.129870</td>\n",
       "      <td>0.114286</td>\n",
       "      <td>1.914286</td>\n",
       "      <td>0.749351</td>\n",
       "      <td>...</td>\n",
       "      <td>0.068831</td>\n",
       "      <td>0.000000</td>\n",
       "      <td>0.569343</td>\n",
       "      <td>1.000000</td>\n",
       "      <td>1.021898</td>\n",
       "      <td>0.880779</td>\n",
       "      <td>0.705596</td>\n",
       "      <td>0.980535</td>\n",
       "      <td>0.525547</td>\n",
       "      <td>happy hump day a little sunday drive for and I...</td>\n",
       "    </tr>\n",
       "    <tr>\n",
       "      <th>3</th>\n",
       "      <td>28582</td>\n",
       "      <td>1</td>\n",
       "      <td>1</td>\n",
       "      <td>41.290323</td>\n",
       "      <td>0.645161</td>\n",
       "      <td>57.419355</td>\n",
       "      <td>0.645161</td>\n",
       "      <td>0.793548</td>\n",
       "      <td>7.716129</td>\n",
       "      <td>2.890323</td>\n",
       "      <td>...</td>\n",
       "      <td>0.135484</td>\n",
       "      <td>0.000000</td>\n",
       "      <td>0.333333</td>\n",
       "      <td>1.037940</td>\n",
       "      <td>0.769648</td>\n",
       "      <td>0.663957</td>\n",
       "      <td>0.566396</td>\n",
       "      <td>0.918699</td>\n",
       "      <td>0.349593</td>\n",
       "      <td>there be actorsthere be star then there be peo...</td>\n",
       "    </tr>\n",
       "    <tr>\n",
       "      <th>4</th>\n",
       "      <td>16463</td>\n",
       "      <td>1</td>\n",
       "      <td>4</td>\n",
       "      <td>91.971831</td>\n",
       "      <td>6.478873</td>\n",
       "      <td>0.000000</td>\n",
       "      <td>1.549296</td>\n",
       "      <td>0.745070</td>\n",
       "      <td>4.761972</td>\n",
       "      <td>1.556338</td>\n",
       "      <td>...</td>\n",
       "      <td>0.102817</td>\n",
       "      <td>0.000000</td>\n",
       "      <td>1.418947</td>\n",
       "      <td>2.298947</td>\n",
       "      <td>2.166316</td>\n",
       "      <td>1.595789</td>\n",
       "      <td>1.307368</td>\n",
       "      <td>1.467368</td>\n",
       "      <td>1.343158</td>\n",
       "      <td>on sept 24 I write about offbeatenpath gm cand...</td>\n",
       "    </tr>\n",
       "    <tr>\n",
       "      <th>5</th>\n",
       "      <td>3691</td>\n",
       "      <td>0</td>\n",
       "      <td>3</td>\n",
       "      <td>37.500000</td>\n",
       "      <td>11.071429</td>\n",
       "      <td>50.892857</td>\n",
       "      <td>0.535714</td>\n",
       "      <td>0.225000</td>\n",
       "      <td>2.582143</td>\n",
       "      <td>1.075000</td>\n",
       "      <td>...</td>\n",
       "      <td>0.082143</td>\n",
       "      <td>0.005357</td>\n",
       "      <td>0.408377</td>\n",
       "      <td>1.481675</td>\n",
       "      <td>1.246073</td>\n",
       "      <td>1.073298</td>\n",
       "      <td>0.698953</td>\n",
       "      <td>0.793194</td>\n",
       "      <td>0.547120</td>\n",
       "      <td>sunday morning here watch kill it on so proud ...</td>\n",
       "    </tr>\n",
       "    <tr>\n",
       "      <th>6</th>\n",
       "      <td>37297</td>\n",
       "      <td>1</td>\n",
       "      <td>2</td>\n",
       "      <td>65.697674</td>\n",
       "      <td>8.720930</td>\n",
       "      <td>13.953488</td>\n",
       "      <td>11.627907</td>\n",
       "      <td>0.976744</td>\n",
       "      <td>5.125000</td>\n",
       "      <td>2.031977</td>\n",
       "      <td>...</td>\n",
       "      <td>0.093023</td>\n",
       "      <td>0.008721</td>\n",
       "      <td>0.934524</td>\n",
       "      <td>1.979167</td>\n",
       "      <td>1.889881</td>\n",
       "      <td>1.065476</td>\n",
       "      <td>1.267857</td>\n",
       "      <td>1.392857</td>\n",
       "      <td>0.898810</td>\n",
       "      <td>I legit hope so love his early album 50 on int...</td>\n",
       "    </tr>\n",
       "    <tr>\n",
       "      <th>7</th>\n",
       "      <td>5939</td>\n",
       "      <td>0</td>\n",
       "      <td>1</td>\n",
       "      <td>43.137255</td>\n",
       "      <td>5.279035</td>\n",
       "      <td>51.583710</td>\n",
       "      <td>0.000000</td>\n",
       "      <td>0.176471</td>\n",
       "      <td>2.164404</td>\n",
       "      <td>0.917044</td>\n",
       "      <td>...</td>\n",
       "      <td>0.045249</td>\n",
       "      <td>0.015083</td>\n",
       "      <td>0.844371</td>\n",
       "      <td>2.668874</td>\n",
       "      <td>2.589404</td>\n",
       "      <td>1.612583</td>\n",
       "      <td>1.536424</td>\n",
       "      <td>0.917219</td>\n",
       "      <td>1.225166</td>\n",
       "      <td>stunning then and now I m soooo excited to be ...</td>\n",
       "    </tr>\n",
       "    <tr>\n",
       "      <th>8</th>\n",
       "      <td>14209</td>\n",
       "      <td>0</td>\n",
       "      <td>1</td>\n",
       "      <td>26.394850</td>\n",
       "      <td>3.004292</td>\n",
       "      <td>70.171674</td>\n",
       "      <td>0.429185</td>\n",
       "      <td>0.160944</td>\n",
       "      <td>3.214592</td>\n",
       "      <td>1.081545</td>\n",
       "      <td>...</td>\n",
       "      <td>0.120172</td>\n",
       "      <td>0.002146</td>\n",
       "      <td>0.379391</td>\n",
       "      <td>1.121780</td>\n",
       "      <td>0.957845</td>\n",
       "      <td>0.880562</td>\n",
       "      <td>0.576112</td>\n",
       "      <td>0.754098</td>\n",
       "      <td>0.456674</td>\n",
       "      <td>we be all shout it from the rooftop I m raise ...</td>\n",
       "    </tr>\n",
       "    <tr>\n",
       "      <th>9</th>\n",
       "      <td>45388</td>\n",
       "      <td>1</td>\n",
       "      <td>4</td>\n",
       "      <td>91.377246</td>\n",
       "      <td>6.706587</td>\n",
       "      <td>0.239521</td>\n",
       "      <td>1.676647</td>\n",
       "      <td>0.416766</td>\n",
       "      <td>2.749701</td>\n",
       "      <td>0.873054</td>\n",
       "      <td>...</td>\n",
       "      <td>0.057485</td>\n",
       "      <td>0.000000</td>\n",
       "      <td>1.046296</td>\n",
       "      <td>1.932870</td>\n",
       "      <td>1.962963</td>\n",
       "      <td>1.081019</td>\n",
       "      <td>1.111111</td>\n",
       "      <td>0.868056</td>\n",
       "      <td>0.997685</td>\n",
       "      <td>vegas announce alex tuch have sign a 7 year co...</td>\n",
       "    </tr>\n",
       "  </tbody>\n",
       "</table>\n",
       "<p>10 rows × 26 columns</p>\n",
       "</div>"
      ],
      "text/plain": [
       "      id  gender  age_group  declarative_percent  interrogative_percent  \\\n",
       "0  11683       1          1            90.577508               2.431611   \n",
       "1  42738       1          3            76.319759              20.211161   \n",
       "2  11006       1          1             8.831169               1.168831   \n",
       "3  28582       1          1            41.290323               0.645161   \n",
       "4  16463       1          4            91.971831               6.478873   \n",
       "5   3691       0          3            37.500000              11.071429   \n",
       "6  37297       1          2            65.697674               8.720930   \n",
       "7   5939       0          1            43.137255               5.279035   \n",
       "8  14209       0          1            26.394850               3.004292   \n",
       "9  45388       1          4            91.377246               6.706587   \n",
       "\n",
       "   imperative_percent  other_ending_percent  avg_commas  \\\n",
       "0            6.686930              0.303951    0.234043   \n",
       "1            2.714932              0.754148    0.155354   \n",
       "2           89.870130              0.129870    0.114286   \n",
       "3           57.419355              0.645161    0.793548   \n",
       "4            0.000000              1.549296    0.745070   \n",
       "5           50.892857              0.535714    0.225000   \n",
       "6           13.953488             11.627907    0.976744   \n",
       "7           51.583710              0.000000    0.176471   \n",
       "8           70.171674              0.429185    0.160944   \n",
       "9            0.239521              1.676647    0.416766   \n",
       "\n",
       "   average_nouns_per_tweet  average_adjective_per_tweet  ...  \\\n",
       "0                 3.306991                     1.395137  ...   \n",
       "1                 2.595777                     1.007541  ...   \n",
       "2                 1.914286                     0.749351  ...   \n",
       "3                 7.716129                     2.890323  ...   \n",
       "4                 4.761972                     1.556338  ...   \n",
       "5                 2.582143                     1.075000  ...   \n",
       "6                 5.125000                     2.031977  ...   \n",
       "7                 2.164404                     0.917044  ...   \n",
       "8                 3.214592                     1.081545  ...   \n",
       "9                 2.749701                     0.873054  ...   \n",
       "\n",
       "   average_particle_per_tweet  average_interjection_per_tweet  \\\n",
       "0                    0.179331                        0.000000   \n",
       "1                    0.046757                        0.000000   \n",
       "2                    0.068831                        0.000000   \n",
       "3                    0.135484                        0.000000   \n",
       "4                    0.102817                        0.000000   \n",
       "5                    0.082143                        0.005357   \n",
       "6                    0.093023                        0.008721   \n",
       "7                    0.045249                        0.015083   \n",
       "8                    0.120172                        0.002146   \n",
       "9                    0.057485                        0.000000   \n",
       "\n",
       "   average_past_tense_per_tweet  average_present_tense_per_tweet  \\\n",
       "0                      0.509091                         1.800000   \n",
       "1                      1.095975                         3.229102   \n",
       "2                      0.569343                         1.000000   \n",
       "3                      0.333333                         1.037940   \n",
       "4                      1.418947                         2.298947   \n",
       "5                      0.408377                         1.481675   \n",
       "6                      0.934524                         1.979167   \n",
       "7                      0.844371                         2.668874   \n",
       "8                      0.379391                         1.121780   \n",
       "9                      1.046296                         1.932870   \n",
       "\n",
       "   avg_nsubj_per_tweet  avg_dobj_per_tweet  avg_advmod_per_tweet  \\\n",
       "0             1.987013            1.072727              0.825974   \n",
       "1             2.965944            1.535604              1.560372   \n",
       "2             1.021898            0.880779              0.705596   \n",
       "3             0.769648            0.663957              0.566396   \n",
       "4             2.166316            1.595789              1.307368   \n",
       "5             1.246073            1.073298              0.698953   \n",
       "6             1.889881            1.065476              1.267857   \n",
       "7             2.589404            1.612583              1.536424   \n",
       "8             0.957845            0.880562              0.576112   \n",
       "9             1.962963            1.081019              1.111111   \n",
       "\n",
       "   avg_amod_per_tweet  avg_aux_per_tweet  \\\n",
       "0            0.524675           0.989610   \n",
       "1            1.018576           1.541796   \n",
       "2            0.980535           0.525547   \n",
       "3            0.918699           0.349593   \n",
       "4            1.467368           1.343158   \n",
       "5            0.793194           0.547120   \n",
       "6            1.392857           0.898810   \n",
       "7            0.917219           1.225166   \n",
       "8            0.754098           0.456674   \n",
       "9            0.868056           0.997685   \n",
       "\n",
       "                                     lemmatized_text  \n",
       "0  people do not know the definition and use phra...  \n",
       "1  wrong place to play that game no reason for ra...  \n",
       "2  happy hump day a little sunday drive for and I...  \n",
       "3  there be actorsthere be star then there be peo...  \n",
       "4  on sept 24 I write about offbeatenpath gm cand...  \n",
       "5  sunday morning here watch kill it on so proud ...  \n",
       "6  I legit hope so love his early album 50 on int...  \n",
       "7  stunning then and now I m soooo excited to be ...  \n",
       "8  we be all shout it from the rooftop I m raise ...  \n",
       "9  vegas announce alex tuch have sign a 7 year co...  \n",
       "\n",
       "[10 rows x 26 columns]"
      ]
     },
     "execution_count": 110,
     "metadata": {},
     "output_type": "execute_result"
    }
   ],
   "source": [
    "dataset.head(10)"
   ]
  },
  {
   "cell_type": "code",
   "execution_count": 111,
   "id": "4e56f92c",
   "metadata": {},
   "outputs": [
    {
     "name": "stdout",
     "output_type": "stream",
     "text": [
      "<class 'pandas.core.frame.DataFrame'>\n",
      "RangeIndex: 4532 entries, 0 to 4531\n",
      "Data columns (total 26 columns):\n",
      " #   Column                           Non-Null Count  Dtype  \n",
      "---  ------                           --------------  -----  \n",
      " 0   id                               4532 non-null   int64  \n",
      " 1   gender                           4532 non-null   int64  \n",
      " 2   age_group                        4532 non-null   int64  \n",
      " 3   declarative_percent              4532 non-null   float64\n",
      " 4   interrogative_percent            4532 non-null   float64\n",
      " 5   imperative_percent               4532 non-null   float64\n",
      " 6   other_ending_percent             4532 non-null   float64\n",
      " 7   avg_commas                       4532 non-null   float64\n",
      " 8   average_nouns_per_tweet          4532 non-null   float64\n",
      " 9   average_adjective_per_tweet      4532 non-null   float64\n",
      " 10  average_verb_per_tweet           4532 non-null   float64\n",
      " 11  average_pronoun_per_tweet        4532 non-null   float64\n",
      " 12  average_numeral_per_tweet        4532 non-null   float64\n",
      " 13  average_adverb_per_tweet         4532 non-null   float64\n",
      " 14  average_preposition_per_tweet    4532 non-null   float64\n",
      " 15  average_conjunction_per_tweet    4532 non-null   float64\n",
      " 16  average_particle_per_tweet       4532 non-null   float64\n",
      " 17  average_interjection_per_tweet   4532 non-null   float64\n",
      " 18  average_past_tense_per_tweet     4532 non-null   float64\n",
      " 19  average_present_tense_per_tweet  4532 non-null   float64\n",
      " 20  avg_nsubj_per_tweet              4532 non-null   float64\n",
      " 21  avg_dobj_per_tweet               4532 non-null   float64\n",
      " 22  avg_advmod_per_tweet             4532 non-null   float64\n",
      " 23  avg_amod_per_tweet               4532 non-null   float64\n",
      " 24  avg_aux_per_tweet                4532 non-null   float64\n",
      " 25  lemmatized_text                  4532 non-null   object \n",
      "dtypes: float64(22), int64(3), object(1)\n",
      "memory usage: 920.7+ KB\n"
     ]
    }
   ],
   "source": [
    "dataset.info()"
   ]
  },
  {
   "cell_type": "code",
   "execution_count": 115,
   "id": "fe58c48e",
   "metadata": {},
   "outputs": [],
   "source": [
    "dataset.to_json(\"syntakticke_crty_ocisteny.json\", orient='records', lines=True)"
   ]
  },
  {
   "cell_type": "code",
   "execution_count": 113,
   "id": "26355f5f",
   "metadata": {},
   "outputs": [
    {
     "data": {
      "image/png": "[encoded data removed]",
      "text/plain": [
       "<Figure size 1080x1080 with 2 Axes>"
      ]
     },
     "metadata": {
      "needs_background": "light"
     },
     "output_type": "display_data"
    }
   ],
   "source": [
    "dataset_corr=dataset.drop([ 'lemmatized_text' , 'id'], axis=1)\n",
    "corr_matrix = dataset_corr.corr()\n",
    "\n",
    "# Vytvor heatmap\n",
    "plt.figure(figsize=(15, 15))  # Nastav veľkosť obrázka podľa potreby\n",
    "sns.heatmap(corr_matrix, annot=True, fmt=\".2f\", cmap='coolwarm', cbar=True)\n",
    "plt.title('Heatmap korelačnej matice')\n",
    "plt.show()"
   ]
  },
  {
   "cell_type": "code",
   "execution_count": null,
   "id": "5c7cadd9",
   "metadata": {},
   "outputs": [],
   "source": []
  },
  {
   "cell_type": "code",
   "execution_count": null,
   "id": "7a39844f",
   "metadata": {},
   "outputs": [],
   "source": []
  },
  {
   "cell_type": "code",
   "execution_count": null,
   "id": "27ef3d10",
   "metadata": {},
   "outputs": [],
   "source": []
  },
  {
   "cell_type": "code",
   "execution_count": null,
   "id": "935436f0",
   "metadata": {},
   "outputs": [],
   "source": []
  }
 ],
 "metadata": {
  "kernelspec": {
   "display_name": "Python 3 (ipykernel)",
   "language": "python",
   "name": "python3"
  },
  "language_info": {
   "codemirror_mode": {
    "name": "ipython",
    "version": 3
   },
   "file_extension": ".py",
   "mimetype": "text/x-python",
   "name": "python",
   "nbconvert_exporter": "python",
   "pygments_lexer": "ipython3",
   "version": "3.10.7"
  }
 },
 "nbformat": 4,
 "nbformat_minor": 5
}
