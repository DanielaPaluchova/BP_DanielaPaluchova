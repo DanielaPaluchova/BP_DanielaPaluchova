{
 "cells": [
  {
   "cell_type": "code",
   "execution_count": 1,
   "id": "1cd6cfb6-bb3a-4f0d-8097-6b003c4203f0",
   "metadata": {},
   "outputs": [
    {
     "name": "stderr",
     "output_type": "stream",
     "text": [
      "[nltk_data] Downloading package vader_lexicon to\n",
      "[nltk_data]     /home/danielap/nltk_data...\n",
      "[nltk_data]   Package vader_lexicon is already up-to-date!\n",
      "[nltk_data] Downloading package punkt to /home/danielap/nltk_data...\n",
      "[nltk_data]   Package punkt is already up-to-date!\n",
      "[nltk_data] Downloading package stopwords to\n",
      "[nltk_data]     /home/danielap/nltk_data...\n",
      "[nltk_data]   Package stopwords is already up-to-date!\n",
      "[nltk_data] Downloading package wordnet to /home/danielap/nltk_data...\n",
      "[nltk_data]   Package wordnet is already up-to-date!\n",
      "[nltk_data] Downloading package omw-1.4 to /home/danielap/nltk_data...\n",
      "[nltk_data]   Package omw-1.4 is already up-to-date!\n"
     ]
    }
   ],
   "source": [
    "#importovanie kniznic\n",
    "import pandas as pd\n",
    "import numpy as np\n",
    "import matplotlib.pyplot as plt\n",
    "import seaborn as sns\n",
    "import scipy.stats as stats\n",
    "import jsonlines\n",
    "import json\n",
    "from bs4 import BeautifulSoup\n",
    "import re\n",
    "import nltk\n",
    "from nltk.corpus import stopwords\n",
    "from nltk.stem import PorterStemmer\n",
    "from datetime import datetime\n",
    "import matplotlib.pyplot as plt\n",
    "from nltk.tokenize import word_tokenize\n",
    "from nltk.stem import WordNetLemmatizer\n",
    "from nltk.corpus import wordnet\n",
    "from scipy.stats import shapiro\n",
    "from scipy.stats import kruskal\n",
    "from scipy.stats import ttest_ind, f_oneway\n",
    "from scipy.stats import pearsonr, spearmanr\n",
    "from nltk.tokenize import sent_tokenize, word_tokenize\n",
    "import emoji\n",
    "from nltk.sentiment.vader import SentimentIntensityAnalyzer\n",
    "import nltk\n",
    "from collections import Counter\n",
    "from sklearn.feature_extraction.text import CountVectorizer\n",
    "from sklearn.preprocessing import MinMaxScaler\n",
    "from sklearn.preprocessing import StandardScaler\n",
    "from sklearn.preprocessing import LabelEncoder\n",
    "nltk.download('vader_lexicon')\n",
    "nltk.download('punkt')\n",
    "nltk.download('stopwords')\n",
    "nltk.download('wordnet')\n",
    "nltk.download('omw-1.4')\n",
    "from sklearn.model_selection import train_test_split\n",
    "from sklearn.ensemble import RandomForestClassifier\n",
    "from sklearn.metrics import accuracy_score, classification_report\n",
    "from scipy.sparse import hstack\n",
    "from scipy.sparse import csr_matrix, hstack\n",
    "from sklearn.metrics import classification_report, confusion_matrix\n",
    "from sklearn import metrics \n",
    "from sklearn.metrics import ConfusionMatrixDisplay\n",
    "from sklearn import svm\n",
    "from sklearn.svm import SVC\n",
    "from sklearn.feature_extraction.text import TfidfVectorizer\n",
    "from langdetect import detect\n",
    "from langdetect import LangDetectException\n",
    "from sklearn.preprocessing import FunctionTransformer, StandardScaler, MinMaxScaler\n",
    "from sklearn.pipeline import Pipeline\n",
    "from sklearn.feature_selection import SelectKBest\n",
    "from sklearn.feature_selection import mutual_info_regression\n",
    "from sklearn.feature_selection import chi2\n",
    "from sklearn.feature_selection import f_regression\n",
    "from sklearn.svm import LinearSVC\n",
    "from sklearn.feature_selection import RFE\n",
    "from sklearn.ensemble import RandomForestClassifier\n",
    "from sklearn.datasets import make_classification\n",
    "from sklearn.feature_selection import SelectFromModel\n",
    "from sklearn.svm import SVC\n",
    "from sklearn.linear_model import LogisticRegression\n",
    "from sklearn.pipeline import make_pipeline\n",
    "from sklearn.model_selection import train_test_split, cross_val_score\n",
    "from sklearn.model_selection import GridSearchCV\n",
    "from sklearn.tree import DecisionTreeClassifier\n",
    "from dateutil import parser"
   ]
  },
  {
   "cell_type": "markdown",
   "id": "fa777217",
   "metadata": {},
   "source": [
    "Načítame dataset"
   ]
  },
  {
   "cell_type": "code",
   "execution_count": 2,
   "id": "26aba8e7-a981-489a-8eed-db3dfc5d8238",
   "metadata": {},
   "outputs": [],
   "source": [
    "data = []\n",
    "\n",
    "# Otvorime súbor a načítame každý riadok ako JSON objekt.\n",
    "with open('../datasety/ocisteny_dataset.json', 'r') as file:\n",
    "    for line in file:\n",
    "        try:\n",
    "            json_obj = json.loads(line)\n",
    "            data.append(json_obj)\n",
    "        except json.JSONDecodeError as e:\n",
    "            print(f\"Chyba pri dekódovaní JSON na riadku: {e}\")"
   ]
  },
  {
   "cell_type": "code",
   "execution_count": 3,
   "id": "4dfc5042-58e6-4355-9c51-67204bc2a5b8",
   "metadata": {},
   "outputs": [
    {
     "data": {
      "text/html": [
       "<div>\n",
       "<style scoped>\n",
       "    .dataframe tbody tr th:only-of-type {\n",
       "        vertical-align: middle;\n",
       "    }\n",
       "\n",
       "    .dataframe tbody tr th {\n",
       "        vertical-align: top;\n",
       "    }\n",
       "\n",
       "    .dataframe thead th {\n",
       "        text-align: right;\n",
       "    }\n",
       "</style>\n",
       "<table border=\"1\" class=\"dataframe\">\n",
       "  <thead>\n",
       "    <tr style=\"text-align: right;\">\n",
       "      <th></th>\n",
       "      <th>text</th>\n",
       "      <th>id</th>\n",
       "      <th>occupation</th>\n",
       "      <th>gender</th>\n",
       "      <th>fame</th>\n",
       "      <th>birthyear</th>\n",
       "    </tr>\n",
       "  </thead>\n",
       "  <tbody>\n",
       "    <tr>\n",
       "      <th>0</th>\n",
       "      <td>[People don't know the definition, and use phr...</td>\n",
       "      <td>11683</td>\n",
       "      <td>sports</td>\n",
       "      <td>male</td>\n",
       "      <td>star</td>\n",
       "      <td>1987</td>\n",
       "    </tr>\n",
       "    <tr>\n",
       "      <th>1</th>\n",
       "      <td>[Wrong place to play that game. @CuomoPrimeTim...</td>\n",
       "      <td>42738</td>\n",
       "      <td>creator</td>\n",
       "      <td>male</td>\n",
       "      <td>superstar</td>\n",
       "      <td>1970</td>\n",
       "    </tr>\n",
       "    <tr>\n",
       "      <th>2</th>\n",
       "      <td>[Happy Hump Day! (📸: @dolephoto ) https://t.co...</td>\n",
       "      <td>11006</td>\n",
       "      <td>sports</td>\n",
       "      <td>male</td>\n",
       "      <td>star</td>\n",
       "      <td>1988</td>\n",
       "    </tr>\n",
       "    <tr>\n",
       "      <th>3</th>\n",
       "      <td>[There are actors,there are stars &amp; then there...</td>\n",
       "      <td>28582</td>\n",
       "      <td>performer</td>\n",
       "      <td>male</td>\n",
       "      <td>rising</td>\n",
       "      <td>1990</td>\n",
       "    </tr>\n",
       "    <tr>\n",
       "      <th>4</th>\n",
       "      <td>[https://t.co/Xy7QVbaTlE on Sept 24 I wrote ab...</td>\n",
       "      <td>16463</td>\n",
       "      <td>sports</td>\n",
       "      <td>male</td>\n",
       "      <td>superstar</td>\n",
       "      <td>1962</td>\n",
       "    </tr>\n",
       "  </tbody>\n",
       "</table>\n",
       "</div>"
      ],
      "text/plain": [
       "                                                text     id occupation gender  \\\n",
       "0  [People don't know the definition, and use phr...  11683     sports   male   \n",
       "1  [Wrong place to play that game. @CuomoPrimeTim...  42738    creator   male   \n",
       "2  [Happy Hump Day! (📸: @dolephoto ) https://t.co...  11006     sports   male   \n",
       "3  [There are actors,there are stars & then there...  28582  performer   male   \n",
       "4  [https://t.co/Xy7QVbaTlE on Sept 24 I wrote ab...  16463     sports   male   \n",
       "\n",
       "        fame  birthyear  \n",
       "0       star       1987  \n",
       "1  superstar       1970  \n",
       "2       star       1988  \n",
       "3     rising       1990  \n",
       "4  superstar       1962  "
      ]
     },
     "execution_count": 3,
     "metadata": {},
     "output_type": "execute_result"
    }
   ],
   "source": [
    "combined_data = pd.DataFrame(data)\n",
    "combined_data.head()"
   ]
  },
  {
   "cell_type": "markdown",
   "id": "2a61ddc0",
   "metadata": {},
   "source": [
    "Určenie veku a zaradenie do vekovej skupiny"
   ]
  },
  {
   "cell_type": "code",
   "execution_count": 4,
   "id": "a8e1d33b-568f-4c31-9cec-232b821e5b88",
   "metadata": {},
   "outputs": [],
   "source": [
    "current_year = datetime.now().year\n",
    "combined_data['age'] = current_year - combined_data['birthyear']\n",
    "\n",
    "bins = [0, 30, 40, 50, 60, 70, 80, 100]\n",
    "labels = ['0-29', '30-39', '40-49', '50-59', '60-69', '70-79', '80+']\n",
    "combined_data['age_group'] = pd.cut(combined_data['age'], bins=bins, labels=labels, right=False)"
   ]
  },
  {
   "cell_type": "code",
   "execution_count": 5,
   "id": "e87a105a-5171-4101-966c-9165b07a9124",
   "metadata": {},
   "outputs": [
    {
     "data": {
      "text/plain": [
       "age_group\n",
       "0-29      192\n",
       "30-39    1309\n",
       "40-49    1225\n",
       "50-59     870\n",
       "60-69     562\n",
       "70-79     303\n",
       "80+        71\n",
       "dtype: int64"
      ]
     },
     "execution_count": 5,
     "metadata": {},
     "output_type": "execute_result"
    }
   ],
   "source": [
    "combined_data.groupby(['age_group']).size()"
   ]
  },
  {
   "cell_type": "code",
   "execution_count": 6,
   "id": "dfa7ae18-44eb-474b-a814-137eea313217",
   "metadata": {},
   "outputs": [],
   "source": [
    "dataset=combined_data.copy()"
   ]
  },
  {
   "cell_type": "markdown",
   "id": "fb367f7a-4237-419e-b4a7-7e77480ccdbc",
   "metadata": {},
   "source": [
    "## EXTRAKCIA LEXIKALNYCH CRT"
   ]
  },
  {
   "cell_type": "markdown",
   "id": "83160965-a065-4779-aa58-3c675f211bfa",
   "metadata": {},
   "source": [
    "PRIEMERNY POCET EMOJI NA TWEET"
   ]
  },
  {
   "cell_type": "code",
   "execution_count": 7,
   "id": "2dbc93f5-90d3-4fff-a3e5-1982f040dd8b",
   "metadata": {},
   "outputs": [],
   "source": [
    "def average_emoji_per_tweet(tweets_list):\n",
    "    total_emojis = 0\n",
    "    total_tweets = len(tweets_list)\n",
    "\n",
    "    # Kontrola, či zoznam nie je prázdny, aby sa zabránilo deleniu nulou\n",
    "    if total_tweets == 0:\n",
    "        return 0\n",
    "\n",
    "    # Iterácia cez každý tweet v zozname\n",
    "    for tweet in tweets_list:\n",
    "        # Počítanie emodži v tweete\n",
    "        total_emojis += sum(char in emoji.EMOJI_DATA for char in tweet)\n",
    "    \n",
    "    # Výpočet priemerného počtu emodži na tweet\n",
    "    average_emojis = total_emojis / total_tweets\n",
    "\n",
    "    return average_emojis"
   ]
  },
  {
   "cell_type": "code",
   "execution_count": 8,
   "id": "d19e0267-946a-4442-954c-b503095470c3",
   "metadata": {},
   "outputs": [],
   "source": [
    "dataset['average_emoji'] = dataset['text'].apply(average_emoji_per_tweet)"
   ]
  },
  {
   "cell_type": "code",
   "execution_count": 9,
   "id": "636f9bb7-db97-4d8d-8823-3e0a6236b82a",
   "metadata": {},
   "outputs": [
    {
     "data": {
      "text/plain": [
       "0       1.002597\n",
       "1       0.000000\n",
       "2       0.075426\n",
       "3       0.040650\n",
       "4       0.000000\n",
       "          ...   \n",
       "4527    0.326087\n",
       "4528    0.594855\n",
       "4529    0.000000\n",
       "4530    0.002070\n",
       "4531    0.005634\n",
       "Name: average_emoji, Length: 4532, dtype: float64"
      ]
     },
     "execution_count": 9,
     "metadata": {},
     "output_type": "execute_result"
    }
   ],
   "source": [
    "dataset['average_emoji']"
   ]
  },
  {
   "cell_type": "code",
   "execution_count": 10,
   "id": "46841fe6-62a3-4731-9837-3a91c6d4bae7",
   "metadata": {},
   "outputs": [],
   "source": [
    "min_value = dataset['average_emoji'].min()\n",
    "max_value = dataset['average_emoji'].max()\n",
    "average_value = dataset['average_emoji'].mean()"
   ]
  },
  {
   "cell_type": "code",
   "execution_count": 11,
   "id": "ef828fa3-0da9-4e81-ad24-5a82373b3e8e",
   "metadata": {},
   "outputs": [
    {
     "name": "stdout",
     "output_type": "stream",
     "text": [
      "Najmenší prvok: 0.0\n",
      "Najväčší prvok: 6.720116618075802\n",
      "Priemerná hodnota: 0.38678857575097375\n"
     ]
    }
   ],
   "source": [
    "print(\"Najmenší prvok:\", min_value)\n",
    "print(\"Najväčší prvok:\", max_value)\n",
    "print(\"Priemerná hodnota:\", average_value)"
   ]
  },
  {
   "cell_type": "markdown",
   "id": "16ade547-c38a-473d-ba6f-a7f4f767cc9e",
   "metadata": {},
   "source": [
    "PRIEMERNY POCET URL NA TWEET"
   ]
  },
  {
   "cell_type": "code",
   "execution_count": 12,
   "id": "2345b06f-a927-41c8-8f30-a2f96f157431",
   "metadata": {},
   "outputs": [],
   "source": [
    "def count_urls(tweet):\n",
    "    url_pattern = r'https?://\\S+'\n",
    "    urls = re.findall(url_pattern, tweet)\n",
    "    return len(urls)"
   ]
  },
  {
   "cell_type": "code",
   "execution_count": 13,
   "id": "b6366e46-7dc3-4c30-8ca5-0254154e5c4b",
   "metadata": {},
   "outputs": [],
   "source": [
    "def average_urls(tweets):\n",
    "    # Spočíta celkový počet url všetkých tweetov v zozname\n",
    "    total_urls = sum(count_urls(tweet) for tweet in tweets)\n",
    "    average = total_urls / len(tweets) if tweets else 0#zistime priemer, osetrenie proti deleniu 0\n",
    "    return average"
   ]
  },
  {
   "cell_type": "code",
   "execution_count": 14,
   "id": "b779308c-bb6f-4f9b-a25e-20fa77eda9dc",
   "metadata": {},
   "outputs": [],
   "source": [
    "dataset['average_urls'] = dataset['text'].apply(average_urls)"
   ]
  },
  {
   "cell_type": "code",
   "execution_count": 15,
   "id": "27406284-149d-4696-acb8-f36cee35c9a6",
   "metadata": {},
   "outputs": [
    {
     "data": {
      "text/plain": [
       "0       0.225974\n",
       "1       0.975232\n",
       "2       0.454988\n",
       "3       0.745257\n",
       "4       0.416842\n",
       "          ...   \n",
       "4527    0.363354\n",
       "4528    0.993569\n",
       "4529    0.983529\n",
       "4530    1.610766\n",
       "4531    0.478873\n",
       "Name: average_urls, Length: 4532, dtype: float64"
      ]
     },
     "execution_count": 15,
     "metadata": {},
     "output_type": "execute_result"
    }
   ],
   "source": [
    "dataset['average_urls']"
   ]
  },
  {
   "cell_type": "code",
   "execution_count": 16,
   "id": "63b4a7fa-de9a-4904-83fb-72ff1b5384dd",
   "metadata": {},
   "outputs": [],
   "source": [
    "min_value = dataset['average_urls'].min()\n",
    "max_value = dataset['average_urls'].max()\n",
    "average_value = dataset['average_urls'].mean()"
   ]
  },
  {
   "cell_type": "code",
   "execution_count": 17,
   "id": "ad502368-a11b-406e-8ab2-4793690b4ac5",
   "metadata": {},
   "outputs": [
    {
     "name": "stdout",
     "output_type": "stream",
     "text": [
      "Najmenší prvok: 0.0\n",
      "Najväčší prvok: 2.130879345603272\n",
      "Priemerná hodnota: 0.5646735991440434\n"
     ]
    }
   ],
   "source": [
    "print(\"Najmenší prvok:\", min_value)\n",
    "print(\"Najväčší prvok:\", max_value)\n",
    "print(\"Priemerná hodnota:\", average_value)"
   ]
  },
  {
   "cell_type": "markdown",
   "id": "54df1e10-c7e0-4092-afb8-877c93641125",
   "metadata": {},
   "source": [
    "\n",
    "PRIEMERNY POCET OZNACENI NA TWEET"
   ]
  },
  {
   "cell_type": "code",
   "execution_count": 18,
   "id": "24a90b14-b873-4cf5-ba12-fdb9445b307e",
   "metadata": {},
   "outputs": [],
   "source": [
    "def count_mentions(tweet):\n",
    "    mentions_pattern = r'@\\w+'\n",
    "    mentions = re.findall(mentions_pattern, tweet)\n",
    "    return len(mentions)"
   ]
  },
  {
   "cell_type": "code",
   "execution_count": 19,
   "id": "73577e3c-98df-44bf-9ac3-60f7670cb585",
   "metadata": {},
   "outputs": [],
   "source": [
    "def average_mentions(tweets):\n",
    "    # Spočíta celkový počet oznaceni všetkých tweetov v zozname\n",
    "    total_mentions = sum(count_mentions(tweet) for tweet in tweets)\n",
    "    average = total_mentions / len(tweets) if tweets else 0\n",
    "    return average"
   ]
  },
  {
   "cell_type": "code",
   "execution_count": 20,
   "id": "897c3d4e-03a6-4385-bdd3-c98326cf7e10",
   "metadata": {},
   "outputs": [],
   "source": [
    "dataset['average_mentions'] = dataset['text'].apply(average_mentions)"
   ]
  },
  {
   "cell_type": "code",
   "execution_count": 21,
   "id": "541594f6-d999-4010-840a-1694b741ff6a",
   "metadata": {},
   "outputs": [
    {
     "data": {
      "text/plain": [
       "0       0.036364\n",
       "1       0.061920\n",
       "2       2.335766\n",
       "3       1.056911\n",
       "4       0.094737\n",
       "          ...   \n",
       "4527    1.813665\n",
       "4528    0.807074\n",
       "4529    1.094118\n",
       "4530    0.010352\n",
       "4531    0.890141\n",
       "Name: average_mentions, Length: 4532, dtype: float64"
      ]
     },
     "execution_count": 21,
     "metadata": {},
     "output_type": "execute_result"
    }
   ],
   "source": [
    "dataset['average_mentions']"
   ]
  },
  {
   "cell_type": "code",
   "execution_count": 22,
   "id": "78588188-c45e-4ba8-816e-6294a98943ce",
   "metadata": {},
   "outputs": [],
   "source": [
    "min_value = dataset['average_mentions'].min()\n",
    "max_value = dataset['average_mentions'].max()\n",
    "average_value = dataset['average_mentions'].mean()"
   ]
  },
  {
   "cell_type": "code",
   "execution_count": 23,
   "id": "06239e1c-ab1c-4fb6-b6b1-7fd79c2a9906",
   "metadata": {},
   "outputs": [
    {
     "name": "stdout",
     "output_type": "stream",
     "text": [
      "Najmenší prvok: 0.0\n",
      "Najväčší prvok: 4.297520661157025\n",
      "Priemerná hodnota: 0.8778212595528831\n"
     ]
    }
   ],
   "source": [
    "print(\"Najmenší prvok:\", min_value)\n",
    "print(\"Najväčší prvok:\", max_value)\n",
    "print(\"Priemerná hodnota:\", average_value)"
   ]
  },
  {
   "cell_type": "markdown",
   "id": "17137a18-4dca-45e0-bb50-e30ea0833f44",
   "metadata": {},
   "source": [
    "PRIEMERNY POCET HASHTAGOV NA TWEET"
   ]
  },
  {
   "cell_type": "code",
   "execution_count": 24,
   "id": "5bc0093f-7a80-471d-af58-d9de3ca647b2",
   "metadata": {},
   "outputs": [],
   "source": [
    "def count_hashtags(tweet):\n",
    "    return len(re.findall(r'#\\w+', tweet))"
   ]
  },
  {
   "cell_type": "code",
   "execution_count": 25,
   "id": "1d873926-6cdf-4b0b-bba3-7c73c6a66fe9",
   "metadata": {},
   "outputs": [],
   "source": [
    "def average_hashtags(tweets):\n",
    "    # Spočíta celkový počet hashtagov všetkých tweetov v zozname\n",
    "    total_hashtags = sum(count_hashtags(tweet) for tweet in tweets)\n",
    "    average = total_hashtags / len(tweets) if tweets else 0\n",
    "    return average"
   ]
  },
  {
   "cell_type": "code",
   "execution_count": 26,
   "id": "a1b61bba-2de3-4cba-962b-8f5b42c169cb",
   "metadata": {},
   "outputs": [],
   "source": [
    "dataset['average_hashtags'] = dataset['text'].apply(average_hashtags)"
   ]
  },
  {
   "cell_type": "code",
   "execution_count": 27,
   "id": "7d5c8bcf-b4e6-459a-a16f-53a60b858872",
   "metadata": {},
   "outputs": [
    {
     "data": {
      "text/plain": [
       "0       0.041558\n",
       "1       0.204334\n",
       "2       0.394161\n",
       "3       0.466125\n",
       "4       1.755789\n",
       "          ...   \n",
       "4527    0.139752\n",
       "4528    1.475884\n",
       "4529    0.018824\n",
       "4530    0.004141\n",
       "4531    0.008451\n",
       "Name: average_hashtags, Length: 4532, dtype: float64"
      ]
     },
     "execution_count": 27,
     "metadata": {},
     "output_type": "execute_result"
    }
   ],
   "source": [
    "dataset['average_hashtags']"
   ]
  },
  {
   "cell_type": "code",
   "execution_count": 28,
   "id": "79a42ea1-949e-4330-a5d8-f1b4ed77457a",
   "metadata": {},
   "outputs": [],
   "source": [
    "min_value = dataset['average_hashtags'].min()\n",
    "max_value = dataset['average_hashtags'].max()\n",
    "average_value = dataset['average_hashtags'].mean()"
   ]
  },
  {
   "cell_type": "code",
   "execution_count": 29,
   "id": "feed3927-0e5f-4188-a80a-1df85c9b8c1d",
   "metadata": {},
   "outputs": [
    {
     "name": "stdout",
     "output_type": "stream",
     "text": [
      "Najmenší prvok: 0.0\n",
      "Najväčší prvok: 10.21951219512195\n",
      "Priemerná hodnota: 0.5051917844710606\n"
     ]
    }
   ],
   "source": [
    "print(\"Najmenší prvok:\", min_value)\n",
    "print(\"Najväčší prvok:\", max_value)\n",
    "print(\"Priemerná hodnota:\", average_value)"
   ]
  },
  {
   "cell_type": "markdown",
   "id": "2599e5d8-38c2-4dba-bd8c-85b0b2dc8795",
   "metadata": {},
   "source": [
    "PRIEMERNY POCET CIFIER NA TWEET"
   ]
  },
  {
   "cell_type": "code",
   "execution_count": 30,
   "id": "b7f8a373-9c61-4553-8597-98207a60c97c",
   "metadata": {},
   "outputs": [],
   "source": [
    "def count_digits(tweet):\n",
    "    return sum(char.isdigit() for char in tweet)"
   ]
  },
  {
   "cell_type": "code",
   "execution_count": 31,
   "id": "cd7e2698-d553-4302-942d-960118d43308",
   "metadata": {},
   "outputs": [],
   "source": [
    "def average_digits(tweets):\n",
    "    # Spočíta celkový počet cifier všetkých tweetov v zozname\n",
    "    total_digits = sum(count_digits(tweet) for tweet in tweets)\n",
    "    average = total_digits / len(tweets) if tweets else 0\n",
    "    return average"
   ]
  },
  {
   "cell_type": "code",
   "execution_count": 32,
   "id": "1defd6cf-37a6-4746-bc3c-61f0f9fc154b",
   "metadata": {},
   "outputs": [],
   "source": [
    "dataset['average_digits'] = dataset['text'].apply(average_digits)"
   ]
  },
  {
   "cell_type": "code",
   "execution_count": 33,
   "id": "b9d6d1d9-d1bf-494c-9e54-8bf2faf3670a",
   "metadata": {},
   "outputs": [
    {
     "data": {
      "text/plain": [
       "0       0.537662\n",
       "1       1.996904\n",
       "2       1.832117\n",
       "3       1.471545\n",
       "4       3.164211\n",
       "          ...   \n",
       "4527    1.642857\n",
       "4528    2.344051\n",
       "4529    1.967059\n",
       "4530    4.505176\n",
       "4531    1.200000\n",
       "Name: average_digits, Length: 4532, dtype: float64"
      ]
     },
     "execution_count": 33,
     "metadata": {},
     "output_type": "execute_result"
    }
   ],
   "source": [
    "dataset['average_digits']"
   ]
  },
  {
   "cell_type": "code",
   "execution_count": 34,
   "id": "54596faa-0d68-461b-8e7a-887d38c9c8e3",
   "metadata": {},
   "outputs": [],
   "source": [
    "min_value = dataset['average_digits'].min()\n",
    "max_value = dataset['average_digits'].max()\n",
    "average_value = dataset['average_digits'].mean()"
   ]
  },
  {
   "cell_type": "code",
   "execution_count": 35,
   "id": "529eaf96-3e77-407d-b568-323999ed6e04",
   "metadata": {},
   "outputs": [
    {
     "name": "stdout",
     "output_type": "stream",
     "text": [
      "Najmenší prvok: 0.17032967032967034\n",
      "Najväčší prvok: 9.5775\n",
      "Priemerná hodnota: 1.7977373895276823\n"
     ]
    }
   ],
   "source": [
    "print(\"Najmenší prvok:\", min_value)\n",
    "print(\"Najväčší prvok:\", max_value)\n",
    "print(\"Priemerná hodnota:\", average_value)"
   ]
  },
  {
   "cell_type": "markdown",
   "id": "f08e974e-1f03-4ba3-98ab-ea861a70a6fc",
   "metadata": {},
   "source": [
    "PRIEMERNY POCET VELKYCH PISMEN NA TWEET"
   ]
  },
  {
   "cell_type": "code",
   "execution_count": 36,
   "id": "ce96f1cc-691b-4687-8c6f-02ba4e68277b",
   "metadata": {},
   "outputs": [],
   "source": [
    "def count_uppercase(tweet):\n",
    "    return sum(char.isupper() for char in tweet)"
   ]
  },
  {
   "cell_type": "code",
   "execution_count": 37,
   "id": "30e316ad-a009-4c80-9564-e81ce2281364",
   "metadata": {},
   "outputs": [],
   "source": [
    "def average_uppercase(tweets):\n",
    "    # Spočíta celkový počet velkych pismen všetkých tweetov v zozname\n",
    "    total_uppercase = sum(count_uppercase(tweet) for tweet in tweets)\n",
    "    average = total_uppercase / len(tweets) if tweets else 0\n",
    "    return average"
   ]
  },
  {
   "cell_type": "code",
   "execution_count": 38,
   "id": "ece729f1-beec-42f5-8f89-cddee1341e26",
   "metadata": {},
   "outputs": [],
   "source": [
    "dataset['average_uppercase'] = dataset['text'].apply(average_uppercase)"
   ]
  },
  {
   "cell_type": "code",
   "execution_count": 39,
   "id": "6aac4b90-96d0-4dce-8bab-b2119da344db",
   "metadata": {},
   "outputs": [
    {
     "data": {
      "text/plain": [
       "0        3.142857\n",
       "1        8.560372\n",
       "2        9.978102\n",
       "3        7.761518\n",
       "4       10.640000\n",
       "          ...    \n",
       "4527     7.593168\n",
       "4528     7.893891\n",
       "4529     9.811765\n",
       "4530    16.505176\n",
       "4531     7.816901\n",
       "Name: average_uppercase, Length: 4532, dtype: float64"
      ]
     },
     "execution_count": 39,
     "metadata": {},
     "output_type": "execute_result"
    }
   ],
   "source": [
    "dataset['average_uppercase']"
   ]
  },
  {
   "cell_type": "code",
   "execution_count": 40,
   "id": "a3994a91-9706-4b49-a1d9-d7fa6a8e4f7d",
   "metadata": {},
   "outputs": [],
   "source": [
    "min_value = dataset['average_uppercase'].min()\n",
    "max_value = dataset['average_uppercase'].max()\n",
    "average_value = dataset['average_uppercase'].mean()"
   ]
  },
  {
   "cell_type": "code",
   "execution_count": 41,
   "id": "8c72d957-5b23-4c3e-ba32-39af8bc055f6",
   "metadata": {},
   "outputs": [
    {
     "name": "stdout",
     "output_type": "stream",
     "text": [
      "Najmenší prvok: 0.8571428571428571\n",
      "Najväčší prvok: 56.917159763313606\n",
      "Priemerná hodnota: 8.32383538607585\n"
     ]
    }
   ],
   "source": [
    "print(\"Najmenší prvok:\", min_value)\n",
    "print(\"Najväčší prvok:\", max_value)\n",
    "print(\"Priemerná hodnota:\", average_value)"
   ]
  },
  {
   "cell_type": "markdown",
   "id": "ca9e39cd-a973-4962-99b2-cc5a7b2d2ccf",
   "metadata": {},
   "source": [
    "PRIEMERNY POCET MALYCH PISMEN NA TWEET"
   ]
  },
  {
   "cell_type": "code",
   "execution_count": 42,
   "id": "e08a0ffb-4636-4f3b-8468-267bee8d990c",
   "metadata": {},
   "outputs": [],
   "source": [
    "def count_lowercase(tweet):\n",
    "    return sum(char.islower() for char in tweet)"
   ]
  },
  {
   "cell_type": "code",
   "execution_count": 43,
   "id": "1e5d50a8-c361-4d93-b5c0-a5b09867436d",
   "metadata": {},
   "outputs": [],
   "source": [
    "def average_lowercase(tweets):\n",
    "    # Spočíta celkový počet malych pismen všetkých tweetov v zozname\n",
    "    total_lowercase = sum(count_lowercase(tweet) for tweet in tweets)\n",
    "    average = total_lowercase / len(tweets) if tweets else 0\n",
    "    return average"
   ]
  },
  {
   "cell_type": "code",
   "execution_count": 44,
   "id": "9586d4f3-ab78-4265-96d2-f9e450e07f3e",
   "metadata": {},
   "outputs": [],
   "source": [
    "dataset['average_lowercase'] = dataset['text'].apply(average_lowercase)"
   ]
  },
  {
   "cell_type": "code",
   "execution_count": 45,
   "id": "76f8de75-7a57-4266-a1cc-963ef8ef710e",
   "metadata": {},
   "outputs": [
    {
     "data": {
      "text/plain": [
       "0        52.587013\n",
       "1       115.027864\n",
       "2        74.197080\n",
       "3        69.173442\n",
       "4       116.509474\n",
       "           ...    \n",
       "4527     99.518634\n",
       "4528     64.977492\n",
       "4529     62.905882\n",
       "4530    142.915114\n",
       "4531    115.281690\n",
       "Name: average_lowercase, Length: 4532, dtype: float64"
      ]
     },
     "execution_count": 45,
     "metadata": {},
     "output_type": "execute_result"
    }
   ],
   "source": [
    "dataset['average_lowercase']"
   ]
  },
  {
   "cell_type": "code",
   "execution_count": 46,
   "id": "87a92f31-8c7d-4fdf-b643-eb52d2c1e6bb",
   "metadata": {},
   "outputs": [],
   "source": [
    "min_value = dataset['average_lowercase'].min()\n",
    "max_value = dataset['average_lowercase'].max()\n",
    "average_value = dataset['average_lowercase'].mean()"
   ]
  },
  {
   "cell_type": "code",
   "execution_count": 47,
   "id": "6c2c1a08-8d54-46d7-beee-adaf8a297c2b",
   "metadata": {},
   "outputs": [
    {
     "name": "stdout",
     "output_type": "stream",
     "text": [
      "Najmenší prvok: 25.274143302180686\n",
      "Najväčší prvok: 210.23300970873785\n",
      "Priemerná hodnota: 76.81971023785272\n"
     ]
    }
   ],
   "source": [
    "print(\"Najmenší prvok:\", min_value)\n",
    "print(\"Najväčší prvok:\", max_value)\n",
    "print(\"Priemerná hodnota:\", average_value)"
   ]
  },
  {
   "cell_type": "markdown",
   "id": "ba8cda56-351e-426a-9d8e-de6232c6c167",
   "metadata": {},
   "source": [
    "PRIEMERNY POCET NEALFABETICKYCH ZNAKOV NA TWEET"
   ]
  },
  {
   "cell_type": "code",
   "execution_count": 48,
   "id": "faf5c13c-67f9-410d-a331-d0940b89861f",
   "metadata": {},
   "outputs": [],
   "source": [
    "def count_non_alpha(tweet):\n",
    "    return sum(not char.isalpha() for char in tweet)"
   ]
  },
  {
   "cell_type": "code",
   "execution_count": 49,
   "id": "2eb6ffb8-1db6-4513-8050-6a41125d3bbf",
   "metadata": {},
   "outputs": [],
   "source": [
    "def average_non_alpha(tweets):\n",
    "    # Spočíta celkový počet nealfabetickych znakov všetkých tweetov v zozname\n",
    "    total_non_alpha = sum(count_non_alpha(tweet) for tweet in tweets)\n",
    "    average = total_non_alpha / len(tweets) if tweets else 0\n",
    "    return average"
   ]
  },
  {
   "cell_type": "code",
   "execution_count": 50,
   "id": "94d5f9bc-9cdb-428c-9194-87032059570a",
   "metadata": {},
   "outputs": [],
   "source": [
    "dataset['average_non_alpha'] = dataset['text'].apply(average_non_alpha)"
   ]
  },
  {
   "cell_type": "code",
   "execution_count": 51,
   "id": "ec8d7717-59ed-4fe6-a9d7-3c25bb324699",
   "metadata": {},
   "outputs": [
    {
     "data": {
      "text/plain": [
       "0       17.997403\n",
       "1       36.402477\n",
       "2       25.236010\n",
       "3       21.230352\n",
       "4       38.892632\n",
       "          ...    \n",
       "4527    29.670807\n",
       "4528    21.514469\n",
       "4529    22.649412\n",
       "4530    46.026915\n",
       "4531    32.402817\n",
       "Name: average_non_alpha, Length: 4532, dtype: float64"
      ]
     },
     "execution_count": 51,
     "metadata": {},
     "output_type": "execute_result"
    }
   ],
   "source": [
    "dataset['average_non_alpha']"
   ]
  },
  {
   "cell_type": "code",
   "execution_count": 52,
   "id": "3eac03a4-367d-4352-a720-117e07fdd58f",
   "metadata": {},
   "outputs": [],
   "source": [
    "min_value = dataset['average_non_alpha'].min()\n",
    "max_value = dataset['average_non_alpha'].max()\n",
    "average_value = dataset['average_non_alpha'].mean()"
   ]
  },
  {
   "cell_type": "code",
   "execution_count": 53,
   "id": "ac6144a6-93e0-4fe3-bb20-e49d46d39499",
   "metadata": {},
   "outputs": [
    {
     "name": "stdout",
     "output_type": "stream",
     "text": [
      "Najmenší prvok: 7.445754716981132\n",
      "Najväčší prvok: 74.9578947368421\n",
      "Priemerná hodnota: 25.719000896048207\n"
     ]
    }
   ],
   "source": [
    "print(\"Najmenší prvok:\", min_value)\n",
    "print(\"Najväčší prvok:\", max_value)\n",
    "print(\"Priemerná hodnota:\", average_value)"
   ]
  },
  {
   "cell_type": "markdown",
   "id": "1b29cd58-405e-4bbf-ba6f-6219dc3539e1",
   "metadata": {},
   "source": [
    "\n",
    "POCET POUZITI UVODZOVIEK NA TWEET"
   ]
  },
  {
   "cell_type": "code",
   "execution_count": 54,
   "id": "c8141808-0735-4095-aba2-c1a2a1350842",
   "metadata": {},
   "outputs": [],
   "source": [
    "def average_quotes_per_tweet(tweet_list):\n",
    "    # Spočíta celkový počet úvodzoviek všetkých tweetov v zozname\n",
    "    total_quotes = sum(tweet.count('\"') for tweet in tweet_list)\n",
    "    # Vypočíta priemer úvodzoviek na tweet, delí celkový počet úvodzoviek počtom tweetov v zozname\n",
    "    if len(tweet_list) > 0:  # Aby sme predišli deleniu nulou\n",
    "        return total_quotes / len(tweet_list)\n",
    "    else:\n",
    "        return 0"
   ]
  },
  {
   "cell_type": "code",
   "execution_count": 55,
   "id": "eddfab5f-e46a-4426-88b3-26b5f56c32cf",
   "metadata": {},
   "outputs": [],
   "source": [
    "dataset['average_quotes_per_tweet'] = dataset['text'].apply(average_quotes_per_tweet)"
   ]
  },
  {
   "cell_type": "code",
   "execution_count": 56,
   "id": "54e3ad4a-b2b4-4b2f-ae74-d06c543969d6",
   "metadata": {},
   "outputs": [
    {
     "data": {
      "text/plain": [
       "0       0.137662\n",
       "1       0.092879\n",
       "2       0.004866\n",
       "3       0.000000\n",
       "4       0.056842\n",
       "          ...   \n",
       "4527    0.080745\n",
       "4528    0.000000\n",
       "4529    0.014118\n",
       "4530    0.026915\n",
       "4531    0.253521\n",
       "Name: average_quotes_per_tweet, Length: 4532, dtype: float64"
      ]
     },
     "execution_count": 56,
     "metadata": {},
     "output_type": "execute_result"
    }
   ],
   "source": [
    "dataset['average_quotes_per_tweet']"
   ]
  },
  {
   "cell_type": "code",
   "execution_count": 57,
   "id": "48606305",
   "metadata": {},
   "outputs": [],
   "source": [
    "min_value = dataset['average_quotes_per_tweet'].min()\n",
    "max_value = dataset['average_quotes_per_tweet'].max()\n",
    "average_value = dataset['average_quotes_per_tweet'].mean()"
   ]
  },
  {
   "cell_type": "code",
   "execution_count": 58,
   "id": "20e5b588",
   "metadata": {},
   "outputs": [
    {
     "name": "stdout",
     "output_type": "stream",
     "text": [
      "Najmenší prvok: 0.0\n",
      "Najväčší prvok: 1.7390029325513197\n",
      "Priemerná hodnota: 0.07039345062977763\n"
     ]
    }
   ],
   "source": [
    "print(\"Najmenší prvok:\", min_value)\n",
    "print(\"Najväčší prvok:\", max_value)\n",
    "print(\"Priemerná hodnota:\", average_value)"
   ]
  },
  {
   "cell_type": "markdown",
   "id": "52bffbcd-1b16-4278-89cf-2eb01a1dabc5",
   "metadata": {},
   "source": [
    "POCET POUZITI APOSTROFOV NA TWEET"
   ]
  },
  {
   "cell_type": "code",
   "execution_count": 59,
   "id": "141f54dd-3d5d-46a0-906b-bbad1b6cf679",
   "metadata": {},
   "outputs": [],
   "source": [
    "def average_apostrophe_per_tweet(tweet_list):\n",
    "    # Spočíta celkový počet apostrofov všetkých tweetov v zozname\n",
    "    total_apostrophe = sum(tweet.count(\"'\") for tweet in tweet_list)\n",
    "    # Vypočíta priemer apostrofov na tweet, delí celkový počet apostrofov počtom tweetov v zozname\n",
    "    if len(tweet_list) > 0:  # Aby sme predišli deleniu nulou\n",
    "        return total_apostrophe / len(tweet_list)\n",
    "    else:\n",
    "        return 0"
   ]
  },
  {
   "cell_type": "code",
   "execution_count": 60,
   "id": "663c33f8-4dfb-40c3-af79-336d774cf581",
   "metadata": {},
   "outputs": [],
   "source": [
    "dataset['average_apostrophe_per_tweet'] = dataset['text'].apply(average_apostrophe_per_tweet)"
   ]
  },
  {
   "cell_type": "code",
   "execution_count": 61,
   "id": "a590341d-8632-4a59-9a34-a67aaff2a7bf",
   "metadata": {},
   "outputs": [
    {
     "data": {
      "text/plain": [
       "0       0.737662\n",
       "1       0.061920\n",
       "2       0.009732\n",
       "3       0.102981\n",
       "4       0.193684\n",
       "          ...   \n",
       "4527    0.496894\n",
       "4528    0.286174\n",
       "4529    0.364706\n",
       "4530    0.033126\n",
       "4531    0.264789\n",
       "Name: average_apostrophe_per_tweet, Length: 4532, dtype: float64"
      ]
     },
     "execution_count": 61,
     "metadata": {},
     "output_type": "execute_result"
    }
   ],
   "source": [
    "dataset['average_apostrophe_per_tweet']"
   ]
  },
  {
   "cell_type": "code",
   "execution_count": 62,
   "id": "9381af72",
   "metadata": {},
   "outputs": [],
   "source": [
    "min_value = dataset['average_apostrophe_per_tweet'].min()\n",
    "max_value = dataset['average_apostrophe_per_tweet'].max()\n",
    "average_value = dataset['average_apostrophe_per_tweet'].mean()"
   ]
  },
  {
   "cell_type": "code",
   "execution_count": 63,
   "id": "b77828dd",
   "metadata": {},
   "outputs": [
    {
     "name": "stdout",
     "output_type": "stream",
     "text": [
      "Najmenší prvok: 0.0\n",
      "Najväčší prvok: 1.620331950207469\n",
      "Priemerná hodnota: 0.24233725585196217\n"
     ]
    }
   ],
   "source": [
    "print(\"Najmenší prvok:\", min_value)\n",
    "print(\"Najväčší prvok:\", max_value)\n",
    "print(\"Priemerná hodnota:\", average_value)"
   ]
  },
  {
   "cell_type": "markdown",
   "id": "d9eef31a-bbc1-405d-ad3a-ec722cbbefbd",
   "metadata": {},
   "source": [
    "PRIEMERNY POCET INTERPUNKCIE NA TWEET"
   ]
  },
  {
   "cell_type": "code",
   "execution_count": 64,
   "id": "9bb2329f-0d7a-4e66-ba70-8cd2c90ac80c",
   "metadata": {},
   "outputs": [],
   "source": [
    "def average_punctuation_per_tweet(tweet_list):\n",
    "    # Regex pre identifikáciu interpunkčných znamienok\n",
    "    punctuation_pattern = r'[.!?,:;\\'\\\"“”‘’(){}[\\]]'\n",
    "    \n",
    "    # Spočíta celkový počet interpunkčných znamienok vo všetkých tweetoch v zozname\n",
    "    total_punctuation = sum(len(re.findall(punctuation_pattern, tweet)) for tweet in tweet_list)\n",
    "    \n",
    "    # Vypočíta priemerný počet interpunkčných znamienok na tweet\n",
    "    average_punctuation = total_punctuation / len(tweet_list) if tweet_list else 0\n",
    "    \n",
    "    return average_punctuation"
   ]
  },
  {
   "cell_type": "code",
   "execution_count": 65,
   "id": "05bbd692-8d2b-4f47-af83-623cd90217c1",
   "metadata": {},
   "outputs": [],
   "source": [
    "dataset['average_punctuation_per_tweet'] = dataset['text'].apply(average_punctuation_per_tweet)"
   ]
  },
  {
   "cell_type": "code",
   "execution_count": 66,
   "id": "c0a74284-fe14-46b5-a957-96ca1dd2ee52",
   "metadata": {},
   "outputs": [
    {
     "data": {
      "text/plain": [
       "0       2.628571\n",
       "1       5.739938\n",
       "2       3.751825\n",
       "3       3.105691\n",
       "4       4.625263\n",
       "          ...   \n",
       "4527    3.891304\n",
       "4528    3.263666\n",
       "4529    4.894118\n",
       "4530    5.231884\n",
       "4531    5.512676\n",
       "Name: average_punctuation_per_tweet, Length: 4532, dtype: float64"
      ]
     },
     "execution_count": 66,
     "metadata": {},
     "output_type": "execute_result"
    }
   ],
   "source": [
    "dataset['average_punctuation_per_tweet']"
   ]
  },
  {
   "cell_type": "code",
   "execution_count": 67,
   "id": "94baf11d",
   "metadata": {},
   "outputs": [],
   "source": [
    "min_value = dataset['average_punctuation_per_tweet'].min()\n",
    "max_value = dataset['average_punctuation_per_tweet'].max()\n",
    "average_value = dataset['average_punctuation_per_tweet'].mean()"
   ]
  },
  {
   "cell_type": "code",
   "execution_count": 68,
   "id": "a814d1c1",
   "metadata": {},
   "outputs": [
    {
     "name": "stdout",
     "output_type": "stream",
     "text": [
      "Najmenší prvok: 0.29245283018867924\n",
      "Najväčší prvok: 11.523668639053254\n",
      "Priemerná hodnota: 4.01215365461568\n"
     ]
    }
   ],
   "source": [
    "print(\"Najmenší prvok:\", min_value)\n",
    "print(\"Najväčší prvok:\", max_value)\n",
    "print(\"Priemerná hodnota:\", average_value)"
   ]
  },
  {
   "cell_type": "markdown",
   "id": "ed385c2c-0f6d-4a4a-8b8e-379c04888907",
   "metadata": {},
   "source": [
    "PRIEMERRNY POCET DVOCH A VIAC ZA SEBOU OPAKUJUCICH ?.! ALEBO ICH KOMBINACIA"
   ]
  },
  {
   "cell_type": "code",
   "execution_count": 69,
   "id": "56c56376-bba9-4275-bdd0-3875a53042e2",
   "metadata": {},
   "outputs": [],
   "source": [
    "def average_multiple_punctuation_per_tweet(tweet_list):\n",
    "    # Regulárny výraz na nájdenie dvoch alebo viacerých po sebe idúcich ., ?, !\n",
    "    pattern = r\"[.?!]{2,}\"\n",
    "    # Spočíta výskyty vzoru v každom tweete a sčíta ich\n",
    "    total_count = sum(len(re.findall(pattern, tweet)) for tweet in tweet_list)\n",
    "    # Vypočíta priemer, pričom predíde deleniu nulou\n",
    "    if len(tweet_list) > 0:\n",
    "        return total_count / len(tweet_list)\n",
    "    else:\n",
    "        return 0"
   ]
  },
  {
   "cell_type": "code",
   "execution_count": 70,
   "id": "f153d6fa-1a6a-47db-948f-4695594c1809",
   "metadata": {},
   "outputs": [],
   "source": [
    "dataset['average_multiple_punctuation_per_tweet'] = dataset['text'].apply(average_multiple_punctuation_per_tweet)"
   ]
  },
  {
   "cell_type": "code",
   "execution_count": 71,
   "id": "3783ad80-75eb-4169-8001-bef97b441def",
   "metadata": {},
   "outputs": [
    {
     "data": {
      "text/plain": [
       "0       0.077922\n",
       "1       0.164087\n",
       "2       0.216545\n",
       "3       0.176152\n",
       "4       0.018947\n",
       "          ...   \n",
       "4527    0.155280\n",
       "4528    0.109325\n",
       "4529    0.004706\n",
       "4530    0.002070\n",
       "4531    0.047887\n",
       "Name: average_multiple_punctuation_per_tweet, Length: 4532, dtype: float64"
      ]
     },
     "execution_count": 71,
     "metadata": {},
     "output_type": "execute_result"
    }
   ],
   "source": [
    "dataset['average_multiple_punctuation_per_tweet']"
   ]
  },
  {
   "cell_type": "code",
   "execution_count": 72,
   "id": "c3a1e099",
   "metadata": {},
   "outputs": [],
   "source": [
    "min_value = dataset['average_multiple_punctuation_per_tweet'].min()\n",
    "max_value = dataset['average_multiple_punctuation_per_tweet'].max()\n",
    "average_value = dataset['average_multiple_punctuation_per_tweet'].mean()"
   ]
  },
  {
   "cell_type": "code",
   "execution_count": 73,
   "id": "1a8e934e",
   "metadata": {},
   "outputs": [
    {
     "name": "stdout",
     "output_type": "stream",
     "text": [
      "Najmenší prvok: 0.0\n",
      "Najväčší prvok: 2.337078651685393\n",
      "Priemerná hodnota: 0.2184410252700001\n"
     ]
    }
   ],
   "source": [
    "print(\"Najmenší prvok:\", min_value)\n",
    "print(\"Najväčší prvok:\", max_value)\n",
    "print(\"Priemerná hodnota:\", average_value)"
   ]
  },
  {
   "cell_type": "markdown",
   "id": "71818f69-34d6-414b-a561-068cc7300981",
   "metadata": {},
   "source": [
    "PRIEMERNY POCET STOP SLOV NA TWEET"
   ]
  },
  {
   "cell_type": "code",
   "execution_count": 74,
   "id": "5722f00c-0baf-4d33-806c-58c35c409a45",
   "metadata": {},
   "outputs": [],
   "source": [
    "def count_stopwords(tweet):\n",
    "    # nacitanie anglickych stop slov\n",
    "    stop_words = set(stopwords.words('english'))\n",
    "    # tokenizacia - rozdelenie na slova\n",
    "    word_tokens = word_tokenize(tweet)\n",
    "    # prechadzanie zoznamu slov\n",
    "    stopwords_in_tweet = [word for word in word_tokens if word.lower() in stop_words]\n",
    "    return len(stopwords_in_tweet)"
   ]
  },
  {
   "cell_type": "code",
   "execution_count": 75,
   "id": "5267eda2-ff12-47d9-882a-50a5edf86cb9",
   "metadata": {},
   "outputs": [],
   "source": [
    "def average_stopwords(tweets):\n",
    "    if not tweets: # proti deleniu 0\n",
    "        return 0\n",
    "    # Spočíta celkový počet stop words všetkých tweetov v zozname\n",
    "    total_stopwords = sum(count_stopwords(tweet) for tweet in tweets)\n",
    "    average = total_stopwords / len(tweets)# vypocita priemer\n",
    "    return average"
   ]
  },
  {
   "cell_type": "code",
   "execution_count": 76,
   "id": "915909da-eee3-4284-8a5d-3211e56e2f53",
   "metadata": {},
   "outputs": [],
   "source": [
    "dataset['average_stopwords'] = dataset['text'].apply(average_stopwords)"
   ]
  },
  {
   "cell_type": "code",
   "execution_count": 77,
   "id": "61981c14-cd78-47eb-8274-b525b5e03a07",
   "metadata": {},
   "outputs": [
    {
     "data": {
      "text/plain": [
       "0        6.644156\n",
       "1       13.294118\n",
       "2        5.746959\n",
       "3        4.214092\n",
       "4       10.888421\n",
       "          ...    \n",
       "4527     8.459627\n",
       "4528     2.292605\n",
       "4529     2.861176\n",
       "4530    11.457557\n",
       "4531    10.656338\n",
       "Name: average_stopwords, Length: 4532, dtype: float64"
      ]
     },
     "execution_count": 77,
     "metadata": {},
     "output_type": "execute_result"
    }
   ],
   "source": [
    "dataset['average_stopwords']"
   ]
  },
  {
   "cell_type": "code",
   "execution_count": 78,
   "id": "fb23bd58-caed-4ddd-a305-95cc3665fb64",
   "metadata": {},
   "outputs": [],
   "source": [
    "min_value = dataset['average_stopwords'].min()\n",
    "max_value = dataset['average_stopwords'].max()\n",
    "average_value = dataset['average_stopwords'].mean()"
   ]
  },
  {
   "cell_type": "code",
   "execution_count": 79,
   "id": "91bffc27-0622-4f7a-884b-864cc808129f",
   "metadata": {},
   "outputs": [
    {
     "name": "stdout",
     "output_type": "stream",
     "text": [
      "Najmenší prvok: 0.565\n",
      "Najväčší prvok: 22.09263157894737\n",
      "Priemerná hodnota: 6.5217067772883786\n"
     ]
    }
   ],
   "source": [
    "print(\"Najmenší prvok:\", min_value)\n",
    "print(\"Najväčší prvok:\", max_value)\n",
    "print(\"Priemerná hodnota:\", average_value)"
   ]
  },
  {
   "cell_type": "markdown",
   "id": "778eef17-b287-4179-9ef5-aabbc814acc4",
   "metadata": {},
   "source": [
    "\n",
    "PRE DALSIE CRTY JE POTREBNE ABY SME TEXT UPRAVILI"
   ]
  },
  {
   "cell_type": "markdown",
   "id": "3ad64cd7-e68a-4e48-8eef-07875e412fe9",
   "metadata": {},
   "source": [
    "UPRAVA TWEETOV"
   ]
  },
  {
   "cell_type": "code",
   "execution_count": 80,
   "id": "a26793f9-69de-40c6-ac1e-c19829e4e97c",
   "metadata": {},
   "outputs": [],
   "source": [
    "def clean_tweets(text_list):\n",
    "    cleaned_texts = []\n",
    "    for text in text_list:\n",
    "        # Odstránenie URL\n",
    "        text = re.sub(r'http\\S+|www\\S+|https\\S+', '', text, flags=re.MULTILINE)\n",
    "        # Odstránenie užívateľských označení (@) a hashtagov (#)\n",
    "        text = re.sub(r'@\\w+|#\\w+', '', text)\n",
    "        # Konverzia na malé písmená\n",
    "        text = text.lower()\n",
    "        # Odstránenie Unicode kontrolných znakov\n",
    "        text = re.sub(r'[\\u0000-\\u001F\\u0080-\\u009F]', '', text)\n",
    "        # Odstránenie nových riadkov a tabulátorov\n",
    "        text = text.replace('\\n', ' ').replace('\\r', ' ').replace('\\t', ' ')\n",
    "        # Odstránenie nealfabetických znakov a nadbytočných medzier\n",
    "        text = re.sub(r'[^a-z\\s]', '', text).strip()\n",
    "        # Ak je tweet prázdny, nepripojíme ho\n",
    "        if text:\n",
    "            cleaned_texts.append(text)\n",
    "    return cleaned_texts"
   ]
  },
  {
   "cell_type": "code",
   "execution_count": 81,
   "id": "7e691a44-f687-46bc-8de9-fb348e6dd054",
   "metadata": {},
   "outputs": [],
   "source": [
    "dataset['clean_tweets'] = dataset['text'].apply(clean_tweets)"
   ]
  },
  {
   "cell_type": "markdown",
   "id": "6d671134-4b9a-4810-81ac-3654ced5af3b",
   "metadata": {},
   "source": [
    "TOKENIZACIA NA VETY A UPRAVA VIET"
   ]
  },
  {
   "cell_type": "code",
   "execution_count": 82,
   "id": "135fdf3b-c489-49f2-b218-60046bdcedd7",
   "metadata": {},
   "outputs": [],
   "source": [
    "def preprocess_text_sentenses(text):\n",
    "    # Ak je text zoznam tweetov, spojíme ho do jedného reťazca s bodkami ako oddelovačmi.\n",
    "    if isinstance(text, list):\n",
    "        # Pridáme bodku na koniec každého tweetu, ak tam už nie je, a potom spojíme do jedného reťazca.\n",
    "        text = '. '.join(t.strip() + ('' if t.strip().endswith('.') else '.') for t in text)\n",
    "    # Rozdelíme text na vety\n",
    "    sentences = sent_tokenize(text)\n",
    "    # Pripravíme zoznam stop slov\n",
    "    stop_words = set(stopwords.words('english'))\n",
    "    \n",
    "    # Predspracujeme každú vetu\n",
    "    cleaned_sentences = []\n",
    "    for sentence in sentences:\n",
    "        # Odstránenie URL\n",
    "        sentence = re.sub(r'http\\S+|www\\S+|https\\S+', '', sentence, flags=re.MULTILINE)\n",
    "        # Odstránime všetky znaky, ktoré nie sú alfanumerické alebo sú medzerami\n",
    "        sentence = re.sub(r'[^a-z\\s]', '', sentence, flags=re.I)\n",
    "        # Odstránenie Unicode kontrolných znakov\n",
    "        sentence = re.sub(r'[\\u0000-\\u001F\\u0080-\\u009F]', '', sentence)\n",
    "        # Odstránenie nových riadkov a tabulátorov\n",
    "        sentence = sentence.replace('\\n', ' ').replace('\\r', ' ').replace('\\t', ' ')\n",
    "        # Prevedieme na malé písmená\n",
    "        sentence = sentence.lower()\n",
    "        # Tokenizujeme vetu\n",
    "        words = word_tokenize(sentence)\n",
    "        # Odstránime stop slová\n",
    "        words = [word for word in words if word not in stop_words]\n",
    "        # Spojíme slová späť do vety a pridáme len ak nie je prázdna\n",
    "        cleaned_sentence = ' '.join(words)\n",
    "        if cleaned_sentence:\n",
    "            cleaned_sentences.append(cleaned_sentence)\n",
    "    \n",
    "    return cleaned_sentences"
   ]
  },
  {
   "cell_type": "code",
   "execution_count": 83,
   "id": "941baefc-382e-4332-944e-7d14f0b9e134",
   "metadata": {},
   "outputs": [],
   "source": [
    "dataset['clean_sentenses'] = dataset['text'].apply(preprocess_text_sentenses)"
   ]
  },
  {
   "cell_type": "markdown",
   "id": "13ec2928-fb10-4252-9d56-1c8c08394a57",
   "metadata": {},
   "source": [
    "TOKENIZACIA NA SLOVA A ICH UPRAVA"
   ]
  },
  {
   "cell_type": "code",
   "execution_count": 84,
   "id": "2e56c16a-97cd-469f-883f-7acb5adf69b5",
   "metadata": {},
   "outputs": [],
   "source": [
    "def preprocess_text(text):\n",
    "    if isinstance(text, list):\n",
    "        text = ' '.join(text)\n",
    "    stop_words = set(stopwords.words('english'))\n",
    "    # Odstránenie URL\n",
    "    text = re.sub(r'http\\S+|www\\S+|https\\S+', '', text, flags=re.MULTILINE)\n",
    "    # Odstránenie užívateľských označení (@) a hashtagov (#)\n",
    "    text = re.sub(r'@\\w+|#\\w+', '', text)\n",
    "    # Konverzia na malé písmená\n",
    "    text = text.lower()\n",
    "    # Odstránenie Unicode kontrolných znakov\n",
    "    text = re.sub(r'[\\u0000-\\u001F\\u0080-\\u009F]', '', text)\n",
    "    # Odstránenie nových riadkov a tabulátorov\n",
    "    text = text.replace('\\n', ' ').replace('\\r', ' ').replace('\\t', ' ')\n",
    "    # Odstránenie nealfabetických znakov a nadbytočných medzier\n",
    "    text = re.sub(r'[^a-z\\s]', '', text).strip()\n",
    "    # Tokenizácia\n",
    "    tokens = word_tokenize(text)\n",
    "    # Odstránenie stop slov\n",
    "    tokens = [word for word in tokens if word not in stop_words]\n",
    "    return tokens"
   ]
  },
  {
   "cell_type": "code",
   "execution_count": 85,
   "id": "333bd7ca-a73f-48a0-9c81-344c5aee5a92",
   "metadata": {},
   "outputs": [],
   "source": [
    "dataset['processed_text'] = dataset['text'].apply(preprocess_text)"
   ]
  },
  {
   "cell_type": "markdown",
   "id": "1beb1010-a3bb-4f4e-8a8d-2c1f92968422",
   "metadata": {},
   "source": [
    "PRIEMERNA DLZKA SLOV"
   ]
  },
  {
   "cell_type": "code",
   "execution_count": 86,
   "id": "04a3f2d3-0caf-416f-93c8-6d8ca4267384",
   "metadata": {},
   "outputs": [],
   "source": [
    "def average_word_length(tokens):\n",
    "    if not tokens:#osetrenie prosti deleniu 0\n",
    "        return 0\n",
    "    else:\n",
    "        total_length = sum(len(word) for word in tokens) #spocitanie dlzok vsetkych slov\n",
    "        return total_length / len(tokens)"
   ]
  },
  {
   "cell_type": "code",
   "execution_count": 87,
   "id": "35b8f3ec-8719-4a9a-acfe-faf19d187664",
   "metadata": {},
   "outputs": [],
   "source": [
    "dataset['average_word_length'] = dataset['processed_text'].apply(average_word_length)"
   ]
  },
  {
   "cell_type": "code",
   "execution_count": 88,
   "id": "bc088587-33eb-4ef2-8220-bda48a5988a5",
   "metadata": {},
   "outputs": [
    {
     "data": {
      "text/plain": [
       "0       5.033699\n",
       "1       5.852282\n",
       "2       5.057388\n",
       "3       5.696087\n",
       "4       5.534196\n",
       "          ...   \n",
       "4527    5.959164\n",
       "4528    5.868441\n",
       "4529    5.957433\n",
       "4530    6.304931\n",
       "4531    6.307412\n",
       "Name: average_word_length, Length: 4532, dtype: float64"
      ]
     },
     "execution_count": 88,
     "metadata": {},
     "output_type": "execute_result"
    }
   ],
   "source": [
    "dataset['average_word_length']"
   ]
  },
  {
   "cell_type": "code",
   "execution_count": 89,
   "id": "9ecd52c4-a7ad-46d8-8da7-5cd911fa570a",
   "metadata": {},
   "outputs": [],
   "source": [
    "min_value = dataset['average_word_length'].min()\n",
    "max_value = dataset['average_word_length'].max()\n",
    "average_value = dataset['average_word_length'].mean()"
   ]
  },
  {
   "cell_type": "code",
   "execution_count": 90,
   "id": "5ca56bb2-8349-4a3a-9078-211f75a84f10",
   "metadata": {},
   "outputs": [
    {
     "name": "stdout",
     "output_type": "stream",
     "text": [
      "Najmenší prvok: 4.0438829787234045\n",
      "Najväčší prvok: 8.750774679061532\n",
      "Priemerná hodnota: 5.546002172499442\n"
     ]
    }
   ],
   "source": [
    "print(\"Najmenší prvok:\", min_value)\n",
    "print(\"Najväčší prvok:\", max_value)\n",
    "print(\"Priemerná hodnota:\", average_value)"
   ]
  },
  {
   "cell_type": "markdown",
   "id": "df1829c6-54cc-47e4-a57a-13fbe340c644",
   "metadata": {},
   "source": [
    "\n",
    "PRIEMERNY POCET SLOV NA VETU"
   ]
  },
  {
   "cell_type": "code",
   "execution_count": 91,
   "id": "17bea3c7-37b8-42fe-8bf7-6992494de0d8",
   "metadata": {},
   "outputs": [],
   "source": [
    "def calculate_avg_words_per_sentence(clean_sentences_list):\n",
    "    total_words = sum(len(sentence.split()) for sentence in clean_sentences_list)#spocitanie všetkých slov vo vetach\n",
    "    total_sentences = len(clean_sentences_list)#pocet viet\n",
    "    # Ošetrenie delenia nulou, v prípade že nie sú žiadne vety\n",
    "    return total_words / total_sentences if total_sentences > 0 else 0"
   ]
  },
  {
   "cell_type": "code",
   "execution_count": 92,
   "id": "6526b963-1f61-4973-b3ff-78342048bdb5",
   "metadata": {},
   "outputs": [],
   "source": [
    "dataset['avg_words_per_sentence'] = dataset['clean_sentenses'].apply(calculate_avg_words_per_sentence)"
   ]
  },
  {
   "cell_type": "code",
   "execution_count": 93,
   "id": "3f3866c8-45e2-426b-b245-18c8481d99fb",
   "metadata": {},
   "outputs": [
    {
     "data": {
      "text/plain": [
       "0        7.481793\n",
       "1        5.437588\n",
       "2        5.116900\n",
       "3        9.701695\n",
       "4       11.310030\n",
       "          ...    \n",
       "4527    11.452308\n",
       "4528     9.903846\n",
       "4529    31.215517\n",
       "4530    31.461847\n",
       "4531     8.042808\n",
       "Name: avg_words_per_sentence, Length: 4532, dtype: float64"
      ]
     },
     "execution_count": 93,
     "metadata": {},
     "output_type": "execute_result"
    }
   ],
   "source": [
    "dataset['avg_words_per_sentence']"
   ]
  },
  {
   "cell_type": "code",
   "execution_count": 94,
   "id": "3b9fc039",
   "metadata": {},
   "outputs": [],
   "source": [
    "min_value = dataset['avg_words_per_sentence'].min()\n",
    "max_value = dataset['avg_words_per_sentence'].max()\n",
    "average_value = dataset['avg_words_per_sentence'].mean()"
   ]
  },
  {
   "cell_type": "code",
   "execution_count": 95,
   "id": "74b15f50",
   "metadata": {},
   "outputs": [
    {
     "name": "stdout",
     "output_type": "stream",
     "text": [
      "Najmenší prvok: 2.972843450479233\n",
      "Najväčší prvok: 189.34782608695653\n",
      "Priemerná hodnota: 8.71294074997081\n"
     ]
    }
   ],
   "source": [
    "print(\"Najmenší prvok:\", min_value)\n",
    "print(\"Najväčší prvok:\", max_value)\n",
    "print(\"Priemerná hodnota:\", average_value)"
   ]
  },
  {
   "cell_type": "markdown",
   "id": "14659ab7-0169-46c6-84a5-14da21dbb631",
   "metadata": {},
   "source": [
    "PRIEMERNY POCET ZNAKOV NA VETU"
   ]
  },
  {
   "cell_type": "code",
   "execution_count": 96,
   "id": "f6b4a83c-bd20-492e-8ffb-e3ae453d5e41",
   "metadata": {},
   "outputs": [],
   "source": [
    "def calculate_avg_chars_per_sentence(clean_sentences_list):\n",
    "    total_chars = sum(len(sentence) for sentence in clean_sentences_list)#spocitanie všetkych znakov vo vetach\n",
    "    total_sentences = len(clean_sentences_list)\n",
    "    # Ošetrenie delenia nulou\n",
    "    return total_chars / total_sentences if total_sentences > 0 else 0"
   ]
  },
  {
   "cell_type": "code",
   "execution_count": 97,
   "id": "39af5aac-4ff7-428f-8b00-fcad99f3f0d7",
   "metadata": {},
   "outputs": [],
   "source": [
    "dataset['avg_chars_per_sentence'] = dataset['clean_sentenses'].apply(calculate_avg_chars_per_sentence)"
   ]
  },
  {
   "cell_type": "code",
   "execution_count": 98,
   "id": "69169331-e7f7-4651-b79f-d60e18cf91f0",
   "metadata": {},
   "outputs": [
    {
     "data": {
      "text/plain": [
       "0        44.526611\n",
       "1        37.012623\n",
       "2        36.564168\n",
       "3        75.549153\n",
       "4        75.015198\n",
       "           ...    \n",
       "4527     88.166154\n",
       "4528     84.509615\n",
       "4529    205.663793\n",
       "4530    228.955823\n",
       "4531     60.005137\n",
       "Name: avg_chars_per_sentence, Length: 4532, dtype: float64"
      ]
     },
     "execution_count": 98,
     "metadata": {},
     "output_type": "execute_result"
    }
   ],
   "source": [
    "dataset['avg_chars_per_sentence']"
   ]
  },
  {
   "cell_type": "code",
   "execution_count": 99,
   "id": "5ee3fc3c",
   "metadata": {},
   "outputs": [],
   "source": [
    "min_value = dataset['avg_chars_per_sentence'].min()\n",
    "max_value = dataset['avg_chars_per_sentence'].max()\n",
    "average_value = dataset['avg_chars_per_sentence'].mean()"
   ]
  },
  {
   "cell_type": "code",
   "execution_count": 100,
   "id": "5a406e77",
   "metadata": {},
   "outputs": [
    {
     "name": "stdout",
     "output_type": "stream",
     "text": [
      "Najmenší prvok: 18.418647166361975\n",
      "Najväčší prvok: 1325.5217391304348\n",
      "Priemerná hodnota: 62.28669805404071\n"
     ]
    }
   ],
   "source": [
    "print(\"Najmenší prvok:\", min_value)\n",
    "print(\"Najväčší prvok:\", max_value)\n",
    "print(\"Priemerná hodnota:\", average_value)"
   ]
  },
  {
   "cell_type": "markdown",
   "id": "28f7ec35-88fd-4e27-8d28-13873f99e5d0",
   "metadata": {},
   "source": [
    "PRIEMERNY POCET VIET NA TWEET"
   ]
  },
  {
   "cell_type": "code",
   "execution_count": 101,
   "id": "ba586d97-5410-486c-9b28-98935682b005",
   "metadata": {},
   "outputs": [],
   "source": [
    "dataset['avg_sentences_per_tweet'] = dataset.apply(lambda row: len(row['clean_sentenses']) / len(row['clean_tweets']) if row['clean_tweets'] else 0, axis=1)#v kazdom riadku delime pocet viet počtom tweetov, osetrenie pred delenim 0"
   ]
  },
  {
   "cell_type": "code",
   "execution_count": 102,
   "id": "b163f6db-e4a1-4910-a706-3f65cb01cb23",
   "metadata": {},
   "outputs": [
    {
     "data": {
      "text/plain": [
       "0       0.929688\n",
       "1       2.207430\n",
       "2       1.924205\n",
       "3       0.801630\n",
       "4       1.385263\n",
       "          ...   \n",
       "4527    1.022013\n",
       "4528    0.693333\n",
       "4529    0.272941\n",
       "4530    0.515528\n",
       "4531    1.649718\n",
       "Name: avg_sentences_per_tweet, Length: 4532, dtype: float64"
      ]
     },
     "execution_count": 102,
     "metadata": {},
     "output_type": "execute_result"
    }
   ],
   "source": [
    "dataset['avg_sentences_per_tweet']"
   ]
  },
  {
   "cell_type": "code",
   "execution_count": 103,
   "id": "cb5b8b2f",
   "metadata": {},
   "outputs": [],
   "source": [
    "min_value = dataset['avg_sentences_per_tweet'].min()\n",
    "max_value = dataset['avg_sentences_per_tweet'].max()\n",
    "average_value = dataset['avg_sentences_per_tweet'].mean()"
   ]
  },
  {
   "cell_type": "code",
   "execution_count": 104,
   "id": "b4c7b975",
   "metadata": {},
   "outputs": [
    {
     "name": "stdout",
     "output_type": "stream",
     "text": [
      "Najmenší prvok: 0.05203619909502263\n",
      "Najväčší prvok: 4.330645161290323\n",
      "Priemerná hodnota: 1.2531356527989697\n"
     ]
    }
   ],
   "source": [
    "print(\"Najmenší prvok:\", min_value)\n",
    "print(\"Najväčší prvok:\", max_value)\n",
    "print(\"Priemerná hodnota:\", average_value)"
   ]
  },
  {
   "cell_type": "markdown",
   "id": "87b3ddf3-bfb6-46df-8b38-85884631467c",
   "metadata": {},
   "source": [
    "PRIEMERNY POCET SLOV NA TWEET"
   ]
  },
  {
   "cell_type": "code",
   "execution_count": 105,
   "id": "b997c1c5-305f-4735-9410-17ee7bb80632",
   "metadata": {},
   "outputs": [],
   "source": [
    "dataset['avg_words_per_tweet'] = dataset.apply(lambda row: len(row['processed_text']) / len(row['clean_tweets']) if row['clean_tweets'] else 0, axis=1)#v kazdom riadku delime pocet slov počtom tweetov, osetrenie pred delenim 0"
   ]
  },
  {
   "cell_type": "code",
   "execution_count": 106,
   "id": "2e9f9376-175b-4a38-9b4e-4282d0dc640d",
   "metadata": {},
   "outputs": [
    {
     "data": {
      "text/plain": [
       "0        6.877604\n",
       "1       11.736842\n",
       "2        7.114914\n",
       "3        6.250000\n",
       "4       13.821053\n",
       "          ...    \n",
       "4527     9.779874\n",
       "4528     4.510000\n",
       "4529     7.407059\n",
       "4530    16.207039\n",
       "4531    12.387006\n",
       "Name: avg_words_per_tweet, Length: 4532, dtype: float64"
      ]
     },
     "execution_count": 106,
     "metadata": {},
     "output_type": "execute_result"
    }
   ],
   "source": [
    "dataset['avg_words_per_tweet']"
   ]
  },
  {
   "cell_type": "code",
   "execution_count": 107,
   "id": "f2424d17",
   "metadata": {},
   "outputs": [],
   "source": [
    "min_value = dataset['avg_words_per_tweet'].min()\n",
    "max_value = dataset['avg_words_per_tweet'].max()\n",
    "average_value = dataset['avg_words_per_tweet'].mean()"
   ]
  },
  {
   "cell_type": "code",
   "execution_count": 108,
   "id": "7316308b",
   "metadata": {},
   "outputs": [
    {
     "name": "stdout",
     "output_type": "stream",
     "text": [
      "Najmenší prvok: 2.405727923627685\n",
      "Najväčší prvok: 25.60421052631579\n",
      "Priemerná hodnota: 8.141568373522807\n"
     ]
    }
   ],
   "source": [
    "print(\"Najmenší prvok:\", min_value)\n",
    "print(\"Najväčší prvok:\", max_value)\n",
    "print(\"Priemerná hodnota:\", average_value)"
   ]
  },
  {
   "cell_type": "markdown",
   "id": "1f218ccb-1d3c-4292-9768-d4b71a8a9c6f",
   "metadata": {},
   "source": [
    "PRIEMERNY POCET ZNAKOV NA TWEET\n"
   ]
  },
  {
   "cell_type": "code",
   "execution_count": 109,
   "id": "5718ad76-f436-4247-85c6-ede520b8bb79",
   "metadata": {},
   "outputs": [],
   "source": [
    "dataset['avg_chars_per_tweet'] = dataset['clean_tweets'].apply(lambda tweets: sum(len(tweet) for tweet in tweets) / len(tweets) if tweets else 0)#spocitame vsetky znaky v tweetoch a vydelime poctom tweetov, osetrenie pred delenim 0"
   ]
  },
  {
   "cell_type": "code",
   "execution_count": 110,
   "id": "0c0201f2-1c3d-4610-b932-1477c5ed1069",
   "metadata": {},
   "outputs": [
    {
     "data": {
      "text/plain": [
       "0        63.539062\n",
       "1       128.086687\n",
       "2        62.875306\n",
       "3        57.046196\n",
       "4       133.008421\n",
       "           ...    \n",
       "4527     98.915094\n",
       "4528     39.406667\n",
       "4529     62.287059\n",
       "4530    159.859213\n",
       "4531    127.875706\n",
       "Name: avg_chars_per_tweet, Length: 4532, dtype: float64"
      ]
     },
     "execution_count": 110,
     "metadata": {},
     "output_type": "execute_result"
    }
   ],
   "source": [
    "dataset['avg_chars_per_tweet']"
   ]
  },
  {
   "cell_type": "code",
   "execution_count": 111,
   "id": "c62242aa",
   "metadata": {},
   "outputs": [],
   "source": [
    "min_value = dataset['avg_chars_per_tweet'].min()\n",
    "max_value = dataset['avg_chars_per_tweet'].max()\n",
    "average_value = dataset['avg_chars_per_tweet'].mean()"
   ]
  },
  {
   "cell_type": "code",
   "execution_count": 112,
   "id": "892b50ee",
   "metadata": {},
   "outputs": [
    {
     "name": "stdout",
     "output_type": "stream",
     "text": [
      "Najmenší prvok: 18.2325\n",
      "Najväčší prvok: 238.84842105263158\n",
      "Priemerná hodnota: 76.92314494830369\n"
     ]
    }
   ],
   "source": [
    "print(\"Najmenší prvok:\", min_value)\n",
    "print(\"Najväčší prvok:\", max_value)\n",
    "print(\"Priemerná hodnota:\", average_value)"
   ]
  },
  {
   "cell_type": "markdown",
   "id": "0711fe71-92f2-408b-9b35-7ff7b6dd0580",
   "metadata": {},
   "source": [
    "PRIEMERNY POCET POCET OPAKOVANI 3 A VIAC ZNAKOV ZA SEBOU NA TWEET"
   ]
  },
  {
   "cell_type": "code",
   "execution_count": 113,
   "id": "00ac5ad1-486b-4655-b539-1909e2f7938c",
   "metadata": {},
   "outputs": [],
   "source": [
    "def count_repeated_letters(text):\n",
    "    repeated_pattern = re.compile(r'(.)\\1{2,}')  # Hľadá jeden znak opakovaný aspoň trikrát\n",
    "    matches = repeated_pattern.findall(' '.join(text))  # Text je list, spojíme do jedného reťazca\n",
    "    return len(matches) "
   ]
  },
  {
   "cell_type": "code",
   "execution_count": 114,
   "id": "43d645af-9455-4c93-9cd5-842db2e186ca",
   "metadata": {},
   "outputs": [],
   "source": [
    "dataset['average_repeats_per_tweet'] = dataset.apply(lambda row: count_repeated_letters(row['processed_text']) / len(row['text']) if len(row['text']) > 0 else 0, axis=1)#v každom riadku vydeli počet opakovani 3 a viac za sebou počtom tweetov "
   ]
  },
  {
   "cell_type": "code",
   "execution_count": 115,
   "id": "0fa5c539-f4fb-46fd-ae03-7ebc0e220168",
   "metadata": {},
   "outputs": [
    {
     "data": {
      "text/plain": [
       "0       0.007792\n",
       "1       0.003096\n",
       "2       0.012165\n",
       "3       0.008130\n",
       "4       0.008421\n",
       "          ...   \n",
       "4527    0.000000\n",
       "4528    0.012862\n",
       "4529    0.000000\n",
       "4530    0.000000\n",
       "4531    0.002817\n",
       "Name: average_repeats_per_tweet, Length: 4532, dtype: float64"
      ]
     },
     "execution_count": 115,
     "metadata": {},
     "output_type": "execute_result"
    }
   ],
   "source": [
    "dataset['average_repeats_per_tweet']"
   ]
  },
  {
   "cell_type": "code",
   "execution_count": 116,
   "id": "ae964826",
   "metadata": {},
   "outputs": [],
   "source": [
    "min_value = dataset['average_repeats_per_tweet'].min()\n",
    "max_value = dataset['average_repeats_per_tweet'].max()\n",
    "average_value = dataset['average_repeats_per_tweet'].mean()"
   ]
  },
  {
   "cell_type": "code",
   "execution_count": 117,
   "id": "ac190dbc",
   "metadata": {},
   "outputs": [
    {
     "name": "stdout",
     "output_type": "stream",
     "text": [
      "Najmenší prvok: 0.0\n",
      "Najväčší prvok: 0.6401098901098901\n",
      "Priemerná hodnota: 0.020630025459547854\n"
     ]
    }
   ],
   "source": [
    "print(\"Najmenší prvok:\", min_value)\n",
    "print(\"Najväčší prvok:\", max_value)\n",
    "print(\"Priemerná hodnota:\", average_value)"
   ]
  },
  {
   "cell_type": "markdown",
   "id": "e02323a0-695b-4e88-8768-01cdc76c8699",
   "metadata": {},
   "source": [
    "SLOVNA ZASOBA"
   ]
  },
  {
   "cell_type": "markdown",
   "id": "cd3233e0-c2f6-42de-af83-841e395a0051",
   "metadata": {},
   "source": [
    "\n",
    "PRED TYM SI VSAK LEMATIZUJEME SLOVA"
   ]
  },
  {
   "cell_type": "code",
   "execution_count": 118,
   "id": "6c3ba29b-dbe6-499b-94e5-7603abbdbac6",
   "metadata": {},
   "outputs": [],
   "source": [
    "def lemmatize_tokens(tokens):\n",
    "    lemmatizer = WordNetLemmatizer()#lemantizacia - necha sa iba koreň slova\n",
    "    return [lemmatizer.lemmatize(token) for token in tokens]"
   ]
  },
  {
   "cell_type": "code",
   "execution_count": 119,
   "id": "2ee2372a-eae9-48b8-aa6d-b294d4ce3ffb",
   "metadata": {},
   "outputs": [],
   "source": [
    "dataset['processed_text2'] = dataset['processed_text'].apply(lemmatize_tokens)"
   ]
  },
  {
   "cell_type": "code",
   "execution_count": 120,
   "id": "562288ce-aead-4caa-af05-974d75d44013",
   "metadata": {},
   "outputs": [],
   "source": [
    "def vocabulary_size(lemmatized_tokens):\n",
    "    return len(set(lemmatized_tokens))#set vrati iba unikatne slova, vymaze duplikaty"
   ]
  },
  {
   "cell_type": "code",
   "execution_count": 121,
   "id": "085c2189-215b-4273-a4d2-cbf36038a947",
   "metadata": {},
   "outputs": [],
   "source": [
    "dataset['vocabulary_size'] = dataset['processed_text2'].apply(vocabulary_size)"
   ]
  },
  {
   "cell_type": "code",
   "execution_count": 122,
   "id": "20a563f2-a9e9-41d2-af99-0418bfeadff7",
   "metadata": {},
   "outputs": [
    {
     "data": {
      "text/plain": [
       "0        964\n",
       "1       1636\n",
       "2        947\n",
       "3       1081\n",
       "4       2050\n",
       "        ... \n",
       "4527    1455\n",
       "4528     617\n",
       "4529    1450\n",
       "4530    2517\n",
       "4531    1897\n",
       "Name: vocabulary_size, Length: 4532, dtype: int64"
      ]
     },
     "execution_count": 122,
     "metadata": {},
     "output_type": "execute_result"
    }
   ],
   "source": [
    "dataset['vocabulary_size']"
   ]
  },
  {
   "cell_type": "code",
   "execution_count": 123,
   "id": "b965500c-411e-4891-bc13-6b0f01747136",
   "metadata": {},
   "outputs": [],
   "source": [
    "min_value = dataset['vocabulary_size'].min()\n",
    "max_value = dataset['vocabulary_size'].max()\n",
    "average_value = dataset['vocabulary_size'].mean()"
   ]
  },
  {
   "cell_type": "code",
   "execution_count": 124,
   "id": "7f79e20f-a102-4c94-88c8-d0fc9a0511df",
   "metadata": {},
   "outputs": [
    {
     "name": "stdout",
     "output_type": "stream",
     "text": [
      "Najmenší prvok: 41\n",
      "Najväčší prvok: 3520\n",
      "Priemerná hodnota: 1278.208958517211\n"
     ]
    }
   ],
   "source": [
    "print(\"Najmenší prvok:\", min_value)\n",
    "print(\"Najväčší prvok:\", max_value)\n",
    "print(\"Priemerná hodnota:\", average_value)"
   ]
  },
  {
   "cell_type": "markdown",
   "id": "cd93a12a-a16b-4b95-9316-26b15e999900",
   "metadata": {},
   "source": [
    "Vytvorím si ešte spojený očistený text, ktorý neskôr použijem pri textových reprezentáciach"
   ]
  },
  {
   "cell_type": "code",
   "execution_count": 125,
   "id": "145083fb-226d-4f6a-934a-d7c37e9931b9",
   "metadata": {},
   "outputs": [],
   "source": [
    "dataset['text_joined'] = dataset['processed_text2'].apply(lambda tokens: ' '.join(tokens) if isinstance(tokens, list) else \"\")"
   ]
  },
  {
   "cell_type": "markdown",
   "id": "6f97a4ff-477f-4f01-8d32-0123bf2ea82b",
   "metadata": {},
   "source": [
    "VYMAZANIE NEPOTREBNYCH STLPCOV"
   ]
  },
  {
   "cell_type": "markdown",
   "id": "c2928340-93eb-4e5a-ad72-461a8bb6aac4",
   "metadata": {},
   "source": [
    "\n",
    "Vymažeme si stlpce, ktore vieme, že už určite nebudeme potrebovať"
   ]
  },
  {
   "cell_type": "code",
   "execution_count": 126,
   "id": "3c384c5d-22d7-45e5-94d4-e4689079aab1",
   "metadata": {},
   "outputs": [
    {
     "name": "stdout",
     "output_type": "stream",
     "text": [
      "<class 'pandas.core.frame.DataFrame'>\n",
      "RangeIndex: 4532 entries, 0 to 4531\n",
      "Data columns (total 34 columns):\n",
      " #   Column                                  Non-Null Count  Dtype   \n",
      "---  ------                                  --------------  -----   \n",
      " 0   text                                    4532 non-null   object  \n",
      " 1   id                                      4532 non-null   int64   \n",
      " 2   occupation                              4532 non-null   object  \n",
      " 3   gender                                  4532 non-null   object  \n",
      " 4   fame                                    4532 non-null   object  \n",
      " 5   birthyear                               4532 non-null   int64   \n",
      " 6   age                                     4532 non-null   int64   \n",
      " 7   age_group                               4532 non-null   category\n",
      " 8   average_emoji                           4532 non-null   float64 \n",
      " 9   average_urls                            4532 non-null   float64 \n",
      " 10  average_mentions                        4532 non-null   float64 \n",
      " 11  average_hashtags                        4532 non-null   float64 \n",
      " 12  average_digits                          4532 non-null   float64 \n",
      " 13  average_uppercase                       4532 non-null   float64 \n",
      " 14  average_lowercase                       4532 non-null   float64 \n",
      " 15  average_non_alpha                       4532 non-null   float64 \n",
      " 16  average_quotes_per_tweet                4532 non-null   float64 \n",
      " 17  average_apostrophe_per_tweet            4532 non-null   float64 \n",
      " 18  average_punctuation_per_tweet           4532 non-null   float64 \n",
      " 19  average_multiple_punctuation_per_tweet  4532 non-null   float64 \n",
      " 20  average_stopwords                       4532 non-null   float64 \n",
      " 21  clean_tweets                            4532 non-null   object  \n",
      " 22  clean_sentenses                         4532 non-null   object  \n",
      " 23  processed_text                          4532 non-null   object  \n",
      " 24  average_word_length                     4532 non-null   float64 \n",
      " 25  avg_words_per_sentence                  4532 non-null   float64 \n",
      " 26  avg_chars_per_sentence                  4532 non-null   float64 \n",
      " 27  avg_sentences_per_tweet                 4532 non-null   float64 \n",
      " 28  avg_words_per_tweet                     4532 non-null   float64 \n",
      " 29  avg_chars_per_tweet                     4532 non-null   float64 \n",
      " 30  average_repeats_per_tweet               4532 non-null   float64 \n",
      " 31  processed_text2                         4532 non-null   object  \n",
      " 32  vocabulary_size                         4532 non-null   int64   \n",
      " 33  text_joined                             4532 non-null   object  \n",
      "dtypes: category(1), float64(20), int64(4), object(9)\n",
      "memory usage: 1.1+ MB\n"
     ]
    }
   ],
   "source": [
    "dataset.info()"
   ]
  },
  {
   "cell_type": "code",
   "execution_count": 127,
   "id": "ac77fced-8553-4184-8170-fdbec09838ff",
   "metadata": {},
   "outputs": [],
   "source": [
    "dataset=dataset.drop([ 'occupation',  'fame','birthyear', 'age', 'processed_text', 'text',  'processed_text2', 'clean_sentenses', 'clean_tweets' ], axis=1)"
   ]
  },
  {
   "cell_type": "code",
   "execution_count": 128,
   "id": "81343ca1-2339-4477-89ec-d16201c82800",
   "metadata": {},
   "outputs": [
    {
     "name": "stdout",
     "output_type": "stream",
     "text": [
      "<class 'pandas.core.frame.DataFrame'>\n",
      "RangeIndex: 4532 entries, 0 to 4531\n",
      "Data columns (total 25 columns):\n",
      " #   Column                                  Non-Null Count  Dtype   \n",
      "---  ------                                  --------------  -----   \n",
      " 0   id                                      4532 non-null   int64   \n",
      " 1   gender                                  4532 non-null   object  \n",
      " 2   age_group                               4532 non-null   category\n",
      " 3   average_emoji                           4532 non-null   float64 \n",
      " 4   average_urls                            4532 non-null   float64 \n",
      " 5   average_mentions                        4532 non-null   float64 \n",
      " 6   average_hashtags                        4532 non-null   float64 \n",
      " 7   average_digits                          4532 non-null   float64 \n",
      " 8   average_uppercase                       4532 non-null   float64 \n",
      " 9   average_lowercase                       4532 non-null   float64 \n",
      " 10  average_non_alpha                       4532 non-null   float64 \n",
      " 11  average_quotes_per_tweet                4532 non-null   float64 \n",
      " 12  average_apostrophe_per_tweet            4532 non-null   float64 \n",
      " 13  average_punctuation_per_tweet           4532 non-null   float64 \n",
      " 14  average_multiple_punctuation_per_tweet  4532 non-null   float64 \n",
      " 15  average_stopwords                       4532 non-null   float64 \n",
      " 16  average_word_length                     4532 non-null   float64 \n",
      " 17  avg_words_per_sentence                  4532 non-null   float64 \n",
      " 18  avg_chars_per_sentence                  4532 non-null   float64 \n",
      " 19  avg_sentences_per_tweet                 4532 non-null   float64 \n",
      " 20  avg_words_per_tweet                     4532 non-null   float64 \n",
      " 21  avg_chars_per_tweet                     4532 non-null   float64 \n",
      " 22  average_repeats_per_tweet               4532 non-null   float64 \n",
      " 23  vocabulary_size                         4532 non-null   int64   \n",
      " 24  text_joined                             4532 non-null   object  \n",
      "dtypes: category(1), float64(20), int64(2), object(2)\n",
      "memory usage: 854.7+ KB\n"
     ]
    }
   ],
   "source": [
    "dataset.info()"
   ]
  },
  {
   "cell_type": "markdown",
   "id": "31146508-64e8-4e99-a336-c34885abf1cc",
   "metadata": {},
   "source": [
    "\n",
    "KATEGORICKE STLPCE"
   ]
  },
  {
   "cell_type": "markdown",
   "id": "ed07dfab-c523-4f19-8dba-74b8ad8a6d8e",
   "metadata": {},
   "source": [
    "\n",
    "Ideme zmeniť nenumerické stlpce na numerické aby som ich vedela použiť v strojovom učení (age_group). Ostatne nemeníme, kedže ich neskôr vymažeme, ked už nebudú potrebné"
   ]
  },
  {
   "cell_type": "code",
   "execution_count": 129,
   "id": "31aa2b1b-bde9-4144-8e7f-871d19148ba5",
   "metadata": {},
   "outputs": [],
   "source": [
    "le = LabelEncoder()\n",
    "dataset['age_group'] = le.fit_transform(dataset['age_group'])\n",
    "dataset['gender'] = le.fit_transform(dataset['gender'])"
   ]
  },
  {
   "cell_type": "code",
   "execution_count": 130,
   "id": "cec94dd9-01e5-4c82-95a6-9bbc75aa6311",
   "metadata": {},
   "outputs": [
    {
     "data": {
      "text/html": [
       "<div>\n",
       "<style scoped>\n",
       "    .dataframe tbody tr th:only-of-type {\n",
       "        vertical-align: middle;\n",
       "    }\n",
       "\n",
       "    .dataframe tbody tr th {\n",
       "        vertical-align: top;\n",
       "    }\n",
       "\n",
       "    .dataframe thead th {\n",
       "        text-align: right;\n",
       "    }\n",
       "</style>\n",
       "<table border=\"1\" class=\"dataframe\">\n",
       "  <thead>\n",
       "    <tr style=\"text-align: right;\">\n",
       "      <th></th>\n",
       "      <th>id</th>\n",
       "      <th>gender</th>\n",
       "      <th>age_group</th>\n",
       "      <th>average_emoji</th>\n",
       "      <th>average_urls</th>\n",
       "      <th>average_mentions</th>\n",
       "      <th>average_hashtags</th>\n",
       "      <th>average_digits</th>\n",
       "      <th>average_uppercase</th>\n",
       "      <th>average_lowercase</th>\n",
       "      <th>...</th>\n",
       "      <th>average_stopwords</th>\n",
       "      <th>average_word_length</th>\n",
       "      <th>avg_words_per_sentence</th>\n",
       "      <th>avg_chars_per_sentence</th>\n",
       "      <th>avg_sentences_per_tweet</th>\n",
       "      <th>avg_words_per_tweet</th>\n",
       "      <th>avg_chars_per_tweet</th>\n",
       "      <th>average_repeats_per_tweet</th>\n",
       "      <th>vocabulary_size</th>\n",
       "      <th>text_joined</th>\n",
       "    </tr>\n",
       "  </thead>\n",
       "  <tbody>\n",
       "    <tr>\n",
       "      <th>0</th>\n",
       "      <td>11683</td>\n",
       "      <td>1</td>\n",
       "      <td>1</td>\n",
       "      <td>1.002597</td>\n",
       "      <td>0.225974</td>\n",
       "      <td>0.036364</td>\n",
       "      <td>0.041558</td>\n",
       "      <td>0.537662</td>\n",
       "      <td>3.142857</td>\n",
       "      <td>52.587013</td>\n",
       "      <td>...</td>\n",
       "      <td>6.644156</td>\n",
       "      <td>5.033699</td>\n",
       "      <td>7.481793</td>\n",
       "      <td>44.526611</td>\n",
       "      <td>0.929688</td>\n",
       "      <td>6.877604</td>\n",
       "      <td>63.539062</td>\n",
       "      <td>0.007792</td>\n",
       "      <td>964</td>\n",
       "      <td>people dont know definition use phrase much ge...</td>\n",
       "    </tr>\n",
       "    <tr>\n",
       "      <th>1</th>\n",
       "      <td>42738</td>\n",
       "      <td>1</td>\n",
       "      <td>3</td>\n",
       "      <td>0.000000</td>\n",
       "      <td>0.975232</td>\n",
       "      <td>0.061920</td>\n",
       "      <td>0.204334</td>\n",
       "      <td>1.996904</td>\n",
       "      <td>8.560372</td>\n",
       "      <td>115.027864</td>\n",
       "      <td>...</td>\n",
       "      <td>13.294118</td>\n",
       "      <td>5.852282</td>\n",
       "      <td>5.437588</td>\n",
       "      <td>37.012623</td>\n",
       "      <td>2.207430</td>\n",
       "      <td>11.736842</td>\n",
       "      <td>128.086687</td>\n",
       "      <td>0.003096</td>\n",
       "      <td>1636</td>\n",
       "      <td>wrong place play game reason rage especially r...</td>\n",
       "    </tr>\n",
       "    <tr>\n",
       "      <th>2</th>\n",
       "      <td>11006</td>\n",
       "      <td>1</td>\n",
       "      <td>1</td>\n",
       "      <td>0.075426</td>\n",
       "      <td>0.454988</td>\n",
       "      <td>2.335766</td>\n",
       "      <td>0.394161</td>\n",
       "      <td>1.832117</td>\n",
       "      <td>9.978102</td>\n",
       "      <td>74.197080</td>\n",
       "      <td>...</td>\n",
       "      <td>5.746959</td>\n",
       "      <td>5.057388</td>\n",
       "      <td>5.116900</td>\n",
       "      <td>36.564168</td>\n",
       "      <td>1.924205</td>\n",
       "      <td>7.114914</td>\n",
       "      <td>62.875306</td>\n",
       "      <td>0.012165</td>\n",
       "      <td>947</td>\n",
       "      <td>happy hump day little sunday drive beetle some...</td>\n",
       "    </tr>\n",
       "    <tr>\n",
       "      <th>3</th>\n",
       "      <td>28582</td>\n",
       "      <td>1</td>\n",
       "      <td>1</td>\n",
       "      <td>0.040650</td>\n",
       "      <td>0.745257</td>\n",
       "      <td>1.056911</td>\n",
       "      <td>0.466125</td>\n",
       "      <td>1.471545</td>\n",
       "      <td>7.761518</td>\n",
       "      <td>69.173442</td>\n",
       "      <td>...</td>\n",
       "      <td>4.214092</td>\n",
       "      <td>5.696087</td>\n",
       "      <td>9.701695</td>\n",
       "      <td>75.549153</td>\n",
       "      <td>0.801630</td>\n",
       "      <td>6.250000</td>\n",
       "      <td>57.046196</td>\n",
       "      <td>0.008130</td>\n",
       "      <td>1081</td>\n",
       "      <td>actorsthere star people change life hit park y...</td>\n",
       "    </tr>\n",
       "    <tr>\n",
       "      <th>4</th>\n",
       "      <td>16463</td>\n",
       "      <td>1</td>\n",
       "      <td>4</td>\n",
       "      <td>0.000000</td>\n",
       "      <td>0.416842</td>\n",
       "      <td>0.094737</td>\n",
       "      <td>1.755789</td>\n",
       "      <td>3.164211</td>\n",
       "      <td>10.640000</td>\n",
       "      <td>116.509474</td>\n",
       "      <td>...</td>\n",
       "      <td>10.888421</td>\n",
       "      <td>5.534196</td>\n",
       "      <td>11.310030</td>\n",
       "      <td>75.015198</td>\n",
       "      <td>1.385263</td>\n",
       "      <td>13.821053</td>\n",
       "      <td>133.008421</td>\n",
       "      <td>0.008421</td>\n",
       "      <td>2050</td>\n",
       "      <td>sept wrote offbeatenpath gm candidate would co...</td>\n",
       "    </tr>\n",
       "    <tr>\n",
       "      <th>5</th>\n",
       "      <td>3691</td>\n",
       "      <td>0</td>\n",
       "      <td>3</td>\n",
       "      <td>0.075916</td>\n",
       "      <td>0.662304</td>\n",
       "      <td>0.958115</td>\n",
       "      <td>0.193717</td>\n",
       "      <td>1.683246</td>\n",
       "      <td>9.382199</td>\n",
       "      <td>67.272251</td>\n",
       "      <td>...</td>\n",
       "      <td>5.107330</td>\n",
       "      <td>5.130968</td>\n",
       "      <td>5.948276</td>\n",
       "      <td>40.094828</td>\n",
       "      <td>1.522310</td>\n",
       "      <td>7.916010</td>\n",
       "      <td>66.383202</td>\n",
       "      <td>0.031414</td>\n",
       "      <td>1293</td>\n",
       "      <td>sunday morning watching kill proud prop st far...</td>\n",
       "    </tr>\n",
       "    <tr>\n",
       "      <th>6</th>\n",
       "      <td>37297</td>\n",
       "      <td>1</td>\n",
       "      <td>2</td>\n",
       "      <td>0.008929</td>\n",
       "      <td>0.267857</td>\n",
       "      <td>0.880952</td>\n",
       "      <td>0.029762</td>\n",
       "      <td>1.068452</td>\n",
       "      <td>7.604167</td>\n",
       "      <td>91.244048</td>\n",
       "      <td>...</td>\n",
       "      <td>8.633929</td>\n",
       "      <td>5.852068</td>\n",
       "      <td>10.633152</td>\n",
       "      <td>75.788043</td>\n",
       "      <td>1.101796</td>\n",
       "      <td>10.787425</td>\n",
       "      <td>103.269461</td>\n",
       "      <td>0.005952</td>\n",
       "      <td>1875</td>\n",
       "      <td>legit hope love early album intervention jayz ...</td>\n",
       "    </tr>\n",
       "    <tr>\n",
       "      <th>7</th>\n",
       "      <td>5939</td>\n",
       "      <td>0</td>\n",
       "      <td>1</td>\n",
       "      <td>0.288079</td>\n",
       "      <td>0.403974</td>\n",
       "      <td>1.182119</td>\n",
       "      <td>0.089404</td>\n",
       "      <td>1.268212</td>\n",
       "      <td>7.890728</td>\n",
       "      <td>99.894040</td>\n",
       "      <td>...</td>\n",
       "      <td>11.940397</td>\n",
       "      <td>5.616020</td>\n",
       "      <td>5.478261</td>\n",
       "      <td>38.375776</td>\n",
       "      <td>2.132450</td>\n",
       "      <td>10.417219</td>\n",
       "      <td>107.433775</td>\n",
       "      <td>0.069536</td>\n",
       "      <td>1252</td>\n",
       "      <td>stunning im soooo excited part cant wait meet ...</td>\n",
       "    </tr>\n",
       "    <tr>\n",
       "      <th>8</th>\n",
       "      <td>14209</td>\n",
       "      <td>0</td>\n",
       "      <td>1</td>\n",
       "      <td>1.332553</td>\n",
       "      <td>0.833724</td>\n",
       "      <td>1.112412</td>\n",
       "      <td>0.405152</td>\n",
       "      <td>2.210773</td>\n",
       "      <td>10.461358</td>\n",
       "      <td>65.906323</td>\n",
       "      <td>...</td>\n",
       "      <td>4.850117</td>\n",
       "      <td>5.227668</td>\n",
       "      <td>6.193322</td>\n",
       "      <td>42.910369</td>\n",
       "      <td>1.341981</td>\n",
       "      <td>6.785377</td>\n",
       "      <td>59.780660</td>\n",
       "      <td>0.121780</td>\n",
       "      <td>926</td>\n",
       "      <td>shout rooftop im raising fund support next alb...</td>\n",
       "    </tr>\n",
       "    <tr>\n",
       "      <th>9</th>\n",
       "      <td>45388</td>\n",
       "      <td>1</td>\n",
       "      <td>4</td>\n",
       "      <td>0.000000</td>\n",
       "      <td>0.206019</td>\n",
       "      <td>0.608796</td>\n",
       "      <td>0.023148</td>\n",
       "      <td>1.604167</td>\n",
       "      <td>7.432870</td>\n",
       "      <td>85.196759</td>\n",
       "      <td>...</td>\n",
       "      <td>9.020833</td>\n",
       "      <td>5.579074</td>\n",
       "      <td>7.609449</td>\n",
       "      <td>51.047244</td>\n",
       "      <td>1.469907</td>\n",
       "      <td>10.553241</td>\n",
       "      <td>101.201389</td>\n",
       "      <td>0.002315</td>\n",
       "      <td>1659</td>\n",
       "      <td>vega announces alex tuch signed year contract ...</td>\n",
       "    </tr>\n",
       "  </tbody>\n",
       "</table>\n",
       "<p>10 rows × 25 columns</p>\n",
       "</div>"
      ],
      "text/plain": [
       "      id  gender  age_group  average_emoji  average_urls  average_mentions  \\\n",
       "0  11683       1          1       1.002597      0.225974          0.036364   \n",
       "1  42738       1          3       0.000000      0.975232          0.061920   \n",
       "2  11006       1          1       0.075426      0.454988          2.335766   \n",
       "3  28582       1          1       0.040650      0.745257          1.056911   \n",
       "4  16463       1          4       0.000000      0.416842          0.094737   \n",
       "5   3691       0          3       0.075916      0.662304          0.958115   \n",
       "6  37297       1          2       0.008929      0.267857          0.880952   \n",
       "7   5939       0          1       0.288079      0.403974          1.182119   \n",
       "8  14209       0          1       1.332553      0.833724          1.112412   \n",
       "9  45388       1          4       0.000000      0.206019          0.608796   \n",
       "\n",
       "   average_hashtags  average_digits  average_uppercase  average_lowercase  \\\n",
       "0          0.041558        0.537662           3.142857          52.587013   \n",
       "1          0.204334        1.996904           8.560372         115.027864   \n",
       "2          0.394161        1.832117           9.978102          74.197080   \n",
       "3          0.466125        1.471545           7.761518          69.173442   \n",
       "4          1.755789        3.164211          10.640000         116.509474   \n",
       "5          0.193717        1.683246           9.382199          67.272251   \n",
       "6          0.029762        1.068452           7.604167          91.244048   \n",
       "7          0.089404        1.268212           7.890728          99.894040   \n",
       "8          0.405152        2.210773          10.461358          65.906323   \n",
       "9          0.023148        1.604167           7.432870          85.196759   \n",
       "\n",
       "   ...  average_stopwords  average_word_length  avg_words_per_sentence  \\\n",
       "0  ...           6.644156             5.033699                7.481793   \n",
       "1  ...          13.294118             5.852282                5.437588   \n",
       "2  ...           5.746959             5.057388                5.116900   \n",
       "3  ...           4.214092             5.696087                9.701695   \n",
       "4  ...          10.888421             5.534196               11.310030   \n",
       "5  ...           5.107330             5.130968                5.948276   \n",
       "6  ...           8.633929             5.852068               10.633152   \n",
       "7  ...          11.940397             5.616020                5.478261   \n",
       "8  ...           4.850117             5.227668                6.193322   \n",
       "9  ...           9.020833             5.579074                7.609449   \n",
       "\n",
       "   avg_chars_per_sentence  avg_sentences_per_tweet  avg_words_per_tweet  \\\n",
       "0               44.526611                 0.929688             6.877604   \n",
       "1               37.012623                 2.207430            11.736842   \n",
       "2               36.564168                 1.924205             7.114914   \n",
       "3               75.549153                 0.801630             6.250000   \n",
       "4               75.015198                 1.385263            13.821053   \n",
       "5               40.094828                 1.522310             7.916010   \n",
       "6               75.788043                 1.101796            10.787425   \n",
       "7               38.375776                 2.132450            10.417219   \n",
       "8               42.910369                 1.341981             6.785377   \n",
       "9               51.047244                 1.469907            10.553241   \n",
       "\n",
       "   avg_chars_per_tweet  average_repeats_per_tweet  vocabulary_size  \\\n",
       "0            63.539062                   0.007792              964   \n",
       "1           128.086687                   0.003096             1636   \n",
       "2            62.875306                   0.012165              947   \n",
       "3            57.046196                   0.008130             1081   \n",
       "4           133.008421                   0.008421             2050   \n",
       "5            66.383202                   0.031414             1293   \n",
       "6           103.269461                   0.005952             1875   \n",
       "7           107.433775                   0.069536             1252   \n",
       "8            59.780660                   0.121780              926   \n",
       "9           101.201389                   0.002315             1659   \n",
       "\n",
       "                                         text_joined  \n",
       "0  people dont know definition use phrase much ge...  \n",
       "1  wrong place play game reason rage especially r...  \n",
       "2  happy hump day little sunday drive beetle some...  \n",
       "3  actorsthere star people change life hit park y...  \n",
       "4  sept wrote offbeatenpath gm candidate would co...  \n",
       "5  sunday morning watching kill proud prop st far...  \n",
       "6  legit hope love early album intervention jayz ...  \n",
       "7  stunning im soooo excited part cant wait meet ...  \n",
       "8  shout rooftop im raising fund support next alb...  \n",
       "9  vega announces alex tuch signed year contract ...  \n",
       "\n",
       "[10 rows x 25 columns]"
      ]
     },
     "execution_count": 130,
     "metadata": {},
     "output_type": "execute_result"
    }
   ],
   "source": [
    "dataset.head(10)"
   ]
  },
  {
   "cell_type": "code",
   "execution_count": 131,
   "id": "52e55c24-597a-4718-b124-7ebd4bcf6a37",
   "metadata": {},
   "outputs": [
    {
     "name": "stdout",
     "output_type": "stream",
     "text": [
      "<class 'pandas.core.frame.DataFrame'>\n",
      "RangeIndex: 4532 entries, 0 to 4531\n",
      "Data columns (total 25 columns):\n",
      " #   Column                                  Non-Null Count  Dtype  \n",
      "---  ------                                  --------------  -----  \n",
      " 0   id                                      4532 non-null   int64  \n",
      " 1   gender                                  4532 non-null   int64  \n",
      " 2   age_group                               4532 non-null   int64  \n",
      " 3   average_emoji                           4532 non-null   float64\n",
      " 4   average_urls                            4532 non-null   float64\n",
      " 5   average_mentions                        4532 non-null   float64\n",
      " 6   average_hashtags                        4532 non-null   float64\n",
      " 7   average_digits                          4532 non-null   float64\n",
      " 8   average_uppercase                       4532 non-null   float64\n",
      " 9   average_lowercase                       4532 non-null   float64\n",
      " 10  average_non_alpha                       4532 non-null   float64\n",
      " 11  average_quotes_per_tweet                4532 non-null   float64\n",
      " 12  average_apostrophe_per_tweet            4532 non-null   float64\n",
      " 13  average_punctuation_per_tweet           4532 non-null   float64\n",
      " 14  average_multiple_punctuation_per_tweet  4532 non-null   float64\n",
      " 15  average_stopwords                       4532 non-null   float64\n",
      " 16  average_word_length                     4532 non-null   float64\n",
      " 17  avg_words_per_sentence                  4532 non-null   float64\n",
      " 18  avg_chars_per_sentence                  4532 non-null   float64\n",
      " 19  avg_sentences_per_tweet                 4532 non-null   float64\n",
      " 20  avg_words_per_tweet                     4532 non-null   float64\n",
      " 21  avg_chars_per_tweet                     4532 non-null   float64\n",
      " 22  average_repeats_per_tweet               4532 non-null   float64\n",
      " 23  vocabulary_size                         4532 non-null   int64  \n",
      " 24  text_joined                             4532 non-null   object \n",
      "dtypes: float64(20), int64(4), object(1)\n",
      "memory usage: 885.3+ KB\n"
     ]
    }
   ],
   "source": [
    "dataset.info()"
   ]
  },
  {
   "cell_type": "code",
   "execution_count": 132,
   "id": "a7ab0c03-362e-4d45-9e2e-eae05ddb5b87",
   "metadata": {},
   "outputs": [],
   "source": [
    "dataset.to_json(\"lexikalne_crty_ocisteny.json\", orient='records', lines=True)"
   ]
  },
  {
   "cell_type": "markdown",
   "id": "918f51a7",
   "metadata": {},
   "source": [
    "Zobrazila heat_map, ktorá mi hovorí ako medzi sebou korelujú premenné"
   ]
  },
  {
   "cell_type": "code",
   "execution_count": 133,
   "id": "745d6195-8ddd-44de-9889-2450c170b13c",
   "metadata": {},
   "outputs": [
    {
     "data": {
      "image/png": "[encoded data removed]",
      "text/plain": [
       "<Figure size 1080x1080 with 2 Axes>"
      ]
     },
     "metadata": {
      "needs_background": "light"
     },
     "output_type": "display_data"
    }
   ],
   "source": [
    "dataset_corr=dataset.drop([ 'text_joined', 'id' ], axis=1)\n",
    "corr_matrix = dataset_corr.corr()\n",
    "\n",
    "# Vytvor heatmap\n",
    "plt.figure(figsize=(15, 15))  # Nastav veľkosť obrázka podľa potreby\n",
    "sns.heatmap(corr_matrix, annot=True, fmt=\".2f\", cmap='coolwarm', cbar=True)\n",
    "plt.title('Heatmap korelačnej matice')\n",
    "plt.show()"
   ]
  }
 ],
 "metadata": {
  "kernelspec": {
   "display_name": "Python 3 (ipykernel)",
   "language": "python",
   "name": "python3"
  },
  "language_info": {
   "codemirror_mode": {
    "name": "ipython",
    "version": 3
   },
   "file_extension": ".py",
   "mimetype": "text/x-python",
   "name": "python",
   "nbconvert_exporter": "python",
   "pygments_lexer": "ipython3",
   "version": "3.10.7"
  }
 },
 "nbformat": 4,
 "nbformat_minor": 5
}
