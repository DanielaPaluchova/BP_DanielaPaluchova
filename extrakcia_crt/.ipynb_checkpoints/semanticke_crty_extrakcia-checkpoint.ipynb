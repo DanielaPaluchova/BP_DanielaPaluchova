{
 "cells": [
  {
   "cell_type": "code",
   "execution_count": 1,
   "id": "01e4ecc8",
   "metadata": {},
   "outputs": [
    {
     "name": "stderr",
     "output_type": "stream",
     "text": [
      "[nltk_data] Downloading package averaged_perceptron_tagger to\n",
      "[nltk_data]     /home/danielap/nltk_data...\n",
      "[nltk_data]   Package averaged_perceptron_tagger is already up-to-\n",
      "[nltk_data]       date!\n",
      "[nltk_data] Downloading package vader_lexicon to\n",
      "[nltk_data]     /home/danielap/nltk_data...\n",
      "[nltk_data]   Package vader_lexicon is already up-to-date!\n",
      "[nltk_data] Downloading package punkt to /home/danielap/nltk_data...\n",
      "[nltk_data]   Package punkt is already up-to-date!\n",
      "[nltk_data] Downloading package stopwords to\n",
      "[nltk_data]     /home/danielap/nltk_data...\n",
      "[nltk_data]   Package stopwords is already up-to-date!\n",
      "[nltk_data] Downloading package wordnet to /home/danielap/nltk_data...\n",
      "[nltk_data]   Package wordnet is already up-to-date!\n",
      "[nltk_data] Downloading package omw-1.4 to /home/danielap/nltk_data...\n",
      "[nltk_data]   Package omw-1.4 is already up-to-date!\n"
     ]
    }
   ],
   "source": [
    "#importovanie kniznic\n",
    "import pandas as pd\n",
    "import numpy as np\n",
    "import matplotlib.pyplot as plt\n",
    "import seaborn as sns\n",
    "import scipy.stats as stats\n",
    "import jsonlines\n",
    "import json\n",
    "from bs4 import BeautifulSoup\n",
    "import re \n",
    "import nltk\n",
    "from nltk.corpus import stopwords\n",
    "from nltk.stem import PorterStemmer\n",
    "from datetime import datetime\n",
    "import matplotlib.pyplot as plt\n",
    "from nltk.tokenize import word_tokenize\n",
    "from nltk.stem import WordNetLemmatizer\n",
    "from nltk.corpus import wordnet\n",
    "from scipy.stats import shapiro\n",
    "from scipy.stats import kruskal\n",
    "from scipy.stats import ttest_ind, f_oneway\n",
    "from scipy.stats import pearsonr, spearmanr\n",
    "from nltk.tokenize import sent_tokenize, word_tokenize\n",
    "import emoji\n",
    "from nltk.sentiment.vader import SentimentIntensityAnalyzer\n",
    "import nltk\n",
    "from collections import Counter #\n",
    "from sklearn.feature_extraction.text import CountVectorizer\n",
    "from sklearn.preprocessing import MinMaxScaler\n",
    "from sklearn.preprocessing import StandardScaler\n",
    "from sklearn.preprocessing import LabelEncoder\n",
    "import spacy\n",
    "nltk.download('averaged_perceptron_tagger')\n",
    "nltk.download('vader_lexicon')\n",
    "nltk.download('punkt')\n",
    "nltk.download('stopwords')\n",
    "nltk.download('wordnet')\n",
    "nltk.download('omw-1.4')\n",
    "nlp = spacy.load('en_core_web_sm')\n",
    "from sklearn.model_selection import train_test_split\n",
    "from sklearn.ensemble import RandomForestClassifier\n",
    "from sklearn.metrics import accuracy_score, recall_score, precision_score, f1_score, classification_report\n",
    "from scipy.sparse import hstack\n",
    "from scipy.sparse import csr_matrix, hstack\n",
    "from sklearn.metrics import classification_report, confusion_matrix\n",
    "from sklearn import metrics \n",
    "from sklearn.metrics import ConfusionMatrixDisplay\n",
    "from sklearn import svm\n",
    "from sklearn.svm import SVC\n",
    "from sklearn.feature_extraction.text import TfidfVectorizer\n",
    "from langdetect import detect\n",
    "from langdetect import LangDetectException\n",
    "from sklearn.preprocessing import FunctionTransformer, StandardScaler, MinMaxScaler\n",
    "from sklearn.pipeline import Pipeline\n",
    "from sklearn.feature_selection import SelectKBest\n",
    "from sklearn.feature_selection import mutual_info_regression\n",
    "from sklearn.feature_selection import chi2\n",
    "from sklearn.feature_selection import f_regression\n",
    "from sklearn.svm import LinearSVC\n",
    "from sklearn.feature_selection import RFE\n",
    "from sklearn.ensemble import RandomForestClassifier\n",
    "from sklearn.datasets import make_classification\n",
    "from sklearn.feature_selection import SelectFromModel\n",
    "from sklearn.svm import SVC\n",
    "from sklearn.linear_model import LogisticRegression\n",
    "from sklearn.pipeline import make_pipeline\n",
    "from sklearn.model_selection import train_test_split, cross_val_score\n",
    "from sklearn.model_selection import GridSearchCV\n",
    "from nltk import pos_tag\n",
    "from sklearn.tree import DecisionTreeClassifier"
   ]
  },
  {
   "cell_type": "markdown",
   "id": "095b7e71",
   "metadata": {},
   "source": [
    "Načítanie datasetu"
   ]
  },
  {
   "cell_type": "code",
   "execution_count": 2,
   "id": "b22a143d",
   "metadata": {},
   "outputs": [],
   "source": [
    "data = []\n",
    "\n",
    "# Otvorte súbor a načítajte každý riadok ako JSON objekt.\n",
    "with open('../datasety/ocisteny_dataset.json', 'r') as file:\n",
    "    for line in file:\n",
    "        try:\n",
    "            json_obj = json.loads(line)\n",
    "            data.append(json_obj)\n",
    "        except json.JSONDecodeError as e:\n",
    "            print(f\"Chyba pri dekódovaní JSON na riadku: {e}\")"
   ]
  },
  {
   "cell_type": "code",
   "execution_count": 3,
   "id": "da7d2e1f",
   "metadata": {},
   "outputs": [
    {
     "data": {
      "text/html": [
       "<div>\n",
       "<style scoped>\n",
       "    .dataframe tbody tr th:only-of-type {\n",
       "        vertical-align: middle;\n",
       "    }\n",
       "\n",
       "    .dataframe tbody tr th {\n",
       "        vertical-align: top;\n",
       "    }\n",
       "\n",
       "    .dataframe thead th {\n",
       "        text-align: right;\n",
       "    }\n",
       "</style>\n",
       "<table border=\"1\" class=\"dataframe\">\n",
       "  <thead>\n",
       "    <tr style=\"text-align: right;\">\n",
       "      <th></th>\n",
       "      <th>text</th>\n",
       "      <th>id</th>\n",
       "      <th>occupation</th>\n",
       "      <th>gender</th>\n",
       "      <th>fame</th>\n",
       "      <th>birthyear</th>\n",
       "    </tr>\n",
       "  </thead>\n",
       "  <tbody>\n",
       "    <tr>\n",
       "      <th>0</th>\n",
       "      <td>[People don't know the definition, and use phr...</td>\n",
       "      <td>11683</td>\n",
       "      <td>sports</td>\n",
       "      <td>male</td>\n",
       "      <td>star</td>\n",
       "      <td>1987</td>\n",
       "    </tr>\n",
       "    <tr>\n",
       "      <th>1</th>\n",
       "      <td>[Wrong place to play that game. @CuomoPrimeTim...</td>\n",
       "      <td>42738</td>\n",
       "      <td>creator</td>\n",
       "      <td>male</td>\n",
       "      <td>superstar</td>\n",
       "      <td>1970</td>\n",
       "    </tr>\n",
       "    <tr>\n",
       "      <th>2</th>\n",
       "      <td>[Happy Hump Day! (📸: @dolephoto ) https://t.co...</td>\n",
       "      <td>11006</td>\n",
       "      <td>sports</td>\n",
       "      <td>male</td>\n",
       "      <td>star</td>\n",
       "      <td>1988</td>\n",
       "    </tr>\n",
       "    <tr>\n",
       "      <th>3</th>\n",
       "      <td>[There are actors,there are stars &amp; then there...</td>\n",
       "      <td>28582</td>\n",
       "      <td>performer</td>\n",
       "      <td>male</td>\n",
       "      <td>rising</td>\n",
       "      <td>1990</td>\n",
       "    </tr>\n",
       "    <tr>\n",
       "      <th>4</th>\n",
       "      <td>[https://t.co/Xy7QVbaTlE on Sept 24 I wrote ab...</td>\n",
       "      <td>16463</td>\n",
       "      <td>sports</td>\n",
       "      <td>male</td>\n",
       "      <td>superstar</td>\n",
       "      <td>1962</td>\n",
       "    </tr>\n",
       "  </tbody>\n",
       "</table>\n",
       "</div>"
      ],
      "text/plain": [
       "                                                text     id occupation gender  \\\n",
       "0  [People don't know the definition, and use phr...  11683     sports   male   \n",
       "1  [Wrong place to play that game. @CuomoPrimeTim...  42738    creator   male   \n",
       "2  [Happy Hump Day! (📸: @dolephoto ) https://t.co...  11006     sports   male   \n",
       "3  [There are actors,there are stars & then there...  28582  performer   male   \n",
       "4  [https://t.co/Xy7QVbaTlE on Sept 24 I wrote ab...  16463     sports   male   \n",
       "\n",
       "        fame  birthyear  \n",
       "0       star       1987  \n",
       "1  superstar       1970  \n",
       "2       star       1988  \n",
       "3     rising       1990  \n",
       "4  superstar       1962  "
      ]
     },
     "execution_count": 3,
     "metadata": {},
     "output_type": "execute_result"
    }
   ],
   "source": [
    "combined_data = pd.DataFrame(data)\n",
    "combined_data.head()"
   ]
  },
  {
   "cell_type": "markdown",
   "id": "7decbfb7",
   "metadata": {},
   "source": [
    "Zistenie veku podľa roku narodenia a zaradenie do vekovej skupiny"
   ]
  },
  {
   "cell_type": "code",
   "execution_count": 4,
   "id": "bd2a01b1",
   "metadata": {},
   "outputs": [],
   "source": [
    "current_year = datetime.now().year\n",
    "combined_data['age'] = current_year - combined_data['birthyear']\n",
    "\n",
    "bins = [0, 30, 40, 50, 60, 70, 80, 100]\n",
    "labels = ['0-29', '30-39', '40-49', '50-59', '60-69', '70-79', '80+']\n",
    "combined_data['age_group'] = pd.cut(combined_data['age'], bins=bins, labels=labels, right=False)"
   ]
  },
  {
   "cell_type": "code",
   "execution_count": 5,
   "id": "462de60c",
   "metadata": {},
   "outputs": [
    {
     "data": {
      "text/plain": [
       "age_group\n",
       "0-29      192\n",
       "30-39    1309\n",
       "40-49    1225\n",
       "50-59     870\n",
       "60-69     562\n",
       "70-79     303\n",
       "80+        71\n",
       "dtype: int64"
      ]
     },
     "execution_count": 5,
     "metadata": {},
     "output_type": "execute_result"
    }
   ],
   "source": [
    "combined_data.groupby(['age_group']).size()"
   ]
  },
  {
   "cell_type": "code",
   "execution_count": 6,
   "id": "e261cc1d",
   "metadata": {},
   "outputs": [],
   "source": [
    "dataset=combined_data.copy()"
   ]
  },
  {
   "cell_type": "code",
   "execution_count": 7,
   "id": "acec82bb",
   "metadata": {},
   "outputs": [
    {
     "name": "stdout",
     "output_type": "stream",
     "text": [
      "<class 'pandas.core.frame.DataFrame'>\n",
      "RangeIndex: 4532 entries, 0 to 4531\n",
      "Data columns (total 8 columns):\n",
      " #   Column      Non-Null Count  Dtype   \n",
      "---  ------      --------------  -----   \n",
      " 0   text        4532 non-null   object  \n",
      " 1   id          4532 non-null   int64   \n",
      " 2   occupation  4532 non-null   object  \n",
      " 3   gender      4532 non-null   object  \n",
      " 4   fame        4532 non-null   object  \n",
      " 5   birthyear   4532 non-null   int64   \n",
      " 6   age         4532 non-null   int64   \n",
      " 7   age_group   4532 non-null   category\n",
      "dtypes: category(1), int64(3), object(4)\n",
      "memory usage: 252.8+ KB\n"
     ]
    }
   ],
   "source": [
    "dataset.info()"
   ]
  },
  {
   "cell_type": "markdown",
   "id": "0648102a",
   "metadata": {},
   "source": [
    "## EXTRAKCIA SEMANTICKYCH CRT"
   ]
  },
  {
   "cell_type": "markdown",
   "id": "b53dadb3",
   "metadata": {},
   "source": [
    "Ako prvé si urobím určité predspracovanie textu"
   ]
  },
  {
   "cell_type": "code",
   "execution_count": 8,
   "id": "a22f3c3a",
   "metadata": {},
   "outputs": [],
   "source": [
    "def preprocess_text_first(text):\n",
    "    if isinstance(text, list):\n",
    "        text = ' '.join(text)\n",
    "    stop_words = set(stopwords.words('english'))\n",
    "    # Odstránenie URL\n",
    "    text = re.sub(r'http\\S+|www\\S+|https\\S+', '', text, flags=re.MULTILINE)\n",
    "    # Odstránenie užívateľských označení (@) a hashtagov (#)\n",
    "    text = re.sub(r'@\\w+|#\\w+', '', text)\n",
    "    # Odstránenie emoji\n",
    "    text = emoji.replace_emoji(text, replace='')\n",
    "     # Odstránenie Unicode kontrolných znakov\n",
    "    text = re.sub(r'[\\u0000-\\u001F\\u0080-\\u009F]', '', text)\n",
    "    # Odstránenie nových riadkov a tabulátorov\n",
    "    text = text.replace('\\n', ' ').replace('\\r', ' ').replace('\\t', ' ')\n",
    "    # Konverzia na malé písmená\n",
    "    text = text.lower()\n",
    "    # Tokenizácia\n",
    "    tokens = word_tokenize(text)\n",
    "    # Odstránenie stop slov\n",
    "    tokens = [word for word in tokens if word not in stop_words]\n",
    "    return tokens"
   ]
  },
  {
   "cell_type": "code",
   "execution_count": 9,
   "id": "6f9cf6f5",
   "metadata": {},
   "outputs": [],
   "source": [
    "dataset['processed_text'] = dataset['text'].apply(preprocess_text_first)"
   ]
  },
  {
   "cell_type": "markdown",
   "id": "b76a15c6",
   "metadata": {},
   "source": [
    "PRIEMERNY POCET POZITIVNYCH, NEGATIVNYCH A NEUTRALNYCH SLOV NA TWEET"
   ]
  },
  {
   "cell_type": "code",
   "execution_count": 10,
   "id": "2ff351ec",
   "metadata": {},
   "outputs": [],
   "source": [
    "# Inicializácia analyzátora sentimentu\n",
    "sid = SentimentIntensityAnalyzer()\n",
    "\n",
    "def sentiment_word_counts(words):\n",
    "    # Inicializácia počítadiel pre pozitívne, negatívne a neutrálné slová\n",
    "    positive, negative, neutral = 0, 0, 0\n",
    "    \n",
    "    # Iterovanie cez zoznam slov\n",
    "    for word in words:\n",
    "        # Ak token nie je slovo, preskočí ho\n",
    "        if not word.isalpha():\n",
    "            continue\n",
    "            \n",
    "        # Vypočítanie sentimentu pre každé slovo\n",
    "        score = sid.polarity_scores(word)\n",
    "        \n",
    "        # Kategorizácia slova ako pozitívneho, negatívneho alebo neutrálného na základe compound skóre\n",
    "        if score['compound'] > 0.1:  # Ak je compound skóre nad 0.1, považuje sa slovo za pozitívne\n",
    "            positive += 1\n",
    "        elif score['compound'] < -0.1:  # Ak je compound skóre pod -0.1, považuje sa slovo za negatívne\n",
    "            negative += 1\n",
    "        else:  # Všetky ostatné slová (compound skóre medzi -0.1 a 0.1) sú považované za neutrálné\n",
    "            neutral += 1\n",
    "            \n",
    "    # Funkcia vráti tuple s počtom pozitívnych, negatívnych a neutrálnych slov\n",
    "    return positive, negative, neutral"
   ]
  },
  {
   "cell_type": "code",
   "execution_count": 11,
   "id": "837b641e",
   "metadata": {},
   "outputs": [],
   "source": [
    "dataset['positive'], dataset['negative'], dataset['neutral'] = zip(*dataset['processed_text'].apply(sentiment_word_counts))"
   ]
  },
  {
   "cell_type": "code",
   "execution_count": 12,
   "id": "311ed86a",
   "metadata": {},
   "outputs": [],
   "source": [
    "dataset['average_positive_per_tweet'] = dataset.apply(\n",
    "    lambda row: row['positive'] / len(row['text']) if len(row['text']) > 0 else 0, axis=1)\n",
    "dataset['average_negative_per_tweet'] = dataset.apply(\n",
    "    lambda row: row['negative'] / len(row['text']) if len(row['text']) > 0 else 0, axis=1)\n",
    "dataset['average_neutral_per_tweet'] = dataset.apply(\n",
    "    lambda row: row['neutral'] / len(row['text']) if len(row['text']) > 0 else 0, axis=1)#vydelenie počtom tweetov, ošetrenie proti deleniu 0"
   ]
  },
  {
   "cell_type": "code",
   "execution_count": 13,
   "id": "2db29609",
   "metadata": {},
   "outputs": [
    {
     "data": {
      "text/plain": [
       "0       0.784416\n",
       "1       1.068111\n",
       "2       1.708029\n",
       "3       1.352304\n",
       "4       1.067368\n",
       "          ...   \n",
       "4527    1.378882\n",
       "4528    0.479100\n",
       "4529    0.383529\n",
       "4530    1.219462\n",
       "4531    1.011268\n",
       "Name: average_positive_per_tweet, Length: 4532, dtype: float64"
      ]
     },
     "execution_count": 13,
     "metadata": {},
     "output_type": "execute_result"
    }
   ],
   "source": [
    "dataset['average_positive_per_tweet']"
   ]
  },
  {
   "cell_type": "code",
   "execution_count": 14,
   "id": "f5cf0173",
   "metadata": {},
   "outputs": [],
   "source": [
    "min_value = dataset['average_positive_per_tweet'].min()\n",
    "max_value = dataset['average_positive_per_tweet'].max()\n",
    "average_value = dataset['average_positive_per_tweet'].mean()"
   ]
  },
  {
   "cell_type": "code",
   "execution_count": 15,
   "id": "f25b73a7",
   "metadata": {},
   "outputs": [
    {
     "name": "stdout",
     "output_type": "stream",
     "text": [
      "Najmenší prvok: 0.02\n",
      "Najväčší prvok: 3.2596153846153846\n",
      "Priemerná hodnota: 1.1290820961848516\n"
     ]
    }
   ],
   "source": [
    "print(\"Najmenší prvok:\", min_value)\n",
    "print(\"Najväčší prvok:\", max_value)\n",
    "print(\"Priemerná hodnota:\", average_value)"
   ]
  },
  {
   "cell_type": "code",
   "execution_count": 16,
   "id": "7336ef56",
   "metadata": {},
   "outputs": [
    {
     "data": {
      "text/plain": [
       "0       0.446753\n",
       "1       1.095975\n",
       "2       0.165450\n",
       "3       0.189702\n",
       "4       0.416842\n",
       "          ...   \n",
       "4527    0.599379\n",
       "4528    0.221865\n",
       "4529    0.437647\n",
       "4530    1.064182\n",
       "4531    0.695775\n",
       "Name: average_negative_per_tweet, Length: 4532, dtype: float64"
      ]
     },
     "execution_count": 16,
     "metadata": {},
     "output_type": "execute_result"
    }
   ],
   "source": [
    " dataset['average_negative_per_tweet']"
   ]
  },
  {
   "cell_type": "code",
   "execution_count": 17,
   "id": "b03673ea",
   "metadata": {},
   "outputs": [],
   "source": [
    "min_value = dataset['average_negative_per_tweet'].min()\n",
    "max_value = dataset['average_negative_per_tweet'].max()\n",
    "average_value = dataset['average_negative_per_tweet'].mean()"
   ]
  },
  {
   "cell_type": "code",
   "execution_count": 18,
   "id": "56287e8a",
   "metadata": {},
   "outputs": [
    {
     "name": "stdout",
     "output_type": "stream",
     "text": [
      "Najmenší prvok: 0.008948545861297539\n",
      "Najväčší prvok: 2.0644171779141103\n",
      "Priemerná hodnota: 0.31469313977045305\n"
     ]
    }
   ],
   "source": [
    "print(\"Najmenší prvok:\", min_value)\n",
    "print(\"Najväčší prvok:\", max_value)\n",
    "print(\"Priemerná hodnota:\", average_value)"
   ]
  },
  {
   "cell_type": "code",
   "execution_count": 19,
   "id": "6a9e2d50",
   "metadata": {},
   "outputs": [
    {
     "data": {
      "text/plain": [
       "0        5.129870\n",
       "1        9.123839\n",
       "2        4.783455\n",
       "3        4.609756\n",
       "4       11.496842\n",
       "          ...    \n",
       "4527     7.164596\n",
       "4528     3.411576\n",
       "4529     6.284706\n",
       "4530    12.904762\n",
       "4531    10.076056\n",
       "Name: average_neutral_per_tweet, Length: 4532, dtype: float64"
      ]
     },
     "execution_count": 19,
     "metadata": {},
     "output_type": "execute_result"
    }
   ],
   "source": [
    "dataset['average_neutral_per_tweet']"
   ]
  },
  {
   "cell_type": "code",
   "execution_count": 20,
   "id": "3a9b34cd",
   "metadata": {},
   "outputs": [],
   "source": [
    "min_value = dataset['average_neutral_per_tweet'].min()\n",
    "max_value = dataset['average_neutral_per_tweet'].max()\n",
    "average_value = dataset['average_neutral_per_tweet'].mean()"
   ]
  },
  {
   "cell_type": "code",
   "execution_count": 21,
   "id": "8df367b6",
   "metadata": {},
   "outputs": [
    {
     "name": "stdout",
     "output_type": "stream",
     "text": [
      "Najmenší prvok: 0.5990566037735849\n",
      "Najväčší prvok: 21.974736842105262\n",
      "Priemerná hodnota: 6.187082185365688\n"
     ]
    }
   ],
   "source": [
    "print(\"Najmenší prvok:\", min_value)\n",
    "print(\"Najväčší prvok:\", max_value)\n",
    "print(\"Priemerná hodnota:\", average_value)"
   ]
  },
  {
   "cell_type": "markdown",
   "id": "45fe2d8f",
   "metadata": {},
   "source": [
    "PRIEMERNY POCET ENTIT NA TWEET (NAZVY ORGANIZACII, MENA..)"
   ]
  },
  {
   "cell_type": "code",
   "execution_count": 22,
   "id": "60017744",
   "metadata": {},
   "outputs": [],
   "source": [
    "def count_entities(tokens):\n",
    "    # Prevedie zoznam tokenov späť na textový reťazec\n",
    "    text = ' '.join(tokens)\n",
    "    \n",
    "    # Spracovanie textu pomocou modelu spaCy\n",
    "    doc = nlp(text)\n",
    "    \n",
    "    # Počítanie entít\n",
    "    entities_count = len(doc.ents)\n",
    "    \n",
    "    return entities_count"
   ]
  },
  {
   "cell_type": "code",
   "execution_count": 23,
   "id": "429f56fd",
   "metadata": {},
   "outputs": [],
   "source": [
    "dataset['entities_count'] = dataset['processed_text'].apply(count_entities)"
   ]
  },
  {
   "cell_type": "code",
   "execution_count": 24,
   "id": "4a626d0a",
   "metadata": {},
   "outputs": [],
   "source": [
    "dataset['average_entities_per_tweet'] = dataset.apply(lambda row: row['entities_count'] / len(row['text']) if len(row['text']) > 0 else 0, axis=1)#vydelenie počtom tweetov, ošetrenie delenim 0"
   ]
  },
  {
   "cell_type": "code",
   "execution_count": 25,
   "id": "8b47ef54",
   "metadata": {},
   "outputs": [
    {
     "data": {
      "text/plain": [
       "0       0.205195\n",
       "1       0.619195\n",
       "2       0.557178\n",
       "3       0.466125\n",
       "4       2.364211\n",
       "          ...   \n",
       "4527    0.586957\n",
       "4528    0.617363\n",
       "4529    1.195294\n",
       "4530    2.167702\n",
       "4531    1.242254\n",
       "Name: average_entities_per_tweet, Length: 4532, dtype: float64"
      ]
     },
     "execution_count": 25,
     "metadata": {},
     "output_type": "execute_result"
    }
   ],
   "source": [
    "dataset['average_entities_per_tweet']"
   ]
  },
  {
   "cell_type": "code",
   "execution_count": 26,
   "id": "afe2d466",
   "metadata": {},
   "outputs": [],
   "source": [
    "min_value = dataset['average_entities_per_tweet'].min()\n",
    "max_value = dataset['average_entities_per_tweet'].max()\n",
    "average_value = dataset['average_entities_per_tweet'].mean()"
   ]
  },
  {
   "cell_type": "code",
   "execution_count": 27,
   "id": "41218f0a",
   "metadata": {},
   "outputs": [
    {
     "name": "stdout",
     "output_type": "stream",
     "text": [
      "Najmenší prvok: 0.05660377358490566\n",
      "Najväčší prvok: 3.407624633431085\n",
      "Priemerná hodnota: 0.77217233388553\n"
     ]
    }
   ],
   "source": [
    "print(\"Najmenší prvok:\", min_value)\n",
    "print(\"Najväčší prvok:\", max_value)\n",
    "print(\"Priemerná hodnota:\", average_value)"
   ]
  },
  {
   "cell_type": "markdown",
   "id": "e52b794d",
   "metadata": {},
   "source": [
    "PRIEMERNY SENTIMENT CLOVEKA"
   ]
  },
  {
   "cell_type": "code",
   "execution_count": 28,
   "id": "b219a9c6",
   "metadata": {},
   "outputs": [],
   "source": [
    "def calculate_average_sentiment(tweets):\n",
    "    if len(tweets) == 0:\n",
    "        return 0  # Ak nie sú žiadne tweety, vráti sa 0\n",
    "    # Vypočítanie celkového sentimentu sumovaním compound skóre pre každý tweet\n",
    "    # Compound skóre je agregátna hodnota, ktorá sumarizuje celkový sentiment tweetu\n",
    "    total_sentiment_score = sum(sid.polarity_scores(tweet)['compound'] for tweet in tweets)\n",
    "    return total_sentiment_score / len(tweets)"
   ]
  },
  {
   "cell_type": "code",
   "execution_count": 29,
   "id": "bb4cf4d3",
   "metadata": {},
   "outputs": [],
   "source": [
    "dataset['average_sentiment_score'] = dataset['processed_text'].apply(calculate_average_sentiment)"
   ]
  },
  {
   "cell_type": "code",
   "execution_count": 30,
   "id": "38da134f",
   "metadata": {},
   "outputs": [
    {
     "data": {
      "text/plain": [
       "0       0.019379\n",
       "1      -0.000972\n",
       "2       0.076185\n",
       "3       0.070260\n",
       "4       0.014392\n",
       "          ...   \n",
       "4527    0.029896\n",
       "4528    0.021743\n",
       "4529   -0.002853\n",
       "4530    0.001239\n",
       "4531    0.006721\n",
       "Name: average_sentiment_score, Length: 4532, dtype: float64"
      ]
     },
     "execution_count": 30,
     "metadata": {},
     "output_type": "execute_result"
    }
   ],
   "source": [
    "dataset['average_sentiment_score']"
   ]
  },
  {
   "cell_type": "code",
   "execution_count": 31,
   "id": "98c9920e",
   "metadata": {},
   "outputs": [],
   "source": [
    "min_value = dataset['average_sentiment_score'].min()\n",
    "max_value = dataset['average_sentiment_score'].max()\n",
    "average_value = dataset['average_sentiment_score'].mean()"
   ]
  },
  {
   "cell_type": "code",
   "execution_count": 32,
   "id": "cbbbd612",
   "metadata": {},
   "outputs": [
    {
     "name": "stdout",
     "output_type": "stream",
     "text": [
      "Najmenší prvok: -0.04067714631197105\n",
      "Najväčší prvok: 0.26737759078831164\n",
      "Priemerná hodnota: 0.03762712710076476\n"
     ]
    }
   ],
   "source": [
    "print(\"Najmenší prvok:\", min_value)\n",
    "print(\"Najväčší prvok:\", max_value)\n",
    "print(\"Priemerná hodnota:\", average_value)"
   ]
  },
  {
   "cell_type": "markdown",
   "id": "0515ca02",
   "metadata": {},
   "source": [
    "Dalšie spracovanie"
   ]
  },
  {
   "cell_type": "code",
   "execution_count": 33,
   "id": "ac0342a6",
   "metadata": {},
   "outputs": [],
   "source": [
    "def lemmatize_text(text):\n",
    "    if isinstance(text, list):\n",
    "        text = ' '.join(text)\n",
    "    # Spracovanie textu pomocou modelu spaCy\n",
    "    doc = nlp(text)\n",
    "    # Extrahovanie lemmatizovaných tokenov a odstránenie interpunkcie a medzier\n",
    "    lemmatized = [token.lemma_ for token in doc if not token.is_punct | token.is_space]\n",
    "    # Spojenie lemmatizovaných tokenov späť do reťazca\n",
    "    return lemmatized"
   ]
  },
  {
   "cell_type": "code",
   "execution_count": 34,
   "id": "30cf7686",
   "metadata": {},
   "outputs": [],
   "source": [
    "dataset['lemmatized_text'] = dataset['processed_text'].apply(lemmatize_text)"
   ]
  },
  {
   "cell_type": "markdown",
   "id": "81920ddf",
   "metadata": {},
   "source": [
    "PRIEMERNY POCET NEGATIVNYCH, KOGNITYVNYCH A SENZOROVYCH SLOV NA TWEET"
   ]
  },
  {
   "cell_type": "code",
   "execution_count": 35,
   "id": "71d7d719",
   "metadata": {},
   "outputs": [],
   "source": [
    "# Funkcia na počítanie negačných slov v zozname tokenov\n",
    "def count_negations(tokens):\n",
    "    # Definícia množiny negačných slov\n",
    "    negation_words = {\n",
    "        'not', 'no', 'never', 'nothing', 'none', 'neither', 'nor', 'nowhere', 'cannot', 'cant',\n",
    "        'dont', 'doesnt', 'isnt', 'arent', 'wont', 'wasnt', 'werent', 'havent', 'hasnt', 'hadnt',\n",
    "        'nobody', 'nín', 'naught', 'without', 'lack', 'missing', 'sans', 'void', 'minus', 'failed'\n",
    "    }\n",
    "    # Počíta počet výskytov negačných slov v zozname tokenov\n",
    "    return sum(token.lower() in negation_words for token in tokens)\n",
    "\n",
    "# Funkcia na počítanie slov spojených s kognitívnymi procesmi\n",
    "def count_cognitive_words(tokens):\n",
    "    # Definícia množiny slov, ktoré súvisia s myslením alebo poznávaním\n",
    "    cognitive_words = {'think', 'understand', 'know', 'believe', 'remember', 'imagine'}\n",
    "    # Počíta počet výskytov kognitívnych slov v zozname tokenov\n",
    "    return sum(token.lower() in cognitive_words for token in tokens)\n",
    "\n",
    "# Funkcia na počítanie slov, ktoré sú spojené so zmyslovými percepciami\n",
    "def count_sensory_words(tokens):\n",
    "    # Definícia množiny slov súvisiacich so zmyslami\n",
    "    sensory_words = {'see', 'hear', 'feel', 'taste', 'smell', 'touch', 'watch', 'observe', 'listen', 'sense'}\n",
    "    # Počíta počet výskytov zmyslových slov v zozname tokenov\n",
    "    return sum(token.lower() in sensory_words for token in tokens)\n"
   ]
  },
  {
   "cell_type": "code",
   "execution_count": 36,
   "id": "a5e1bd8f",
   "metadata": {},
   "outputs": [],
   "source": [
    "dataset['negation_count'] = dataset['lemmatized_text'].apply(count_negations)\n",
    "dataset['cognitive_word_count'] = dataset['lemmatized_text'].apply(count_cognitive_words)\n",
    "dataset['sensory_word_count'] = dataset['lemmatized_text'].apply(count_sensory_words)"
   ]
  },
  {
   "cell_type": "code",
   "execution_count": 37,
   "id": "7149140b",
   "metadata": {},
   "outputs": [],
   "source": [
    "dataset['average_negation_per_tweet'] = dataset.apply(\n",
    "    lambda row: row['negation_count'] / len(row['text']) if len(row['text']) > 0 else 0, axis=1)\n",
    "dataset['average_cognitive_word_per_tweet'] = dataset.apply(\n",
    "    lambda row: row['cognitive_word_count'] / len(row['text']) if len(row['text']) > 0 else 0, axis=1)\n",
    "dataset['average_sensory_word_per_tweet'] = dataset.apply(\n",
    "    lambda row: row['sensory_word_count'] / len(row['text']) if len(row['text']) > 0 else 0, axis=1)#predelenie po4tom tweetov, o3etrene delenim 0"
   ]
  },
  {
   "cell_type": "code",
   "execution_count": 38,
   "id": "6797fa82",
   "metadata": {},
   "outputs": [],
   "source": [
    "min_value = dataset['average_negation_per_tweet'].min()\n",
    "max_value = dataset['average_negation_per_tweet'].max()\n",
    "average_value = dataset['average_negation_per_tweet'].mean()"
   ]
  },
  {
   "cell_type": "code",
   "execution_count": 39,
   "id": "138318a2",
   "metadata": {},
   "outputs": [
    {
     "name": "stdout",
     "output_type": "stream",
     "text": [
      "Najmenší prvok: 0.0\n",
      "Najväčší prvok: 0.5501113585746102\n",
      "Priemerná hodnota: 0.08109711126464024\n"
     ]
    }
   ],
   "source": [
    "print(\"Najmenší prvok:\", min_value)\n",
    "print(\"Najväčší prvok:\", max_value)\n",
    "print(\"Priemerná hodnota:\", average_value)"
   ]
  },
  {
   "cell_type": "code",
   "execution_count": 40,
   "id": "f006644b",
   "metadata": {},
   "outputs": [],
   "source": [
    "min_value = dataset['average_cognitive_word_per_tweet'].min()\n",
    "max_value = dataset['average_cognitive_word_per_tweet'].max()\n",
    "average_value = dataset['average_cognitive_word_per_tweet'].mean()"
   ]
  },
  {
   "cell_type": "code",
   "execution_count": 41,
   "id": "2cf5b456",
   "metadata": {},
   "outputs": [
    {
     "name": "stdout",
     "output_type": "stream",
     "text": [
      "Najmenší prvok: 0.0\n",
      "Najväčší prvok: 0.6711229946524064\n",
      "Priemerná hodnota: 0.07423867566837998\n"
     ]
    }
   ],
   "source": [
    "print(\"Najmenší prvok:\", min_value)\n",
    "print(\"Najväčší prvok:\", max_value)\n",
    "print(\"Priemerná hodnota:\", average_value)"
   ]
  },
  {
   "cell_type": "code",
   "execution_count": 42,
   "id": "0c5aa90d",
   "metadata": {},
   "outputs": [],
   "source": [
    "min_value = dataset['average_sensory_word_per_tweet'].min()\n",
    "max_value = dataset['average_sensory_word_per_tweet'].max()\n",
    "average_value = dataset['average_sensory_word_per_tweet'].mean()"
   ]
  },
  {
   "cell_type": "code",
   "execution_count": 43,
   "id": "34bd7ce2",
   "metadata": {},
   "outputs": [
    {
     "name": "stdout",
     "output_type": "stream",
     "text": [
      "Najmenší prvok: 0.0\n",
      "Najväčší prvok: 0.6761710794297352\n",
      "Priemerná hodnota: 0.10630656057524293\n"
     ]
    }
   ],
   "source": [
    "print(\"Najmenší prvok:\", min_value)\n",
    "print(\"Najväčší prvok:\", max_value)\n",
    "print(\"Priemerná hodnota:\", average_value)"
   ]
  },
  {
   "cell_type": "markdown",
   "id": "1c6e8631",
   "metadata": {},
   "source": [
    "VYMAZANIE NEPOTREBNYCH STLPCOV"
   ]
  },
  {
   "cell_type": "code",
   "execution_count": 44,
   "id": "cb38e44f",
   "metadata": {},
   "outputs": [
    {
     "name": "stdout",
     "output_type": "stream",
     "text": [
      "<class 'pandas.core.frame.DataFrame'>\n",
      "RangeIndex: 4532 entries, 0 to 4531\n",
      "Data columns (total 25 columns):\n",
      " #   Column                            Non-Null Count  Dtype   \n",
      "---  ------                            --------------  -----   \n",
      " 0   text                              4532 non-null   object  \n",
      " 1   id                                4532 non-null   int64   \n",
      " 2   occupation                        4532 non-null   object  \n",
      " 3   gender                            4532 non-null   object  \n",
      " 4   fame                              4532 non-null   object  \n",
      " 5   birthyear                         4532 non-null   int64   \n",
      " 6   age                               4532 non-null   int64   \n",
      " 7   age_group                         4532 non-null   category\n",
      " 8   processed_text                    4532 non-null   object  \n",
      " 9   positive                          4532 non-null   int64   \n",
      " 10  negative                          4532 non-null   int64   \n",
      " 11  neutral                           4532 non-null   int64   \n",
      " 12  average_positive_per_tweet        4532 non-null   float64 \n",
      " 13  average_negative_per_tweet        4532 non-null   float64 \n",
      " 14  average_neutral_per_tweet         4532 non-null   float64 \n",
      " 15  entities_count                    4532 non-null   int64   \n",
      " 16  average_entities_per_tweet        4532 non-null   float64 \n",
      " 17  average_sentiment_score           4532 non-null   float64 \n",
      " 18  lemmatized_text                   4532 non-null   object  \n",
      " 19  negation_count                    4532 non-null   int64   \n",
      " 20  cognitive_word_count              4532 non-null   int64   \n",
      " 21  sensory_word_count                4532 non-null   int64   \n",
      " 22  average_negation_per_tweet        4532 non-null   float64 \n",
      " 23  average_cognitive_word_per_tweet  4532 non-null   float64 \n",
      " 24  average_sensory_word_per_tweet    4532 non-null   float64 \n",
      "dtypes: category(1), float64(8), int64(10), object(6)\n",
      "memory usage: 854.7+ KB\n"
     ]
    }
   ],
   "source": [
    "dataset.info()"
   ]
  },
  {
   "cell_type": "code",
   "execution_count": 45,
   "id": "7a04ee5f",
   "metadata": {},
   "outputs": [],
   "source": [
    "dataset=dataset.drop([ 'occupation',  'fame','birthyear', 'age', 'text','processed_text',  'positive','negative', 'neutral', 'entities_count','lemmatized_text',  'negation_count','cognitive_word_count', 'sensory_word_count' ], axis=1)"
   ]
  },
  {
   "cell_type": "code",
   "execution_count": 46,
   "id": "499f347e",
   "metadata": {},
   "outputs": [
    {
     "name": "stdout",
     "output_type": "stream",
     "text": [
      "<class 'pandas.core.frame.DataFrame'>\n",
      "RangeIndex: 4532 entries, 0 to 4531\n",
      "Data columns (total 11 columns):\n",
      " #   Column                            Non-Null Count  Dtype   \n",
      "---  ------                            --------------  -----   \n",
      " 0   id                                4532 non-null   int64   \n",
      " 1   gender                            4532 non-null   object  \n",
      " 2   age_group                         4532 non-null   category\n",
      " 3   average_positive_per_tweet        4532 non-null   float64 \n",
      " 4   average_negative_per_tweet        4532 non-null   float64 \n",
      " 5   average_neutral_per_tweet         4532 non-null   float64 \n",
      " 6   average_entities_per_tweet        4532 non-null   float64 \n",
      " 7   average_sentiment_score           4532 non-null   float64 \n",
      " 8   average_negation_per_tweet        4532 non-null   float64 \n",
      " 9   average_cognitive_word_per_tweet  4532 non-null   float64 \n",
      " 10  average_sensory_word_per_tweet    4532 non-null   float64 \n",
      "dtypes: category(1), float64(8), int64(1), object(1)\n",
      "memory usage: 359.0+ KB\n"
     ]
    }
   ],
   "source": [
    "dataset.info()"
   ]
  },
  {
   "cell_type": "markdown",
   "id": "366b6863",
   "metadata": {},
   "source": [
    "KATEGORICKE STLPCE"
   ]
  },
  {
   "cell_type": "markdown",
   "id": "61847bbf",
   "metadata": {},
   "source": [
    "Ideme zmeniť nenumerické stlpce na numerické aby som ich vedela použiť v strojovom učení (age_group). Text a Processed_text nemeníme, kedže ich neskôr vymažeme, ked už nebudú potrebné"
   ]
  },
  {
   "cell_type": "code",
   "execution_count": 47,
   "id": "a94db9b8",
   "metadata": {},
   "outputs": [],
   "source": [
    "le = LabelEncoder()\n",
    "dataset['age_group'] = le.fit_transform(dataset['age_group'])\n",
    "dataset['gender'] = le.fit_transform(dataset['gender'])"
   ]
  },
  {
   "cell_type": "code",
   "execution_count": 48,
   "id": "c429cc70",
   "metadata": {},
   "outputs": [
    {
     "data": {
      "text/html": [
       "<div>\n",
       "<style scoped>\n",
       "    .dataframe tbody tr th:only-of-type {\n",
       "        vertical-align: middle;\n",
       "    }\n",
       "\n",
       "    .dataframe tbody tr th {\n",
       "        vertical-align: top;\n",
       "    }\n",
       "\n",
       "    .dataframe thead th {\n",
       "        text-align: right;\n",
       "    }\n",
       "</style>\n",
       "<table border=\"1\" class=\"dataframe\">\n",
       "  <thead>\n",
       "    <tr style=\"text-align: right;\">\n",
       "      <th></th>\n",
       "      <th>id</th>\n",
       "      <th>gender</th>\n",
       "      <th>age_group</th>\n",
       "      <th>average_positive_per_tweet</th>\n",
       "      <th>average_negative_per_tweet</th>\n",
       "      <th>average_neutral_per_tweet</th>\n",
       "      <th>average_entities_per_tweet</th>\n",
       "      <th>average_sentiment_score</th>\n",
       "      <th>average_negation_per_tweet</th>\n",
       "      <th>average_cognitive_word_per_tweet</th>\n",
       "      <th>average_sensory_word_per_tweet</th>\n",
       "    </tr>\n",
       "  </thead>\n",
       "  <tbody>\n",
       "    <tr>\n",
       "      <th>0</th>\n",
       "      <td>11683</td>\n",
       "      <td>1</td>\n",
       "      <td>1</td>\n",
       "      <td>0.784416</td>\n",
       "      <td>0.446753</td>\n",
       "      <td>5.129870</td>\n",
       "      <td>0.205195</td>\n",
       "      <td>0.019379</td>\n",
       "      <td>0.480519</td>\n",
       "      <td>0.129870</td>\n",
       "      <td>0.122078</td>\n",
       "    </tr>\n",
       "    <tr>\n",
       "      <th>1</th>\n",
       "      <td>42738</td>\n",
       "      <td>1</td>\n",
       "      <td>3</td>\n",
       "      <td>1.068111</td>\n",
       "      <td>1.095975</td>\n",
       "      <td>9.123839</td>\n",
       "      <td>0.619195</td>\n",
       "      <td>-0.000972</td>\n",
       "      <td>0.130031</td>\n",
       "      <td>0.198142</td>\n",
       "      <td>0.232198</td>\n",
       "    </tr>\n",
       "    <tr>\n",
       "      <th>2</th>\n",
       "      <td>11006</td>\n",
       "      <td>1</td>\n",
       "      <td>1</td>\n",
       "      <td>1.708029</td>\n",
       "      <td>0.165450</td>\n",
       "      <td>4.783455</td>\n",
       "      <td>0.557178</td>\n",
       "      <td>0.076185</td>\n",
       "      <td>0.026764</td>\n",
       "      <td>0.060827</td>\n",
       "      <td>0.111922</td>\n",
       "    </tr>\n",
       "    <tr>\n",
       "      <th>3</th>\n",
       "      <td>28582</td>\n",
       "      <td>1</td>\n",
       "      <td>1</td>\n",
       "      <td>1.352304</td>\n",
       "      <td>0.189702</td>\n",
       "      <td>4.609756</td>\n",
       "      <td>0.466125</td>\n",
       "      <td>0.070260</td>\n",
       "      <td>0.056911</td>\n",
       "      <td>0.027100</td>\n",
       "      <td>0.084011</td>\n",
       "    </tr>\n",
       "    <tr>\n",
       "      <th>4</th>\n",
       "      <td>16463</td>\n",
       "      <td>1</td>\n",
       "      <td>4</td>\n",
       "      <td>1.067368</td>\n",
       "      <td>0.416842</td>\n",
       "      <td>11.496842</td>\n",
       "      <td>2.364211</td>\n",
       "      <td>0.014392</td>\n",
       "      <td>0.086316</td>\n",
       "      <td>0.155789</td>\n",
       "      <td>0.082105</td>\n",
       "    </tr>\n",
       "    <tr>\n",
       "      <th>5</th>\n",
       "      <td>3691</td>\n",
       "      <td>0</td>\n",
       "      <td>3</td>\n",
       "      <td>1.146597</td>\n",
       "      <td>0.188482</td>\n",
       "      <td>6.044503</td>\n",
       "      <td>1.007853</td>\n",
       "      <td>0.042360</td>\n",
       "      <td>0.041885</td>\n",
       "      <td>0.086387</td>\n",
       "      <td>0.133508</td>\n",
       "    </tr>\n",
       "    <tr>\n",
       "      <th>6</th>\n",
       "      <td>37297</td>\n",
       "      <td>1</td>\n",
       "      <td>2</td>\n",
       "      <td>1.142857</td>\n",
       "      <td>0.544643</td>\n",
       "      <td>8.416667</td>\n",
       "      <td>0.752976</td>\n",
       "      <td>0.015912</td>\n",
       "      <td>0.122024</td>\n",
       "      <td>0.139881</td>\n",
       "      <td>0.083333</td>\n",
       "    </tr>\n",
       "    <tr>\n",
       "      <th>7</th>\n",
       "      <td>5939</td>\n",
       "      <td>0</td>\n",
       "      <td>1</td>\n",
       "      <td>1.940397</td>\n",
       "      <td>0.741722</td>\n",
       "      <td>6.933775</td>\n",
       "      <td>0.433775</td>\n",
       "      <td>0.039608</td>\n",
       "      <td>0.039735</td>\n",
       "      <td>0.192053</td>\n",
       "      <td>0.135762</td>\n",
       "    </tr>\n",
       "    <tr>\n",
       "      <th>8</th>\n",
       "      <td>14209</td>\n",
       "      <td>0</td>\n",
       "      <td>1</td>\n",
       "      <td>0.962529</td>\n",
       "      <td>0.138173</td>\n",
       "      <td>5.290398</td>\n",
       "      <td>0.690867</td>\n",
       "      <td>0.037321</td>\n",
       "      <td>0.086651</td>\n",
       "      <td>0.028103</td>\n",
       "      <td>0.121780</td>\n",
       "    </tr>\n",
       "    <tr>\n",
       "      <th>9</th>\n",
       "      <td>45388</td>\n",
       "      <td>1</td>\n",
       "      <td>4</td>\n",
       "      <td>0.814815</td>\n",
       "      <td>0.335648</td>\n",
       "      <td>8.782407</td>\n",
       "      <td>1.601852</td>\n",
       "      <td>0.013947</td>\n",
       "      <td>0.175926</td>\n",
       "      <td>0.115741</td>\n",
       "      <td>0.060185</td>\n",
       "    </tr>\n",
       "  </tbody>\n",
       "</table>\n",
       "</div>"
      ],
      "text/plain": [
       "      id  gender  age_group  average_positive_per_tweet  \\\n",
       "0  11683       1          1                    0.784416   \n",
       "1  42738       1          3                    1.068111   \n",
       "2  11006       1          1                    1.708029   \n",
       "3  28582       1          1                    1.352304   \n",
       "4  16463       1          4                    1.067368   \n",
       "5   3691       0          3                    1.146597   \n",
       "6  37297       1          2                    1.142857   \n",
       "7   5939       0          1                    1.940397   \n",
       "8  14209       0          1                    0.962529   \n",
       "9  45388       1          4                    0.814815   \n",
       "\n",
       "   average_negative_per_tweet  average_neutral_per_tweet  \\\n",
       "0                    0.446753                   5.129870   \n",
       "1                    1.095975                   9.123839   \n",
       "2                    0.165450                   4.783455   \n",
       "3                    0.189702                   4.609756   \n",
       "4                    0.416842                  11.496842   \n",
       "5                    0.188482                   6.044503   \n",
       "6                    0.544643                   8.416667   \n",
       "7                    0.741722                   6.933775   \n",
       "8                    0.138173                   5.290398   \n",
       "9                    0.335648                   8.782407   \n",
       "\n",
       "   average_entities_per_tweet  average_sentiment_score  \\\n",
       "0                    0.205195                 0.019379   \n",
       "1                    0.619195                -0.000972   \n",
       "2                    0.557178                 0.076185   \n",
       "3                    0.466125                 0.070260   \n",
       "4                    2.364211                 0.014392   \n",
       "5                    1.007853                 0.042360   \n",
       "6                    0.752976                 0.015912   \n",
       "7                    0.433775                 0.039608   \n",
       "8                    0.690867                 0.037321   \n",
       "9                    1.601852                 0.013947   \n",
       "\n",
       "   average_negation_per_tweet  average_cognitive_word_per_tweet  \\\n",
       "0                    0.480519                          0.129870   \n",
       "1                    0.130031                          0.198142   \n",
       "2                    0.026764                          0.060827   \n",
       "3                    0.056911                          0.027100   \n",
       "4                    0.086316                          0.155789   \n",
       "5                    0.041885                          0.086387   \n",
       "6                    0.122024                          0.139881   \n",
       "7                    0.039735                          0.192053   \n",
       "8                    0.086651                          0.028103   \n",
       "9                    0.175926                          0.115741   \n",
       "\n",
       "   average_sensory_word_per_tweet  \n",
       "0                        0.122078  \n",
       "1                        0.232198  \n",
       "2                        0.111922  \n",
       "3                        0.084011  \n",
       "4                        0.082105  \n",
       "5                        0.133508  \n",
       "6                        0.083333  \n",
       "7                        0.135762  \n",
       "8                        0.121780  \n",
       "9                        0.060185  "
      ]
     },
     "execution_count": 48,
     "metadata": {},
     "output_type": "execute_result"
    }
   ],
   "source": [
    "dataset.head(10)"
   ]
  },
  {
   "cell_type": "code",
   "execution_count": 49,
   "id": "bb811340",
   "metadata": {},
   "outputs": [
    {
     "name": "stdout",
     "output_type": "stream",
     "text": [
      "<class 'pandas.core.frame.DataFrame'>\n",
      "RangeIndex: 4532 entries, 0 to 4531\n",
      "Data columns (total 11 columns):\n",
      " #   Column                            Non-Null Count  Dtype  \n",
      "---  ------                            --------------  -----  \n",
      " 0   id                                4532 non-null   int64  \n",
      " 1   gender                            4532 non-null   int64  \n",
      " 2   age_group                         4532 non-null   int64  \n",
      " 3   average_positive_per_tweet        4532 non-null   float64\n",
      " 4   average_negative_per_tweet        4532 non-null   float64\n",
      " 5   average_neutral_per_tweet         4532 non-null   float64\n",
      " 6   average_entities_per_tweet        4532 non-null   float64\n",
      " 7   average_sentiment_score           4532 non-null   float64\n",
      " 8   average_negation_per_tweet        4532 non-null   float64\n",
      " 9   average_cognitive_word_per_tweet  4532 non-null   float64\n",
      " 10  average_sensory_word_per_tweet    4532 non-null   float64\n",
      "dtypes: float64(8), int64(3)\n",
      "memory usage: 389.6 KB\n"
     ]
    }
   ],
   "source": [
    "dataset.info()"
   ]
  },
  {
   "cell_type": "code",
   "execution_count": 50,
   "id": "18e1821d",
   "metadata": {},
   "outputs": [],
   "source": [
    "dataset.to_json(\"semanticke_crty_ocisteny.json\", orient='records', lines=True)"
   ]
  },
  {
   "cell_type": "code",
   "execution_count": 51,
   "id": "4ea60f97",
   "metadata": {},
   "outputs": [
    {
     "data": {
      "image/png": "[encoded data removed]",
      "text/plain": [
       "<Figure size 1080x1080 with 2 Axes>"
      ]
     },
     "metadata": {
      "needs_background": "light"
     },
     "output_type": "display_data"
    }
   ],
   "source": [
    "dataset_corr=dataset.drop([ 'id'], axis=1)\n",
    "corr_matrix = dataset_corr.corr()\n",
    "\n",
    "# Vytvor heatmap\n",
    "plt.figure(figsize=(15, 15))  # Nastav veľkosť obrázka podľa potreby\n",
    "sns.heatmap(corr_matrix, annot=True, fmt=\".2f\", cmap='coolwarm', cbar=True)\n",
    "plt.title('Heatmap korelačnej matice')\n",
    "plt.show()"
   ]
  }
 ],
 "metadata": {
  "kernelspec": {
   "display_name": "Python 3 (ipykernel)",
   "language": "python",
   "name": "python3"
  },
  "language_info": {
   "codemirror_mode": {
    "name": "ipython",
    "version": 3
   },
   "file_extension": ".py",
   "mimetype": "text/x-python",
   "name": "python",
   "nbconvert_exporter": "python",
   "pygments_lexer": "ipython3",
   "version": "3.10.7"
  }
 },
 "nbformat": 4,
 "nbformat_minor": 5
}
