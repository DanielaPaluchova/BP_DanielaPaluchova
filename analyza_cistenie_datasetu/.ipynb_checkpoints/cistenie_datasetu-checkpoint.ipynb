{
 "cells": [
  {
   "cell_type": "markdown",
   "id": "f6d254f9-52d5-4115-b5b5-9f9036034757",
   "metadata": {},
   "source": [
    "## Čistenie datasetu"
   ]
  },
  {
   "cell_type": "code",
   "execution_count": 1,
   "id": "424b9247-892b-4e42-b230-331c64b0d083",
   "metadata": {},
   "outputs": [],
   "source": [
    "#inportovanie kniznic\n",
    "import pandas as pd\n",
    "import numpy as np\n",
    "from langdetect import detect\n",
    "from langdetect import LangDetectException\n",
    "import jsonlines\n",
    "import json"
   ]
  },
  {
   "cell_type": "markdown",
   "id": "21f1ba56",
   "metadata": {},
   "source": [
    "Načítanie datasetu - dataset je rozdeleny do dvoch suborov labels a feed a spojíme to spolu"
   ]
  },
  {
   "cell_type": "code",
   "execution_count": 2,
   "id": "0832c1ca-9ad0-467d-b3b3-f27c3601a16e",
   "metadata": {},
   "outputs": [],
   "source": [
    "labels_dict = {}\n",
    "# Najprv nacitame labels\n",
    "with open('../datasety/labels.ndjson', 'r', encoding='utf-8') as labels_file:\n",
    "    for label_line in labels_file:\n",
    "        label = json.loads(label_line)\n",
    "        labels_dict[label['id']] = label\n",
    "\n",
    "# Teraz prechádzame cez všetky feeds a priradíme im príslušné label\n",
    "combined_data = []\n",
    "with open('../datasety/feeds.ndjson', 'r', encoding='utf-8') as feeds_file:\n",
    "    for feed_line in feeds_file:\n",
    "        feed = json.loads(feed_line)\n",
    "        feed_id = feed['id']\n",
    "        \n",
    "        if feed_id in labels_dict:\n",
    "            for key, value in labels_dict[feed_id].items():\n",
    "                if key != 'id':\n",
    "                    feed[key] = value\n",
    "        else:\n",
    "            pass\n",
    "        combined_data.append(feed)"
   ]
  },
  {
   "cell_type": "code",
   "execution_count": 3,
   "id": "72e57187-ba9b-47c6-a0bf-f9412e3054e3",
   "metadata": {},
   "outputs": [
    {
     "data": {
      "text/html": [
       "<div>\n",
       "<style scoped>\n",
       "    .dataframe tbody tr th:only-of-type {\n",
       "        vertical-align: middle;\n",
       "    }\n",
       "\n",
       "    .dataframe tbody tr th {\n",
       "        vertical-align: top;\n",
       "    }\n",
       "\n",
       "    .dataframe thead th {\n",
       "        text-align: right;\n",
       "    }\n",
       "</style>\n",
       "<table border=\"1\" class=\"dataframe\">\n",
       "  <thead>\n",
       "    <tr style=\"text-align: right;\">\n",
       "      <th></th>\n",
       "      <th>text</th>\n",
       "      <th>id</th>\n",
       "      <th>occupation</th>\n",
       "      <th>gender</th>\n",
       "      <th>fame</th>\n",
       "      <th>birthyear</th>\n",
       "    </tr>\n",
       "  </thead>\n",
       "  <tbody>\n",
       "    <tr>\n",
       "      <th>0</th>\n",
       "      <td>[Back at it with @americanidol looking for...h...</td>\n",
       "      <td>22704</td>\n",
       "      <td>performer</td>\n",
       "      <td>female</td>\n",
       "      <td>superstar</td>\n",
       "      <td>1984</td>\n",
       "    </tr>\n",
       "    <tr>\n",
       "      <th>1</th>\n",
       "      <td>[The last presidential election turned on fewe...</td>\n",
       "      <td>46305</td>\n",
       "      <td>politics</td>\n",
       "      <td>male</td>\n",
       "      <td>superstar</td>\n",
       "      <td>1961</td>\n",
       "    </tr>\n",
       "    <tr>\n",
       "      <th>2</th>\n",
       "      <td>[Angels 😇 \\n@RobbieWilliams\\nhttps://t.co/A6rx...</td>\n",
       "      <td>30260</td>\n",
       "      <td>performer</td>\n",
       "      <td>female</td>\n",
       "      <td>superstar</td>\n",
       "      <td>1989</td>\n",
       "    </tr>\n",
       "    <tr>\n",
       "      <th>3</th>\n",
       "      <td>[Listen to “Shallow”, “Always Remember Us This...</td>\n",
       "      <td>4874</td>\n",
       "      <td>creator</td>\n",
       "      <td>female</td>\n",
       "      <td>superstar</td>\n",
       "      <td>1986</td>\n",
       "    </tr>\n",
       "    <tr>\n",
       "      <th>4</th>\n",
       "      <td>[So happy for my island! Vote for Madeira, for...</td>\n",
       "      <td>41392</td>\n",
       "      <td>manager</td>\n",
       "      <td>male</td>\n",
       "      <td>superstar</td>\n",
       "      <td>1985</td>\n",
       "    </tr>\n",
       "  </tbody>\n",
       "</table>\n",
       "</div>"
      ],
      "text/plain": [
       "                                                text     id occupation  \\\n",
       "0  [Back at it with @americanidol looking for...h...  22704  performer   \n",
       "1  [The last presidential election turned on fewe...  46305   politics   \n",
       "2  [Angels 😇 \\n@RobbieWilliams\\nhttps://t.co/A6rx...  30260  performer   \n",
       "3  [Listen to “Shallow”, “Always Remember Us This...   4874    creator   \n",
       "4  [So happy for my island! Vote for Madeira, for...  41392    manager   \n",
       "\n",
       "   gender       fame  birthyear  \n",
       "0  female  superstar       1984  \n",
       "1    male  superstar       1961  \n",
       "2  female  superstar       1989  \n",
       "3  female  superstar       1986  \n",
       "4    male  superstar       1985  "
      ]
     },
     "execution_count": 3,
     "metadata": {},
     "output_type": "execute_result"
    }
   ],
   "source": [
    "combined_data = pd.DataFrame(combined_data)\n",
    "combined_data.head()"
   ]
  },
  {
   "cell_type": "code",
   "execution_count": 4,
   "id": "618571e4-a259-44e8-8408-75bcd49d3059",
   "metadata": {},
   "outputs": [
    {
     "name": "stdout",
     "output_type": "stream",
     "text": [
      "<class 'pandas.core.frame.DataFrame'>\n",
      "RangeIndex: 33836 entries, 0 to 33835\n",
      "Data columns (total 6 columns):\n",
      " #   Column      Non-Null Count  Dtype \n",
      "---  ------      --------------  ----- \n",
      " 0   text        33836 non-null  object\n",
      " 1   id          33836 non-null  int64 \n",
      " 2   occupation  33836 non-null  object\n",
      " 3   gender      33836 non-null  object\n",
      " 4   fame        33836 non-null  object\n",
      " 5   birthyear   33836 non-null  int64 \n",
      "dtypes: int64(2), object(4)\n",
      "memory usage: 1.5+ MB\n"
     ]
    }
   ],
   "source": [
    "combined_data.info()"
   ]
  },
  {
   "cell_type": "markdown",
   "id": "73abe71c",
   "metadata": {},
   "source": [
    "Kedže to stále bol veľmi veľký dataset a tak kvôli pamäťovému a časovému hľadisku som si zobrala iba 30% z datasetu"
   ]
  },
  {
   "cell_type": "code",
   "execution_count": 5,
   "id": "afab5a7d",
   "metadata": {},
   "outputs": [],
   "source": [
    "combined_data = combined_data.sample(frac=0.3, random_state=42)"
   ]
  },
  {
   "cell_type": "code",
   "execution_count": 6,
   "id": "a94864d6",
   "metadata": {},
   "outputs": [
    {
     "name": "stdout",
     "output_type": "stream",
     "text": [
      "<class 'pandas.core.frame.DataFrame'>\n",
      "Int64Index: 10151 entries, 15283 to 12806\n",
      "Data columns (total 6 columns):\n",
      " #   Column      Non-Null Count  Dtype \n",
      "---  ------      --------------  ----- \n",
      " 0   text        10151 non-null  object\n",
      " 1   id          10151 non-null  int64 \n",
      " 2   occupation  10151 non-null  object\n",
      " 3   gender      10151 non-null  object\n",
      " 4   fame        10151 non-null  object\n",
      " 5   birthyear   10151 non-null  int64 \n",
      "dtypes: int64(2), object(4)\n",
      "memory usage: 555.1+ KB\n"
     ]
    }
   ],
   "source": [
    "combined_data.info()"
   ]
  },
  {
   "cell_type": "markdown",
   "id": "69a78041",
   "metadata": {},
   "source": [
    "Tento dataset sme si uložili (na tomto som urobila analýzu) aby sme vedeli porovnať analýzu pred očistením a po očistení"
   ]
  },
  {
   "cell_type": "code",
   "execution_count": 7,
   "id": "e5de527b",
   "metadata": {},
   "outputs": [],
   "source": [
    "combined_data.to_json(\"../datasety/pred_ocistenim_dataset.json\", orient='records', lines=True)#ulozenie datasetu pred očistením, až ho môžem analyzovať a nasledne porovnať s očisteným"
   ]
  },
  {
   "cell_type": "markdown",
   "id": "0672db81-664d-4159-90e0-a187050e38a3",
   "metadata": {},
   "source": [
    "Rozdelili sme si ľudí do kategorií podľa počtu príspevkov:"
   ]
  },
  {
   "cell_type": "code",
   "execution_count": 8,
   "id": "c7c6f55b-243a-46b3-a7be-3e859860a644",
   "metadata": {},
   "outputs": [
    {
     "name": "stdout",
     "output_type": "stream",
     "text": [
      "Rozdelenie počtu príspevkov podľa kategórií:\n",
      "0-20          107\n",
      "21-50          93\n",
      "51-100        152\n",
      "101-300       516\n",
      "301-500       435\n",
      "501-700       378\n",
      "701-1000      509\n",
      "1001-2000    1260\n",
      "2001-3000    6701\n",
      "3001+           0\n",
      "Name: post_category, dtype: int64\n"
     ]
    }
   ],
   "source": [
    "combined_data['post_count'] = combined_data['text'].apply(lambda x: len(x) if isinstance(x, list) else len(x.split(',')))\n",
    "\n",
    "bins = [0, 21, 51, 101, 301, 501,701, 1001, 2001, 3001, float('inf')]\n",
    "labels = ['0-20', '21-50', '51-100', '101-300', '301-500', '501-700','701-1000', '1001-2000', '2001-3000', '3001+']\n",
    "combined_data['post_category'] = pd.cut(combined_data['post_count'], bins=bins, labels=labels, right=False)\n",
    "\n",
    "post_count_distribution = combined_data['post_category'].value_counts().sort_index()\n",
    "\n",
    "print(\"Rozdelenie počtu príspevkov podľa kategórií:\")\n",
    "print(post_count_distribution)"
   ]
  },
  {
   "cell_type": "markdown",
   "id": "63e456f6",
   "metadata": {},
   "source": [
    "Zistime celkovy pocet prispevkov"
   ]
  },
  {
   "cell_type": "code",
   "execution_count": 9,
   "id": "b1c62cd9-19af-4f92-bfc4-b942ed6e70a0",
   "metadata": {},
   "outputs": [
    {
     "name": "stdout",
     "output_type": "stream",
     "text": [
      "Celkový počet príspevkov: 22273611\n"
     ]
    }
   ],
   "source": [
    "total_posts = combined_data['text'].apply(lambda x: len(x) if isinstance(x, list) else 0).sum()\n",
    "\n",
    "print(f\"Celkový počet príspevkov: {total_posts}\")"
   ]
  },
  {
   "cell_type": "markdown",
   "id": "c6d89fbb-6f74-4204-9333-2a763a090156",
   "metadata": {},
   "source": [
    "Dali sme to aby každý človek mal najviac 500 príspevkov (kvôli pamäti)"
   ]
  },
  {
   "cell_type": "code",
   "execution_count": 10,
   "id": "ef580c70-deb5-4ce1-9086-8f124ebed6cc",
   "metadata": {},
   "outputs": [],
   "source": [
    "combined_data['text'] = combined_data['text'].apply(lambda x: x[:500] if len(x) > 500 else x)"
   ]
  },
  {
   "cell_type": "markdown",
   "id": "681d8c18-6653-4887-9139-e6d141e895c2",
   "metadata": {},
   "source": [
    "Vymazali sme ludi, ktorí majú menej ako 300 príspevkov (lepšie sa bude analyzovať ľudí s viacerými príspevkami)"
   ]
  },
  {
   "cell_type": "code",
   "execution_count": 11,
   "id": "d2aa1edf-1618-4c0d-8702-da61107c59ba",
   "metadata": {},
   "outputs": [],
   "source": [
    "combined_data = combined_data[combined_data['post_count'] > 300]"
   ]
  },
  {
   "cell_type": "markdown",
   "id": "e76cd9cb-cf3a-4302-9859-5e9aac004043",
   "metadata": {},
   "source": [
    "Znova sme si zobrazili počty ľudí na počty príspevkoch"
   ]
  },
  {
   "cell_type": "code",
   "execution_count": 12,
   "id": "5c0e20eb-ad21-4d0a-a6f5-5ea2b9666d78",
   "metadata": {},
   "outputs": [
    {
     "name": "stdout",
     "output_type": "stream",
     "text": [
      "Rozdelenie počtu príspevkov podľa kategórií:\n",
      "301-400     227\n",
      "401-500    9056\n",
      "Name: post_category, dtype: int64\n"
     ]
    }
   ],
   "source": [
    "combined_data['post_count'] = combined_data['text'].apply(lambda x: len(x) if isinstance(x, list) else len(x.split(',')))\n",
    "\n",
    "bins = [ 301, 401, float('inf')]\n",
    "labels = ['301-400', '401-500']\n",
    "combined_data['post_category'] = pd.cut(combined_data['post_count'], bins=bins, labels=labels, right=False)\n",
    "\n",
    "post_count_distribution = combined_data['post_category'].value_counts().sort_index()\n",
    "\n",
    "print(\"Rozdelenie počtu príspevkov podľa kategórií:\")\n",
    "print(post_count_distribution)"
   ]
  },
  {
   "cell_type": "markdown",
   "id": "5de68810",
   "metadata": {},
   "source": [
    "Zistili sme si počet prispevkov celkový"
   ]
  },
  {
   "cell_type": "code",
   "execution_count": 13,
   "id": "bfdf1a93-2f83-4e7f-9a46-20ea81450577",
   "metadata": {},
   "outputs": [
    {
     "name": "stdout",
     "output_type": "stream",
     "text": [
      "Celkový počet príspevkov: 4597403\n"
     ]
    }
   ],
   "source": [
    "total_posts = combined_data['text'].apply(lambda x: len(x) if isinstance(x, list) else 0).sum()\n",
    "\n",
    "print(f\"Celkový počet príspevkov: {total_posts}\")"
   ]
  },
  {
   "cell_type": "markdown",
   "id": "a9bf73c4-3640-4836-b682-40527f2ff995",
   "metadata": {},
   "source": [
    "Funkcie na čistenie textu: na odstranenie retweetov (tie sa začínajú na RT), odstránenie neanglických tweetov (využitie knižnice detect) a vymazanie duplicitných tweetov človeka"
   ]
  },
  {
   "cell_type": "code",
   "execution_count": 14,
   "id": "204e222d-dcde-4149-968b-57f641bce053",
   "metadata": {},
   "outputs": [],
   "source": [
    "def remove_retweets(tweets):\n",
    "    return [tweet for tweet in tweets if not tweet.startswith(\"RT\")]"
   ]
  },
  {
   "cell_type": "code",
   "execution_count": 15,
   "id": "d43a3e32-d876-484d-8109-dd34de9199bd",
   "metadata": {},
   "outputs": [],
   "source": [
    "def remove_duplicates_tweets(tweets):\n",
    "    seen_tweets = set()\n",
    "    unique_tweets = []\n",
    "    for tweet in tweets:\n",
    "        if tweet not in seen_tweets:#ak ešte nie je tweet v seen_tweets, tak ju pridame do oboch poli\n",
    "            unique_tweets.append(tweet)\n",
    "            seen_tweets.add(tweet)\n",
    "    return unique_tweets"
   ]
  },
  {
   "cell_type": "code",
   "execution_count": 16,
   "id": "76d41e2e-bfda-4ab4-b600-3e70e2576cda",
   "metadata": {},
   "outputs": [],
   "source": [
    "def detect_languages(tweet_list):\n",
    "    languages = []\n",
    "    for text in tweet_list:\n",
    "        try:\n",
    "            # Detekuj jazyk pre každú položku v liste a pridaj ho do zoznamu languages\n",
    "            lang = detect(text)\n",
    "            languages.append(lang)\n",
    "        except LangDetectException:  # Ak detekcia zlyhá pre konkrétny text\n",
    "            languages.append(None)\n",
    "    return languages"
   ]
  },
  {
   "cell_type": "code",
   "execution_count": 17,
   "id": "51fa0b34-b124-459b-8980-cbe09e083026",
   "metadata": {},
   "outputs": [],
   "source": [
    "def filter_english_tweets(tweet_list, lang_list):\n",
    "    return [tweet for tweet, lang in zip(tweet_list, lang_list) if lang == 'en']#vracia iba tie tweety, ktore maju  priradeny anglicky jazyk"
   ]
  },
  {
   "cell_type": "markdown",
   "id": "37492846-6876-409d-b3ee-076732c078b9",
   "metadata": {},
   "source": [
    "Vždy po aplikovaní každého druhu čistenia si pozrieme počet celkových príspevkov po čistení a počet príspevkov podľa kategorií. Toto nám slúži na to aby sme si mohli porovnať ako dané čistenie malo vplyv na dataset, teda koľko príspevkov na twitteri sa vymazalo a zároveň z akej kategorie."
   ]
  },
  {
   "cell_type": "code",
   "execution_count": 18,
   "id": "66baad75-ed56-43ee-81e0-26ae79c086c1",
   "metadata": {},
   "outputs": [],
   "source": [
    "combined_data['text'] = combined_data['text'].apply(remove_retweets)"
   ]
  },
  {
   "cell_type": "code",
   "execution_count": 19,
   "id": "3130af51-2261-4187-b9ea-28479373145d",
   "metadata": {},
   "outputs": [
    {
     "name": "stdout",
     "output_type": "stream",
     "text": [
      "Rozdelenie počtu príspevkov podľa kategórií:\n",
      "301-400     227\n",
      "401-500    9041\n",
      "Name: post_category, dtype: int64\n"
     ]
    }
   ],
   "source": [
    "post_count_distribution = combined_data['post_category'].value_counts().sort_index()\n",
    "\n",
    "print(\"Rozdelenie počtu príspevkov podľa kategórií:\")\n",
    "print(post_count_distribution)"
   ]
  },
  {
   "cell_type": "markdown",
   "id": "a782173e",
   "metadata": {},
   "source": [
    "Niečo cez milion príspevkov sme vymazali"
   ]
  },
  {
   "cell_type": "code",
   "execution_count": 20,
   "id": "a229c12a-c35d-472c-b720-4844c5e70b84",
   "metadata": {},
   "outputs": [
    {
     "name": "stdout",
     "output_type": "stream",
     "text": [
      "Celkový počet príspevkov: 3205101\n"
     ]
    }
   ],
   "source": [
    "total_posts = combined_data['text'].apply(lambda x: len(x) if isinstance(x, list) else 0).sum()\n",
    "\n",
    "print(f\"Celkový počet príspevkov: {total_posts}\")"
   ]
  },
  {
   "cell_type": "markdown",
   "id": "750e31c3-404f-4452-8daa-ff9993e66db1",
   "metadata": {},
   "source": [
    "Odstránime neanglické tweety"
   ]
  },
  {
   "cell_type": "code",
   "execution_count": 22,
   "id": "97911c9d-02a0-4a4e-80ae-bf812c7132d3",
   "metadata": {},
   "outputs": [],
   "source": [
    "combined_data['detected_languages'] = combined_data['text'].apply(detect_languages)"
   ]
  },
  {
   "cell_type": "code",
   "execution_count": 24,
   "id": "bbdbaf54-dc7e-435c-aa9a-a5c086a8f9e5",
   "metadata": {},
   "outputs": [],
   "source": [
    "combined_data['text'] = combined_data.apply(lambda row: filter_english_tweets(row['text'], row['detected_languages']), axis=1)"
   ]
  },
  {
   "cell_type": "code",
   "execution_count": 25,
   "id": "be986ab5-a728-460f-bfa7-6ec8cf2f6003",
   "metadata": {},
   "outputs": [
    {
     "name": "stdout",
     "output_type": "stream",
     "text": [
      "Rozdelenie počtu príspevkov podľa kategórií:\n",
      "301-400     227\n",
      "401-500    9041\n",
      "Name: post_category, dtype: int64\n"
     ]
    }
   ],
   "source": [
    "post_count_distribution = combined_data['post_category'].value_counts().sort_index()\n",
    "\n",
    "print(\"Rozdelenie počtu príspevkov podľa kategórií:\")\n",
    "print(post_count_distribution)"
   ]
  },
  {
   "cell_type": "markdown",
   "id": "3da6ae33",
   "metadata": {},
   "source": [
    "Ako môžeme vidieť odstránilo sa dosť príspevkov"
   ]
  },
  {
   "cell_type": "code",
   "execution_count": 26,
   "id": "780c1008-6fc6-4c7e-abe9-402b08444c9b",
   "metadata": {},
   "outputs": [
    {
     "name": "stdout",
     "output_type": "stream",
     "text": [
      "Celkový počet príspevkov: 2615856\n"
     ]
    }
   ],
   "source": [
    "total_posts = combined_data['text'].apply(lambda x: len(x) if isinstance(x, list) else 0).sum()\n",
    "\n",
    "print(f\"Celkový počet príspevkov: {total_posts}\")"
   ]
  },
  {
   "cell_type": "markdown",
   "id": "0cf7090a-62dd-4e6f-ad21-cab3608f0279",
   "metadata": {},
   "source": [
    "Odstránime duplicitné riadky"
   ]
  },
  {
   "cell_type": "code",
   "execution_count": 27,
   "id": "979fc63c-579e-4554-96a3-8c06ef4e71b2",
   "metadata": {},
   "outputs": [],
   "source": [
    "combined_data = combined_data.drop_duplicates(subset=['id', 'occupation', 'gender', 'fame', 'birthyear'])"
   ]
  },
  {
   "cell_type": "code",
   "execution_count": 28,
   "id": "a4c83f14-2349-4855-9280-853f9f02d627",
   "metadata": {},
   "outputs": [
    {
     "name": "stdout",
     "output_type": "stream",
     "text": [
      "Rozdelenie počtu príspevkov podľa kategórií:\n",
      "301-400     227\n",
      "401-500    9041\n",
      "Name: post_category, dtype: int64\n"
     ]
    }
   ],
   "source": [
    "post_count_distribution = combined_data['post_category'].value_counts().sort_index()\n",
    "\n",
    "print(\"Rozdelenie počtu príspevkov podľa kategórií:\")\n",
    "print(post_count_distribution)"
   ]
  },
  {
   "cell_type": "markdown",
   "id": "943beadd",
   "metadata": {},
   "source": [
    "Môžeme vidieť, že tie sa nenachádzali v datasete"
   ]
  },
  {
   "cell_type": "code",
   "execution_count": 29,
   "id": "c971f167-26eb-45e4-ad13-78bc7afcfe5b",
   "metadata": {},
   "outputs": [
    {
     "name": "stdout",
     "output_type": "stream",
     "text": [
      "Celkový počet príspevkov: 2615856\n"
     ]
    }
   ],
   "source": [
    "total_posts = combined_data['text'].apply(lambda x: len(x) if isinstance(x, list) else 0).sum()\n",
    "\n",
    "print(f\"Celkový počet príspevkov: {total_posts}\")"
   ]
  },
  {
   "cell_type": "markdown",
   "id": "3a409657-9074-4d9b-98d6-7529fa6d9653",
   "metadata": {},
   "source": [
    "A následne aj duplicitné príspevky twitteru každého používateľa"
   ]
  },
  {
   "cell_type": "code",
   "execution_count": 30,
   "id": "018bf555-2e11-4010-983e-6dae9a21890e",
   "metadata": {},
   "outputs": [],
   "source": [
    "combined_data['text'] = combined_data['text'].apply(remove_duplicates_tweets)"
   ]
  },
  {
   "cell_type": "code",
   "execution_count": 31,
   "id": "424178c6-eaaf-4b37-9bbc-202da4e4380e",
   "metadata": {},
   "outputs": [
    {
     "name": "stdout",
     "output_type": "stream",
     "text": [
      "Rozdelenie počtu príspevkov podľa kategórií:\n",
      "301-400     227\n",
      "401-500    9041\n",
      "Name: post_category, dtype: int64\n"
     ]
    }
   ],
   "source": [
    "post_count_distribution = combined_data['post_category'].value_counts().sort_index()\n",
    "\n",
    "print(\"Rozdelenie počtu príspevkov podľa kategórií:\")\n",
    "print(post_count_distribution)"
   ]
  },
  {
   "cell_type": "code",
   "execution_count": 32,
   "id": "7a18e842-22ce-48a7-9368-3ba1b0043e62",
   "metadata": {},
   "outputs": [
    {
     "name": "stdout",
     "output_type": "stream",
     "text": [
      "Celkový počet príspevkov: 2608448\n"
     ]
    }
   ],
   "source": [
    "total_posts = combined_data['text'].apply(lambda x: len(x) if isinstance(x, list) else 0).sum()\n",
    "\n",
    "print(f\"Celkový počet príspevkov: {total_posts}\")"
   ]
  },
  {
   "cell_type": "markdown",
   "id": "0a273fa5-7ead-447e-9f34-b6ee5dc7442d",
   "metadata": {},
   "source": [
    "Nakoniec sme si po očisteni znova vymazali zaznamy, ktore meju menej ako 300 tweetov, lebo ako môžeme vidieť, tak celkový počet príspevkov sa dosť zmenšil"
   ]
  },
  {
   "cell_type": "code",
   "execution_count": 33,
   "id": "8d135c9e-fe2e-4018-9ba2-cb69dc656619",
   "metadata": {},
   "outputs": [],
   "source": [
    "combined_data['post_count'] = combined_data['text'].apply(lambda x: len(x) if isinstance(x, list) else len(x.split(',')))"
   ]
  },
  {
   "cell_type": "code",
   "execution_count": 34,
   "id": "a76fcb73-722b-437c-8753-d1b751383a6c",
   "metadata": {},
   "outputs": [],
   "source": [
    "combined_data = combined_data[combined_data['post_count'] > 300]"
   ]
  },
  {
   "cell_type": "code",
   "execution_count": 35,
   "id": "3f539c1a-465c-4658-bf95-6da8329cd81c",
   "metadata": {},
   "outputs": [
    {
     "name": "stdout",
     "output_type": "stream",
     "text": [
      "Rozdelenie počtu príspevkov podľa kategórií:\n",
      "301-400      24\n",
      "401-500    4512\n",
      "Name: post_category, dtype: int64\n"
     ]
    }
   ],
   "source": [
    "post_count_distribution = combined_data['post_category'].value_counts().sort_index()\n",
    "\n",
    "print(\"Rozdelenie počtu príspevkov podľa kategórií:\")\n",
    "print(post_count_distribution)"
   ]
  },
  {
   "cell_type": "code",
   "execution_count": 36,
   "id": "8747d992-f1c0-445b-97fe-afa9c4efb445",
   "metadata": {},
   "outputs": [
    {
     "name": "stdout",
     "output_type": "stream",
     "text": [
      "Celkový počet príspevkov: 1694502\n"
     ]
    }
   ],
   "source": [
    "total_posts = combined_data['text'].apply(lambda x: len(x) if isinstance(x, list) else 0).sum()\n",
    "\n",
    "print(f\"Celkový počet príspevkov: {total_posts}\")"
   ]
  },
  {
   "cell_type": "markdown",
   "id": "388c3ecb",
   "metadata": {},
   "source": [
    "Veľkosť datasetu sa nám o dosť zmenšila po čistení"
   ]
  },
  {
   "cell_type": "markdown",
   "id": "2aaed539-5ded-4fbc-a7d0-09c756d3be1e",
   "metadata": {},
   "source": [
    "Nakoniec pôjdeme vymazat pomocne stlpce"
   ]
  },
  {
   "cell_type": "code",
   "execution_count": 37,
   "id": "4173ce5c-5058-4077-b87f-b298251b42f5",
   "metadata": {},
   "outputs": [],
   "source": [
    "combined_data = combined_data.drop(['post_category', 'post_count', 'detected_languages'], axis=1)"
   ]
  },
  {
   "cell_type": "code",
   "execution_count": 38,
   "id": "87cf0bd6-d5b8-4b43-b4f7-02d496c4b754",
   "metadata": {},
   "outputs": [
    {
     "name": "stdout",
     "output_type": "stream",
     "text": [
      "<class 'pandas.core.frame.DataFrame'>\n",
      "Int64Index: 4536 entries, 23195 to 10034\n",
      "Data columns (total 6 columns):\n",
      " #   Column      Non-Null Count  Dtype \n",
      "---  ------      --------------  ----- \n",
      " 0   text        4536 non-null   object\n",
      " 1   id          4536 non-null   int64 \n",
      " 2   occupation  4536 non-null   object\n",
      " 3   gender      4536 non-null   object\n",
      " 4   fame        4536 non-null   object\n",
      " 5   birthyear   4536 non-null   int64 \n",
      "dtypes: int64(2), object(4)\n",
      "memory usage: 248.1+ KB\n"
     ]
    }
   ],
   "source": [
    "combined_data.info()"
   ]
  },
  {
   "cell_type": "markdown",
   "id": "80f37550-ccfc-4505-aa70-82cf3fc60245",
   "metadata": {},
   "source": [
    "Uložili sme si očisteny dataset"
   ]
  },
  {
   "cell_type": "code",
   "execution_count": 39,
   "id": "f0881ce5-8cac-4861-98ee-29de4b27f49b",
   "metadata": {},
   "outputs": [],
   "source": [
    "combined_data.to_json(\"ocisteny_dataset.json\", orient='records', lines=True)"
   ]
  },
  {
   "cell_type": "code",
   "execution_count": null,
   "id": "121216a5-8141-481f-8287-b7a4647af011",
   "metadata": {},
   "outputs": [],
   "source": []
  }
 ],
 "metadata": {
  "kernelspec": {
   "display_name": "Python 3 (ipykernel)",
   "language": "python",
   "name": "python3"
  },
  "language_info": {
   "codemirror_mode": {
    "name": "ipython",
    "version": 3
   },
   "file_extension": ".py",
   "mimetype": "text/x-python",
   "name": "python",
   "nbconvert_exporter": "python",
   "pygments_lexer": "ipython3",
   "version": "3.10.7"
  }
 },
 "nbformat": 4,
 "nbformat_minor": 5
}
